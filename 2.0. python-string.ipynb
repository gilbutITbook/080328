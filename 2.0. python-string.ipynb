{
 "cells": [
  {
   "cell_type": "markdown",
   "metadata": {
    "id": "UEER3xHuMlmd"
   },
   "source": [
    "[![Open In Colab](https://colab.research.google.com/assets/colab-badge.svg)](https://colab.research.google.com/github/pytextbook/pytextbook/blob/main/2.0.%20python-string.ipynb) \n",
    "\n",
    "\n",
    "https://docs.python.org/3/tutorial/introduction.html#strings"
   ]
  },
  {
   "cell_type": "markdown",
   "metadata": {
    "id": "wiPWjxzjMlmm"
   },
   "source": [
    "## 데이터의 타입"
   ]
  },
  {
   "cell_type": "code",
   "execution_count": 1,
   "metadata": {
    "colab": {
     "base_uri": "https://localhost:8080/"
    },
    "executionInfo": {
     "elapsed": 404,
     "status": "ok",
     "timestamp": 1672205479958,
     "user": {
      "displayName": "송영숙",
      "userId": "01138230862948206591"
     },
     "user_tz": -540
    },
    "id": "_4TT6zggMlmm",
    "outputId": "e5ddb620-21cf-4f9b-da8d-81270c7849c8"
   },
   "outputs": [
    {
     "data": {
      "text/plain": [
       "int"
      ]
     },
     "execution_count": 1,
     "metadata": {},
     "output_type": "execute_result"
    }
   ],
   "source": [
    "# 소수점이 없는 숫자는 int 형이다.\n",
    "type(1)"
   ]
  },
  {
   "cell_type": "code",
   "execution_count": 2,
   "metadata": {
    "colab": {
     "base_uri": "https://localhost:8080/"
    },
    "executionInfo": {
     "elapsed": 11,
     "status": "ok",
     "timestamp": 1672205378921,
     "user": {
      "displayName": "송영숙",
      "userId": "01138230862948206591"
     },
     "user_tz": -540
    },
    "id": "smDTBGJhMlmm",
    "outputId": "59c6626c-11da-4d58-aebf-9f117f508a0c"
   },
   "outputs": [
    {
     "data": {
      "text/plain": [
       "str"
      ]
     },
     "execution_count": 2,
     "metadata": {},
     "output_type": "execute_result"
    }
   ],
   "source": [
    "# 따옴표로 감싸주면 문자형으로 바뀐다.\n",
    "type(\"1\")"
   ]
  },
  {
   "cell_type": "code",
   "execution_count": 3,
   "metadata": {
    "colab": {
     "base_uri": "https://localhost:8080/"
    },
    "executionInfo": {
     "elapsed": 9,
     "status": "ok",
     "timestamp": 1672205378921,
     "user": {
      "displayName": "송영숙",
      "userId": "01138230862948206591"
     },
     "user_tz": -540
    },
    "id": "u3Vud6tQMlmm",
    "outputId": "9acbeb02-c6a6-428c-d3be-71d7111721ad"
   },
   "outputs": [
    {
     "data": {
      "text/plain": [
       "str"
      ]
     },
     "execution_count": 3,
     "metadata": {},
     "output_type": "execute_result"
    }
   ],
   "source": [
    "type(\"하나 One\")"
   ]
  },
  {
   "cell_type": "code",
   "execution_count": 4,
   "metadata": {
    "colab": {
     "base_uri": "https://localhost:8080/"
    },
    "executionInfo": {
     "elapsed": 8,
     "status": "ok",
     "timestamp": 1672205378922,
     "user": {
      "displayName": "송영숙",
      "userId": "01138230862948206591"
     },
     "user_tz": -540
    },
    "id": "oXBerIzWMlmm",
    "outputId": "10eab9c4-6e8f-49ed-cd0b-54604126c4f4"
   },
   "outputs": [
    {
     "data": {
      "text/plain": [
       "list"
      ]
     },
     "execution_count": 4,
     "metadata": {},
     "output_type": "execute_result"
    }
   ],
   "source": [
    "type([\"파이썬\", \"Python\"])"
   ]
  },
  {
   "cell_type": "markdown",
   "metadata": {
    "id": "oQVQZ1c6Mlmg"
   },
   "source": [
    "## 문자열"
   ]
  },
  {
   "cell_type": "code",
   "execution_count": 5,
   "metadata": {
    "colab": {
     "base_uri": "https://localhost:8080/",
     "height": 35
    },
    "executionInfo": {
     "elapsed": 12,
     "status": "ok",
     "timestamp": 1672205378920,
     "user": {
      "displayName": "송영숙",
      "userId": "01138230862948206591"
     },
     "user_tz": -540
    },
    "id": "S0_fdZJUMlmh",
    "outputId": "768cccb1-3c0d-4886-bdc6-9ef1e2927f95"
   },
   "outputs": [
    {
     "data": {
      "text/plain": [
       "'문자열은 큰따옴표나 작은따옴표로 표현할 수 있다.'"
      ]
     },
     "execution_count": 5,
     "metadata": {},
     "output_type": "execute_result"
    }
   ],
   "source": [
    "# 문자열은 큰따옴표나 작은따옴표로 표현할 수 있다.\n",
    "\"문자열은 큰따옴표나 작은따옴표로 표현할 수 있다.\""
   ]
  },
  {
   "cell_type": "code",
   "execution_count": 6,
   "metadata": {
    "colab": {
     "base_uri": "https://localhost:8080/",
     "height": 35
    },
    "executionInfo": {
     "elapsed": 427,
     "status": "ok",
     "timestamp": 1672208959995,
     "user": {
      "displayName": "송영숙",
      "userId": "01138230862948206591"
     },
     "user_tz": -540
    },
    "id": "tWCGkg_jMlmi",
    "outputId": "a68af2c3-5b05-4174-cc76-52cea4039742"
   },
   "outputs": [
    {
     "data": {
      "text/plain": [
       "'문자열은 큰따옴표나 작은따옴표로 표현할 수 있다.'"
      ]
     },
     "execution_count": 6,
     "metadata": {},
     "output_type": "execute_result"
    }
   ],
   "source": [
    "# 문자열은 큰따옴표나 작은따옴표로 표현할 수 있다.\n",
    "'문자열은 큰따옴표나 작은따옴표로 표현할 수 있다.'"
   ]
  },
  {
   "cell_type": "code",
   "execution_count": 7,
   "metadata": {
    "colab": {
     "base_uri": "https://localhost:8080/",
     "height": 137
    },
    "executionInfo": {
     "elapsed": 3,
     "status": "error",
     "timestamp": 1672208960579,
     "user": {
      "displayName": "송영숙",
      "userId": "01138230862948206591"
     },
     "user_tz": -540
    },
    "id": "9wLGIs9VMlmi",
    "outputId": "7617c2e7-635c-4791-ea71-bbf6f312a8d7"
   },
   "outputs": [
    {
     "ename": "SyntaxError",
     "evalue": "invalid syntax (3538172344.py, line 1)",
     "output_type": "error",
     "traceback": [
      "\u001b[0;36m  Cell \u001b[0;32mIn [7], line 1\u001b[0;36m\u001b[0m\n\u001b[0;31m    '작은따옴표 안에 '작은따옴표'를 쓰면 오류가 발생한다.'\u001b[0m\n\u001b[0m               ^\u001b[0m\n\u001b[0;31mSyntaxError\u001b[0m\u001b[0;31m:\u001b[0m invalid syntax\n"
     ]
    }
   ],
   "source": [
    "'작은따옴표 안에 '작은따옴표'를 쓰면 오류가 발생한다.'"
   ]
  },
  {
   "cell_type": "code",
   "execution_count": 8,
   "metadata": {
    "colab": {
     "base_uri": "https://localhost:8080/",
     "height": 35
    },
    "executionInfo": {
     "elapsed": 415,
     "status": "ok",
     "timestamp": 1672208964711,
     "user": {
      "displayName": "송영숙",
      "userId": "01138230862948206591"
     },
     "user_tz": -540
    },
    "id": "G3U9rQ5HMlmj",
    "outputId": "bbc5ab67-6bcb-4174-a3b2-6084a95782f0"
   },
   "outputs": [
    {
     "data": {
      "text/plain": [
       "\"그래서 문자열을 구현할 때 '작은따옴표'가 문자열 안에 들어 있다면 문장을 큰따옴표로 감싸주고 사용한다.\""
      ]
     },
     "execution_count": 8,
     "metadata": {},
     "output_type": "execute_result"
    }
   ],
   "source": [
    "\"그래서 문자열을 구현할 때 '작은따옴표'가 문자열 안에 들어 있다면 문장을 큰따옴표로 감싸주고 사용한다.\""
   ]
  },
  {
   "cell_type": "markdown",
   "metadata": {
    "id": "W9kZlcCZbbdW"
   },
   "source": [
    "## 오류 처리"
   ]
  },
  {
   "cell_type": "code",
   "execution_count": 9,
   "metadata": {
    "id": "1rwMev0QMlmj",
    "outputId": "28157ea7-6b88-41fc-8024-b6520e4b3d7c"
   },
   "outputs": [
    {
     "data": {
      "text/plain": [
       "\"작은따옴표로만 구현할 때 '역슬래시'를 통해 예외 처리를 할 수도 있다.\""
      ]
     },
     "execution_count": 9,
     "metadata": {},
     "output_type": "execute_result"
    }
   ],
   "source": [
    "'작은따옴표로만 구현할 때 \\'역슬래시\\'를 통해 예외 처리를 할 수도 있다.'"
   ]
  },
  {
   "cell_type": "code",
   "execution_count": 10,
   "metadata": {
    "id": "d8CLviVjMlmj",
    "outputId": "0cd77bd8-d3d0-4d31-c3ca-db095ac91436"
   },
   "outputs": [
    {
     "data": {
      "text/plain": [
       "'\\n줄바꿈\\n문자를\\n표현한다.\\n'"
      ]
     },
     "execution_count": 10,
     "metadata": {},
     "output_type": "execute_result"
    }
   ],
   "source": [
    "# 따옴표 3개를 앞뒤로 감싸주면 줄바꿈 문자를 표현한다.\n",
    "\"\"\"\n",
    "줄바꿈\n",
    "문자를\n",
    "표현한다.\n",
    "\"\"\""
   ]
  },
  {
   "cell_type": "markdown",
   "metadata": {
    "id": "jGbQdm7zcMOB"
   },
   "source": [
    "문자를 이어 작성하면 붙여서 반환이 된다."
   ]
  },
  {
   "cell_type": "code",
   "execution_count": 11,
   "metadata": {
    "id": "18pAQrhbMlmk",
    "outputId": "067abf76-adbd-48e0-e82d-85f3aa46cd3f"
   },
   "outputs": [
    {
     "data": {
      "text/plain": [
       "'Python'"
      ]
     },
     "execution_count": 11,
     "metadata": {},
     "output_type": "execute_result"
    }
   ],
   "source": [
    "'Py' 'thon'"
   ]
  },
  {
   "cell_type": "code",
   "execution_count": 12,
   "metadata": {
    "id": "ZgnCIM94Mlml",
    "outputId": "beab59ea-d214-4315-f61f-e90d3afa3953"
   },
   "outputs": [
    {
     "data": {
      "text/plain": [
       "2"
      ]
     },
     "execution_count": 12,
     "metadata": {},
     "output_type": "execute_result"
    }
   ],
   "source": [
    "# 따옴표가 없으면 숫자이다.\n",
    "1 + 1"
   ]
  },
  {
   "cell_type": "code",
   "execution_count": 13,
   "metadata": {
    "id": "OwrKvILsMlml",
    "outputId": "e9883818-d353-4a21-b22e-9447791ff2e1"
   },
   "outputs": [
    {
     "data": {
      "text/plain": [
       "'11'"
      ]
     },
     "execution_count": 13,
     "metadata": {},
     "output_type": "execute_result"
    }
   ],
   "source": [
    "# 따옴표가 있으면 문자이다.\n",
    "\"1\" + \"1\""
   ]
  },
  {
   "cell_type": "code",
   "execution_count": 14,
   "metadata": {
    "colab": {
     "base_uri": "https://localhost:8080/",
     "height": 35
    },
    "executionInfo": {
     "elapsed": 420,
     "status": "ok",
     "timestamp": 1672209530602,
     "user": {
      "displayName": "송영숙",
      "userId": "01138230862948206591"
     },
     "user_tz": -540
    },
    "id": "OgUK4LLLcvko",
    "outputId": "e9879e4b-fb88-4ce5-f56f-cdec58d30f07"
   },
   "outputs": [
    {
     "data": {
      "text/plain": [
       "'파이썬좋아요'"
      ]
     },
     "execution_count": 14,
     "metadata": {},
     "output_type": "execute_result"
    }
   ],
   "source": [
    "# 문자와 문자를 더하거나 곱해도 같은 결과를 보여준다.\n",
    "\n",
    "\"파이썬\" + \"좋아요\"\n"
   ]
  },
  {
   "cell_type": "code",
   "execution_count": 15,
   "metadata": {
    "colab": {
     "base_uri": "https://localhost:8080/",
     "height": 35
    },
    "executionInfo": {
     "elapsed": 392,
     "status": "ok",
     "timestamp": 1672209533345,
     "user": {
      "displayName": "송영숙",
      "userId": "01138230862948206591"
     },
     "user_tz": -540
    },
    "id": "2u0ZpWWEdGGq",
    "outputId": "c0e7c780-33ae-4fad-eb09-6b00d4c0d77d"
   },
   "outputs": [
    {
     "data": {
      "text/plain": [
       "'파이썬좋아요파이썬좋아요파이썬좋아요'"
      ]
     },
     "execution_count": 15,
     "metadata": {},
     "output_type": "execute_result"
    }
   ],
   "source": [
    "\"파이썬좋아요\" * 3"
   ]
  },
  {
   "cell_type": "markdown",
   "metadata": {
    "id": "RAmPH23JfsZm"
   },
   "source": [
    "더하기(+)를 이용해서 문자와 문자는 연결할 수 있지만 문자와 숫자는 연결할 수 없다"
   ]
  },
  {
   "cell_type": "code",
   "execution_count": 16,
   "metadata": {
    "colab": {
     "base_uri": "https://localhost:8080/",
     "height": 174
    },
    "executionInfo": {
     "elapsed": 404,
     "status": "error",
     "timestamp": 1672209539217,
     "user": {
      "displayName": "송영숙",
      "userId": "01138230862948206591"
     },
     "user_tz": -540
    },
    "id": "zSD1_gF3Mlmk",
    "outputId": "2d902d08-5b89-4b34-e452-118fe58e75a0"
   },
   "outputs": [
    {
     "ename": "TypeError",
     "evalue": "can only concatenate str (not \"int\") to str",
     "output_type": "error",
     "traceback": [
      "\u001b[0;31m---------------------------------------------------------------------------\u001b[0m",
      "\u001b[0;31mTypeError\u001b[0m                                 Traceback (most recent call last)",
      "Cell \u001b[0;32mIn [16], line 1\u001b[0m\n\u001b[0;32m----> 1\u001b[0m \u001b[38;5;124;43m\"\u001b[39;49m\u001b[38;5;124;43m문자는 숫자와 더할 수 없다.\u001b[39;49m\u001b[38;5;124;43m\"\u001b[39;49m\u001b[43m \u001b[49m\u001b[38;5;241;43m+\u001b[39;49m\u001b[43m \u001b[49m\u001b[38;5;241;43m1\u001b[39;49m\n",
      "\u001b[0;31mTypeError\u001b[0m: can only concatenate str (not \"int\") to str"
     ]
    }
   ],
   "source": [
    "\"문자는 숫자와 더할 수 없다.\" + 1 "
   ]
  },
  {
   "cell_type": "markdown",
   "metadata": {
    "id": "488WP4WQcX08"
   },
   "source": [
    "더하기(+)를 이용해서 문자와 문자는 연결할 수 있지만 문자와 숫자는 연결할 수 없다.  이럴 때는 f-string을 사용하여 연결할 수 있다."
   ]
  },
  {
   "cell_type": "code",
   "execution_count": 17,
   "metadata": {
    "colab": {
     "base_uri": "https://localhost:8080/",
     "height": 35
    },
    "executionInfo": {
     "elapsed": 418,
     "status": "ok",
     "timestamp": 1672210362754,
     "user": {
      "displayName": "송영숙",
      "userId": "01138230862948206591"
     },
     "user_tz": -540
    },
    "id": "_pT36jeaMlml",
    "outputId": "62fc0775-5686-422d-af22-9a311ce4f196"
   },
   "outputs": [
    {
     "data": {
      "text/plain": [
       "'1+1'"
      ]
     },
     "execution_count": 17,
     "metadata": {},
     "output_type": "execute_result"
    }
   ],
   "source": [
    "f\"1+{1}\""
   ]
  },
  {
   "cell_type": "code",
   "execution_count": 18,
   "metadata": {
    "colab": {
     "base_uri": "https://localhost:8080/",
     "height": 35
    },
    "executionInfo": {
     "elapsed": 413,
     "status": "ok",
     "timestamp": 1672210366678,
     "user": {
      "displayName": "송영숙",
      "userId": "01138230862948206591"
     },
     "user_tz": -540
    },
    "id": "fC60ZzB7Mlml",
    "outputId": "a85816e5-6c78-40a7-c7ad-0c3bfd984759"
   },
   "outputs": [
    {
     "data": {
      "text/plain": [
       "'오늘의 코로나 확진자는 0명 입니다.'"
      ]
     },
     "execution_count": 18,
     "metadata": {},
     "output_type": "execute_result"
    }
   ],
   "source": [
    "num = 0\n",
    "f\"오늘의 코로나 확진자는 {num}명 입니다.\""
   ]
  },
  {
   "cell_type": "markdown",
   "metadata": {
    "id": "kpz065b6Mlmn"
   },
   "source": [
    "## 변수\n",
    "변수(아래 코드에서 addess에 해당)에 문자열을 할당하면 코드 블록이 길게 이어지더라도 문자열을 손쉽게 다루고, 재사용할 수 있다. "
   ]
  },
  {
   "cell_type": "code",
   "execution_count": 19,
   "metadata": {
    "colab": {
     "base_uri": "https://localhost:8080/",
     "height": 35
    },
    "executionInfo": {
     "elapsed": 439,
     "status": "ok",
     "timestamp": 1672210413875,
     "user": {
      "displayName": "송영숙",
      "userId": "01138230862948206591"
     },
     "user_tz": -540
    },
    "id": "TbtAIc64Mlmn",
    "outputId": "2249c1af-a158-4f84-d176-4ebd9340efcb",
    "scrolled": true
   },
   "outputs": [
    {
     "data": {
      "text/plain": [
       "'서울특별시 강서구 방화3동 827 국립국어원'"
      ]
     },
     "execution_count": 19,
     "metadata": {},
     "output_type": "execute_result"
    }
   ],
   "source": [
    "address = \"서울특별시 강서구 방화3동 827 국립국어원\"\n",
    "address"
   ]
  },
  {
   "cell_type": "code",
   "execution_count": 20,
   "metadata": {
    "colab": {
     "base_uri": "https://localhost:8080/"
    },
    "executionInfo": {
     "elapsed": 6,
     "status": "ok",
     "timestamp": 1672210416589,
     "user": {
      "displayName": "송영숙",
      "userId": "01138230862948206591"
     },
     "user_tz": -540
    },
    "id": "8dVsnsXhMlmn",
    "outputId": "c4dc7056-fcd9-4417-ee5c-507954e552ed"
   },
   "outputs": [
    {
     "name": "stdout",
     "output_type": "stream",
     "text": [
      "['False', 'None', 'True', 'and', 'as', 'assert', 'async', 'await', 'break', 'class', 'continue', 'def', 'del', 'elif', 'else', 'except', 'finally', 'for', 'from', 'global', 'if', 'import', 'in', 'is', 'lambda', 'nonlocal', 'not', 'or', 'pass', 'raise', 'return', 'try', 'while', 'with', 'yield']\n"
     ]
    }
   ],
   "source": [
    "# 변수명을 정할 때 사용하지 말아야하는 예약어 목록\n",
    "from keyword import kwlist\n",
    "\n",
    "print(kwlist)"
   ]
  },
  {
   "cell_type": "markdown",
   "metadata": {
    "id": "8Nw7YnuNMlmn"
   },
   "source": [
    "## 인덱싱\n",
    "* 인덱싱은 인덱스 순서대로 값을 가져오는데 파이썬은 인덱스 순서가 0부터 시작해서 마지막 인덱스를 가져올 때는 -1로 가져온다. 뒤에서부터 인덱싱을 할때는 마이너스 값을 사용할 수 있는데 위에서 지정한 변수(adress)에 담긴 문자열에서 값을 가져온다."
   ]
  },
  {
   "cell_type": "code",
   "execution_count": 21,
   "metadata": {
    "colab": {
     "base_uri": "https://localhost:8080/",
     "height": 35
    },
    "executionInfo": {
     "elapsed": 415,
     "status": "ok",
     "timestamp": 1672211885046,
     "user": {
      "displayName": "송영숙",
      "userId": "01138230862948206591"
     },
     "user_tz": -540
    },
    "id": "Ig6pzSjKMlmn",
    "outputId": "9143ba9c-ef68-414b-e041-5536ec3661d5"
   },
   "outputs": [
    {
     "data": {
      "text/plain": [
       "'서'"
      ]
     },
     "execution_count": 21,
     "metadata": {},
     "output_type": "execute_result"
    }
   ],
   "source": [
    "address[0]"
   ]
  },
  {
   "cell_type": "code",
   "execution_count": 22,
   "metadata": {
    "colab": {
     "base_uri": "https://localhost:8080/",
     "height": 35
    },
    "executionInfo": {
     "elapsed": 411,
     "status": "ok",
     "timestamp": 1672211919914,
     "user": {
      "displayName": "송영숙",
      "userId": "01138230862948206591"
     },
     "user_tz": -540
    },
    "id": "oeGCGMeZMlmo",
    "outputId": "bd9ea212-81e2-4533-9396-859d397da85b"
   },
   "outputs": [
    {
     "data": {
      "text/plain": [
       "'울'"
      ]
     },
     "execution_count": 22,
     "metadata": {},
     "output_type": "execute_result"
    }
   ],
   "source": [
    "address[1]"
   ]
  },
  {
   "cell_type": "code",
   "execution_count": 23,
   "metadata": {
    "colab": {
     "base_uri": "https://localhost:8080/",
     "height": 35
    },
    "executionInfo": {
     "elapsed": 470,
     "status": "ok",
     "timestamp": 1672211922270,
     "user": {
      "displayName": "송영숙",
      "userId": "01138230862948206591"
     },
     "user_tz": -540
    },
    "id": "DG5Y5P6NMlmo",
    "outputId": "1c3bed2c-2de7-4e17-e1c4-6f36880dc626"
   },
   "outputs": [
    {
     "data": {
      "text/plain": [
       "'원'"
      ]
     },
     "execution_count": 23,
     "metadata": {},
     "output_type": "execute_result"
    }
   ],
   "source": [
    "address[-1]"
   ]
  },
  {
   "cell_type": "code",
   "execution_count": 24,
   "metadata": {
    "colab": {
     "base_uri": "https://localhost:8080/",
     "height": 35
    },
    "executionInfo": {
     "elapsed": 11,
     "status": "ok",
     "timestamp": 1672211922817,
     "user": {
      "displayName": "송영숙",
      "userId": "01138230862948206591"
     },
     "user_tz": -540
    },
    "id": "PowDkq0EMlmo",
    "outputId": "abbbc3ef-b4cd-49ea-be77-053ceb7cbf68"
   },
   "outputs": [
    {
     "data": {
      "text/plain": [
       "'어'"
      ]
     },
     "execution_count": 24,
     "metadata": {},
     "output_type": "execute_result"
    }
   ],
   "source": [
    "address[-2]"
   ]
  },
  {
   "cell_type": "markdown",
   "metadata": {
    "id": "jWbIVZgGMlmo"
   },
   "source": [
    "## 슬라이싱\n",
    "슬라이싱(Slicing)으로는 특정 위치의 문자, 범위를 지정해 출력할 수 있다. "
   ]
  },
  {
   "cell_type": "code",
   "execution_count": 25,
   "metadata": {
    "colab": {
     "base_uri": "https://localhost:8080/",
     "height": 35
    },
    "executionInfo": {
     "elapsed": 415,
     "status": "ok",
     "timestamp": 1672211955188,
     "user": {
      "displayName": "송영숙",
      "userId": "01138230862948206591"
     },
     "user_tz": -540
    },
    "id": "_vBUAPb5Mlmo",
    "outputId": "7c38d687-7ba2-4c91-89fb-db69e68b3a7b"
   },
   "outputs": [
    {
     "data": {
      "text/plain": [
       "'서울특별시 강서구 방화3동 827 국립국어원'"
      ]
     },
     "execution_count": 25,
     "metadata": {},
     "output_type": "execute_result"
    }
   ],
   "source": [
    "address[:]"
   ]
  },
  {
   "cell_type": "code",
   "execution_count": 26,
   "metadata": {
    "colab": {
     "base_uri": "https://localhost:8080/",
     "height": 35
    },
    "executionInfo": {
     "elapsed": 1294,
     "status": "ok",
     "timestamp": 1672211960804,
     "user": {
      "displayName": "송영숙",
      "userId": "01138230862948206591"
     },
     "user_tz": -540
    },
    "id": "9Wgjj24oMlmo",
    "outputId": "e46981df-eacd-4362-c377-d8f6789169fd"
   },
   "outputs": [
    {
     "data": {
      "text/plain": [
       "'서울특별시'"
      ]
     },
     "execution_count": 26,
     "metadata": {},
     "output_type": "execute_result"
    }
   ],
   "source": [
    "address[:5]"
   ]
  },
  {
   "cell_type": "code",
   "execution_count": 27,
   "metadata": {
    "colab": {
     "base_uri": "https://localhost:8080/",
     "height": 35
    },
    "executionInfo": {
     "elapsed": 3,
     "status": "ok",
     "timestamp": 1672211283089,
     "user": {
      "displayName": "송영숙",
      "userId": "01138230862948206591"
     },
     "user_tz": -540
    },
    "id": "-O4poBmmMlmo",
    "outputId": "0e504525-6a01-4697-e0b2-3b98946e5daf"
   },
   "outputs": [
    {
     "data": {
      "text/plain": [
       "'강서구'"
      ]
     },
     "execution_count": 27,
     "metadata": {},
     "output_type": "execute_result"
    }
   ],
   "source": [
    "address[6:9]"
   ]
  },
  {
   "cell_type": "code",
   "execution_count": 28,
   "metadata": {
    "colab": {
     "base_uri": "https://localhost:8080/",
     "height": 35
    },
    "executionInfo": {
     "elapsed": 542,
     "status": "ok",
     "timestamp": 1672211284406,
     "user": {
      "displayName": "송영숙",
      "userId": "01138230862948206591"
     },
     "user_tz": -540
    },
    "id": "kygkKyKZMlmp",
    "outputId": "a9bf590e-782f-4aaa-dbc1-21961934c97d"
   },
   "outputs": [
    {
     "data": {
      "text/plain": [
       "'서특시강구방3 2 립어'"
      ]
     },
     "execution_count": 28,
     "metadata": {},
     "output_type": "execute_result"
    }
   ],
   "source": [
    "address[::2]"
   ]
  },
  {
   "cell_type": "code",
   "execution_count": 29,
   "metadata": {
    "colab": {
     "base_uri": "https://localhost:8080/",
     "height": 35
    },
    "executionInfo": {
     "elapsed": 4,
     "status": "ok",
     "timestamp": 1672211285964,
     "user": {
      "displayName": "송영숙",
      "userId": "01138230862948206591"
     },
     "user_tz": -540
    },
    "id": "sJC6DkOkMlmp",
    "outputId": "807f5fce-0c51-4ea1-f438-5dfbfdf645f2"
   },
   "outputs": [
    {
     "data": {
      "text/plain": [
       "'원어국립국 728 동3화방 구서강 시별특울서'"
      ]
     },
     "execution_count": 29,
     "metadata": {},
     "output_type": "execute_result"
    }
   ],
   "source": [
    "address[::-1]"
   ]
  },
  {
   "cell_type": "markdown",
   "metadata": {
    "id": "zkD_QAGxn0lg"
   },
   "source": [
    "## 문자열의 길이, 단어 수\n",
    "\n",
    "len(변수 이름)방식으로 띄어쓰기를 포함하여 몇 음절로 되어 있는지 셀 수 있다."
   ]
  },
  {
   "cell_type": "code",
   "execution_count": 30,
   "metadata": {
    "colab": {
     "base_uri": "https://localhost:8080/"
    },
    "executionInfo": {
     "elapsed": 442,
     "status": "ok",
     "timestamp": 1672212395438,
     "user": {
      "displayName": "송영숙",
      "userId": "01138230862948206591"
     },
     "user_tz": -540
    },
    "id": "Y6WW3Vc6Mlmq",
    "outputId": "3c5ded90-d876-449c-a854-b142c8eca70a"
   },
   "outputs": [
    {
     "data": {
      "text/plain": [
       "6"
      ]
     },
     "execution_count": 30,
     "metadata": {},
     "output_type": "execute_result"
    }
   ],
   "source": [
    "len('국립 국어원')"
   ]
  },
  {
   "cell_type": "code",
   "execution_count": 31,
   "metadata": {
    "colab": {
     "base_uri": "https://localhost:8080/"
    },
    "executionInfo": {
     "elapsed": 421,
     "status": "ok",
     "timestamp": 1672212775119,
     "user": {
      "displayName": "송영숙",
      "userId": "01138230862948206591"
     },
     "user_tz": -540
    },
    "id": "BdWl5EqHMlmq",
    "outputId": "89827349-860a-47b1-a539-2fe882143810"
   },
   "outputs": [
    {
     "data": {
      "text/plain": [
       "3"
      ]
     },
     "execution_count": 31,
     "metadata": {},
     "output_type": "execute_result"
    }
   ],
   "source": [
    "# 중복된 단어를 제외하고 단어의 빈도수 계산(유일값 계산)\n",
    "len(set(\"서울 강서구 서울 국립국어원\".split()))"
   ]
  },
  {
   "cell_type": "code",
   "execution_count": 32,
   "metadata": {
    "colab": {
     "base_uri": "https://localhost:8080/"
    },
    "executionInfo": {
     "elapsed": 14,
     "status": "ok",
     "timestamp": 1672212763856,
     "user": {
      "displayName": "송영숙",
      "userId": "01138230862948206591"
     },
     "user_tz": -540
    },
    "id": "xl0Qf-VYMlmq",
    "outputId": "4b7f9044-da76-4114-b80d-423158feae23"
   },
   "outputs": [
    {
     "data": {
      "text/plain": [
       "4"
      ]
     },
     "execution_count": 32,
     "metadata": {},
     "output_type": "execute_result"
    }
   ],
   "source": [
    "# 중복된 단어를 포함하는 단어의 빈도수\n",
    "len(\"서울 강서구 서울 국립국어원\".split())"
   ]
  },
  {
   "cell_type": "markdown",
   "metadata": {
    "id": "eJ0pINeHpx8z"
   },
   "source": [
    "## 문자열 메서드"
   ]
  },
  {
   "cell_type": "code",
   "execution_count": 33,
   "metadata": {
    "executionInfo": {
     "elapsed": 431,
     "status": "ok",
     "timestamp": 1672212897260,
     "user": {
      "displayName": "송영숙",
      "userId": "01138230862948206591"
     },
     "user_tz": -540
    },
    "id": "qYnq0e-pMlmq"
   },
   "outputs": [],
   "source": [
    "use_python = \" 인생은 짧아요. Python을 쓰세요! \""
   ]
  },
  {
   "cell_type": "code",
   "execution_count": 34,
   "metadata": {
    "colab": {
     "base_uri": "https://localhost:8080/",
     "height": 35
    },
    "executionInfo": {
     "elapsed": 3,
     "status": "ok",
     "timestamp": 1672212898976,
     "user": {
      "displayName": "송영숙",
      "userId": "01138230862948206591"
     },
     "user_tz": -540
    },
    "id": "6edWtMtOMlmq",
    "outputId": "90334695-fd9b-44c7-842e-b5690a9279e9"
   },
   "outputs": [
    {
     "data": {
      "text/plain": [
       "' 인생은 짧아요. python을 쓰세요! '"
      ]
     },
     "execution_count": 34,
     "metadata": {},
     "output_type": "execute_result"
    }
   ],
   "source": [
    "# 소문자로 변환\n",
    "use_python.lower()"
   ]
  },
  {
   "cell_type": "code",
   "execution_count": 35,
   "metadata": {
    "colab": {
     "base_uri": "https://localhost:8080/",
     "height": 35
    },
    "executionInfo": {
     "elapsed": 499,
     "status": "ok",
     "timestamp": 1672212962289,
     "user": {
      "displayName": "송영숙",
      "userId": "01138230862948206591"
     },
     "user_tz": -540
    },
    "id": "LQHa8NQLMlmr",
    "outputId": "cc835054-3b2d-45fc-caba-6bdf3f4ba628"
   },
   "outputs": [
    {
     "data": {
      "text/plain": [
       "' 인생은 짧아요. PYTHON을 쓰세요! '"
      ]
     },
     "execution_count": 35,
     "metadata": {},
     "output_type": "execute_result"
    }
   ],
   "source": [
    "# 대문자로 변환\n",
    "use_python.upper()"
   ]
  },
  {
   "cell_type": "code",
   "execution_count": 36,
   "metadata": {
    "colab": {
     "base_uri": "https://localhost:8080/",
     "height": 35
    },
    "executionInfo": {
     "elapsed": 470,
     "status": "ok",
     "timestamp": 1672214204510,
     "user": {
      "displayName": "송영숙",
      "userId": "01138230862948206591"
     },
     "user_tz": -540
    },
    "id": "qqQJ-rCJMlmr",
    "outputId": "c6952b8a-3107-4e2e-92c8-32cb9d0f4321"
   },
   "outputs": [
    {
     "data": {
      "text/plain": [
       "'인생은 짧아요. Python을 쓰세요!'"
      ]
     },
     "execution_count": 36,
     "metadata": {},
     "output_type": "execute_result"
    }
   ],
   "source": [
    "# 앞뒤 공백을 제거\n",
    "use_python.strip()"
   ]
  },
  {
   "cell_type": "markdown",
   "metadata": {
    "id": "uifk88P1rhbe"
   },
   "source": [
    "strip() 메서드는 문자열의 가장 앞쪽과 뒤쪽에 있는 공백을 제거해주기 때문에 원래 문자열과 똑같아 보이지만 len()으로 확인해 보면 문자열의 길이는 2개가 줄어든다.  "
   ]
  },
  {
   "cell_type": "code",
   "execution_count": 37,
   "metadata": {
    "colab": {
     "base_uri": "https://localhost:8080/"
    },
    "executionInfo": {
     "elapsed": 417,
     "status": "ok",
     "timestamp": 1672214088558,
     "user": {
      "displayName": "송영숙",
      "userId": "01138230862948206591"
     },
     "user_tz": -540
    },
    "id": "X66qZFVQrGsP",
    "outputId": "808ae149-2429-4b95-80f5-fa564171e260"
   },
   "outputs": [
    {
     "data": {
      "text/plain": [
       "23"
      ]
     },
     "execution_count": 37,
     "metadata": {},
     "output_type": "execute_result"
    }
   ],
   "source": [
    "len(use_python)"
   ]
  },
  {
   "cell_type": "code",
   "execution_count": 38,
   "metadata": {
    "colab": {
     "base_uri": "https://localhost:8080/"
    },
    "executionInfo": {
     "elapsed": 450,
     "status": "ok",
     "timestamp": 1672214092072,
     "user": {
      "displayName": "송영숙",
      "userId": "01138230862948206591"
     },
     "user_tz": -540
    },
    "id": "ZSyn7iJwMlmr",
    "outputId": "63e79904-3f70-4361-f185-198a0ef4f3db"
   },
   "outputs": [
    {
     "data": {
      "text/plain": [
       "21"
      ]
     },
     "execution_count": 38,
     "metadata": {},
     "output_type": "execute_result"
    }
   ],
   "source": [
    "len(use_python.strip())"
   ]
  },
  {
   "cell_type": "markdown",
   "metadata": {
    "id": "oFXWHozgMlmr"
   },
   "source": [
    "## 추가, 분리, 정렬"
   ]
  },
  {
   "cell_type": "code",
   "execution_count": 39,
   "metadata": {
    "colab": {
     "base_uri": "https://localhost:8080/"
    },
    "executionInfo": {
     "elapsed": 504,
     "status": "ok",
     "timestamp": 1672216699735,
     "user": {
      "displayName": "송영숙",
      "userId": "01138230862948206591"
     },
     "user_tz": -540
    },
    "id": "TjGQDGdZMlmr",
    "outputId": "75450304-3425-4323-da8c-e0327773a80c"
   },
   "outputs": [
    {
     "data": {
      "text/plain": [
       "['서울특별시', '강서구', '방화동', '국립국어원', '1층']"
      ]
     },
     "execution_count": 39,
     "metadata": {},
     "output_type": "execute_result"
    }
   ],
   "source": [
    "# 추가\n",
    "address_words = ['서울특별시', '강서구', '방화동', '국립국어원'] \n",
    "address_words.append('1층')\n",
    "address_words "
   ]
  },
  {
   "cell_type": "code",
   "execution_count": 40,
   "metadata": {
    "colab": {
     "base_uri": "https://localhost:8080/"
    },
    "executionInfo": {
     "elapsed": 2,
     "status": "ok",
     "timestamp": 1672216707710,
     "user": {
      "displayName": "송영숙",
      "userId": "01138230862948206591"
     },
     "user_tz": -540
    },
    "id": "mEM1BOFjMlmr",
    "outputId": "f1291c10-67a6-40bb-a3a1-c0ff141e1fd5"
   },
   "outputs": [
    {
     "data": {
      "text/plain": [
       "['서울특별시', '강서구', '방화동', '국립국어원']"
      ]
     },
     "execution_count": 40,
     "metadata": {},
     "output_type": "execute_result"
    }
   ],
   "source": [
    "# 분리\n",
    "address = \"서울특별시 강서구 방화동 국립국어원\"\n",
    "words = address.split()\n",
    "words"
   ]
  },
  {
   "cell_type": "code",
   "execution_count": 41,
   "metadata": {
    "colab": {
     "base_uri": "https://localhost:8080/"
    },
    "executionInfo": {
     "elapsed": 2,
     "status": "ok",
     "timestamp": 1672216737930,
     "user": {
      "displayName": "송영숙",
      "userId": "01138230862948206591"
     },
     "user_tz": -540
    },
    "id": "g-G0pqjbMlms",
    "outputId": "62133da9-5918-4ed6-9a27-72708a80af31"
   },
   "outputs": [
    {
     "data": {
      "text/plain": [
       "['강서구', '국립국어원', '방화동', '서울특별시']"
      ]
     },
     "execution_count": 41,
     "metadata": {},
     "output_type": "execute_result"
    }
   ],
   "source": [
    "# 순방향 정렬\n",
    "address_words = ['서울특별시', '강서구', '방화동', '국립국어원'] \n",
    "address_words.sort()\n",
    "address_words"
   ]
  },
  {
   "cell_type": "code",
   "execution_count": 42,
   "metadata": {
    "colab": {
     "base_uri": "https://localhost:8080/"
    },
    "executionInfo": {
     "elapsed": 5,
     "status": "ok",
     "timestamp": 1672216757188,
     "user": {
      "displayName": "송영숙",
      "userId": "01138230862948206591"
     },
     "user_tz": -540
    },
    "id": "zvsHaA7GMlms",
    "outputId": "405fdb5c-1a3a-4c52-a81b-475ae359c52c"
   },
   "outputs": [
    {
     "data": {
      "text/plain": [
       "['국립국어원', '방화동', '강서구', '서울특별시']"
      ]
     },
     "execution_count": 42,
     "metadata": {},
     "output_type": "execute_result"
    }
   ],
   "source": [
    "# 역방향 정렬\n",
    "address_words = ['서울특별시', '강서구', '방화동', '국립국어원'] \n",
    "address_words.reverse()\n",
    "address_words"
   ]
  },
  {
   "cell_type": "code",
   "execution_count": 43,
   "metadata": {
    "colab": {
     "base_uri": "https://localhost:8080/"
    },
    "executionInfo": {
     "elapsed": 423,
     "status": "ok",
     "timestamp": 1672218636747,
     "user": {
      "displayName": "송영숙",
      "userId": "01138230862948206591"
     },
     "user_tz": -540
    },
    "id": "FbqeN3LwMlms",
    "outputId": "24d68e6f-9f47-4a2e-8163-838aa7021f63"
   },
   "outputs": [
    {
     "data": {
      "text/plain": [
       "['서울특별시', '강서구', '방화동', '국립국어원']"
      ]
     },
     "execution_count": 43,
     "metadata": {},
     "output_type": "execute_result"
    }
   ],
   "source": [
    "# 슬라이싱 [::-1]을 사용한 역방향 정렬\n",
    "address_words[::-1]"
   ]
  },
  {
   "cell_type": "code",
   "execution_count": 44,
   "metadata": {
    "colab": {
     "base_uri": "https://localhost:8080/",
     "height": 35
    },
    "executionInfo": {
     "elapsed": 3,
     "status": "ok",
     "timestamp": 1672218712114,
     "user": {
      "displayName": "송영숙",
      "userId": "01138230862948206591"
     },
     "user_tz": -540
    },
    "id": "z7DI_PfnMlms",
    "outputId": "1bd42ab9-d4cb-416b-9e52-316e34b0f869"
   },
   "outputs": [
    {
     "data": {
      "text/plain": [
       "'국립국어원 방화동 강서구 서울특별시'"
      ]
     },
     "execution_count": 44,
     "metadata": {},
     "output_type": "execute_result"
    }
   ],
   "source": [
    "\" \".join(address_words)"
   ]
  },
  {
   "cell_type": "code",
   "execution_count": 45,
   "metadata": {
    "colab": {
     "base_uri": "https://localhost:8080/",
     "height": 35
    },
    "executionInfo": {
     "elapsed": 714,
     "status": "ok",
     "timestamp": 1672218717147,
     "user": {
      "displayName": "송영숙",
      "userId": "01138230862948206591"
     },
     "user_tz": -540
    },
    "id": "rWUj5lK7Mlms",
    "outputId": "28727d61-67ae-49fe-ffb3-9c3dba4d18d2"
   },
   "outputs": [
    {
     "data": {
      "text/plain": [
       "'국립국어원-방화동-강서구-서울특별시'"
      ]
     },
     "execution_count": 45,
     "metadata": {},
     "output_type": "execute_result"
    }
   ],
   "source": [
    "# join()을 사용해 문자열 형태로 변경\n",
    "\"-\".join(address_words)"
   ]
  },
  {
   "cell_type": "markdown",
   "metadata": {
    "id": "UJN2Bz06Mlms"
   },
   "source": [
    "## 반복"
   ]
  },
  {
   "cell_type": "code",
   "execution_count": 46,
   "metadata": {
    "id": "LNgazv6CMlms",
    "outputId": "21e00f68-1621-405c-d9dd-aee20f3cfec1"
   },
   "outputs": [
    {
     "name": "stdout",
     "output_type": "stream",
     "text": [
      "사랑해\n",
      "사랑해\n",
      "사랑해\n"
     ]
    }
   ],
   "source": [
    "# range()의 괄호 안에 반복할 횟수를 설정\n",
    "for i in range(3):\n",
    "    # print()의 괄호 안에 입력한 단어를 출력하도록 설정\n",
    "    print(\"사랑해\")"
   ]
  },
  {
   "cell_type": "code",
   "execution_count": 47,
   "metadata": {
    "colab": {
     "base_uri": "https://localhost:8080/"
    },
    "executionInfo": {
     "elapsed": 429,
     "status": "ok",
     "timestamp": 1672218769258,
     "user": {
      "displayName": "송영숙",
      "userId": "01138230862948206591"
     },
     "user_tz": -540
    },
    "id": "WkOCzphTMlmt",
    "outputId": "3cf49d8c-9e97-459e-cf47-2bb5df256717"
   },
   "outputs": [
    {
     "name": "stdout",
     "output_type": "stream",
     "text": [
      "1\n",
      "4\n",
      "7\n"
     ]
    }
   ],
   "source": [
    "# 다음은 i가 1부터 시작해 10이 될 때까지 3씩 증가하는 것을 반복하는 for 반복문\n",
    "for i in range(1,10, 3):\n",
    "    print(i)"
   ]
  },
  {
   "cell_type": "markdown",
   "metadata": {
    "id": "49dOCl4GMlmt"
   },
   "source": [
    "## 함수\n",
    "반복되는 내용은 함수로 작성하면 편리하다."
   ]
  },
  {
   "cell_type": "code",
   "execution_count": 48,
   "metadata": {
    "executionInfo": {
     "elapsed": 422,
     "status": "ok",
     "timestamp": 1672218788864,
     "user": {
      "displayName": "송영숙",
      "userId": "01138230862948206591"
     },
     "user_tz": -540
    },
    "id": "mmbvCHmoMlmt"
   },
   "outputs": [],
   "source": [
    "# 함수를 정의한다.\n",
    "def text_preprocessing(txt):\n",
    "    \"\"\"\n",
    "    문자열에 포함된 영문자를 소문자로 만들고\n",
    "    문자열 양끝 공백을 제거하며\n",
    "    구두점(.)을 제거하는 사용자 정의 함수\n",
    "    \"\"\"\n",
    "    txt = txt.lower()\n",
    "    txt = txt.strip()\n",
    "    txt = txt.replace(\".\", \"\")\n",
    "    return txt"
   ]
  },
  {
   "cell_type": "code",
   "execution_count": 49,
   "metadata": {
    "colab": {
     "base_uri": "https://localhost:8080/",
     "height": 35
    },
    "executionInfo": {
     "elapsed": 3,
     "status": "ok",
     "timestamp": 1672218790199,
     "user": {
      "displayName": "송영숙",
      "userId": "01138230862948206591"
     },
     "user_tz": -540
    },
    "id": "yiFM85bAMlmv",
    "outputId": "0d4b11f4-fad9-49b3-8aea-9572384f7e60"
   },
   "outputs": [
    {
     "data": {
      "text/plain": [
       "'python 문자열 전처리 함수를 만들면 전처리 함수를 호출해서 여러 텍스트에 적용할 수 있습니다'"
      ]
     },
     "execution_count": 49,
     "metadata": {},
     "output_type": "execute_result"
    }
   ],
   "source": [
    "# 함수를 호출한다.\n",
    "txt = \" Python 문자열 전처리 함수를 만들면 전처리 함수를 호출해서 여러 텍스트에 적용할 수 있습니다. \"\n",
    "text_preprocessing(txt)"
   ]
  },
  {
   "cell_type": "markdown",
   "metadata": {
    "id": "D8B56papMlmv"
   },
   "source": [
    "## 문자열 내장 메서드 목록"
   ]
  },
  {
   "cell_type": "code",
   "execution_count": 50,
   "metadata": {
    "id": "jLp6Ae_mMlmw",
    "outputId": "4259d06f-7aa7-4a98-e194-e89c8b711283"
   },
   "outputs": [
    {
     "name": "stdout",
     "output_type": "stream",
     "text": [
      "['__add__', '__class__', '__contains__', '__delattr__', '__dir__', '__doc__', '__eq__', '__format__', '__ge__', '__getattribute__', '__getitem__', '__getnewargs__', '__gt__', '__hash__', '__init__', '__init_subclass__', '__iter__', '__le__', '__len__', '__lt__', '__mod__', '__mul__', '__ne__', '__new__', '__reduce__', '__reduce_ex__', '__repr__', '__rmod__', '__rmul__', '__setattr__', '__sizeof__', '__str__', '__subclasshook__', 'capitalize', 'casefold', 'center', 'count', 'encode', 'endswith', 'expandtabs', 'find', 'format', 'format_map', 'index', 'isalnum', 'isalpha', 'isascii', 'isdecimal', 'isdigit', 'isidentifier', 'islower', 'isnumeric', 'isprintable', 'isspace', 'istitle', 'isupper', 'join', 'ljust', 'lower', 'lstrip', 'maketrans', 'partition', 'removeprefix', 'removesuffix', 'replace', 'rfind', 'rindex', 'rjust', 'rpartition', 'rsplit', 'rstrip', 'split', 'splitlines', 'startswith', 'strip', 'swapcase', 'title', 'translate', 'upper', 'zfill']\n"
     ]
    }
   ],
   "source": [
    "print(dir(address))"
   ]
  },
  {
   "cell_type": "code",
   "execution_count": 51,
   "metadata": {
    "id": "NUoPSXc2Mlmw",
    "outputId": "dbdd616c-d37a-41c6-9c51-a52f5739e91a"
   },
   "outputs": [
    {
     "name": "stdout",
     "output_type": "stream",
     "text": [
      "capitalize, casefold, center, count, encode, endswith, expandtabs, find, format, format_map, index, isalnum, isalpha, isascii, isdecimal, isdigit, isidentifier, islower, isnumeric, isprintable, isspace, istitle, isupper, join, ljust, lower, lstrip, maketrans, partition, removeprefix, removesuffix, replace, rfind, rindex, rjust, rpartition, rsplit, rstrip, split, splitlines, startswith, strip, swapcase, title, translate, upper, zfill, "
     ]
    }
   ],
   "source": [
    "for func in dir(address):\n",
    "    if not func.startswith(\"__\"):\n",
    "        print(func, end = \", \")"
   ]
  },
  {
   "cell_type": "code",
   "execution_count": null,
   "metadata": {
    "id": "ZlA6FL_OMlmw"
   },
   "outputs": [],
   "source": []
  },
  {
   "cell_type": "code",
   "execution_count": null,
   "metadata": {},
   "outputs": [],
   "source": []
  }
 ],
 "metadata": {
  "colab": {
   "provenance": []
  },
  "kernelspec": {
   "display_name": "Python 3 (ipykernel)",
   "language": "python",
   "name": "python3"
  },
  "language_info": {
   "codemirror_mode": {
    "name": "ipython",
    "version": 3
   },
   "file_extension": ".py",
   "mimetype": "text/x-python",
   "name": "python",
   "nbconvert_exporter": "python",
   "pygments_lexer": "ipython3",
   "version": "3.10.7"
  },
  "toc": {
   "base_numbering": 1,
   "nav_menu": {},
   "number_sections": true,
   "sideBar": true,
   "skip_h1_title": false,
   "title_cell": "Table of Contents",
   "title_sidebar": "Contents",
   "toc_cell": false,
   "toc_position": {},
   "toc_section_display": true,
   "toc_window_display": true
  },
  "varInspector": {
   "cols": {
    "lenName": 16,
    "lenType": 16,
    "lenVar": 40
   },
   "kernels_config": {
    "python": {
     "delete_cmd_postfix": "",
     "delete_cmd_prefix": "del ",
     "library": "var_list.py",
     "varRefreshCmd": "print(var_dic_list())"
    },
    "r": {
     "delete_cmd_postfix": ") ",
     "delete_cmd_prefix": "rm(",
     "library": "var_list.r",
     "varRefreshCmd": "cat(var_dic_list()) "
    }
   },
   "types_to_exclude": [
    "module",
    "function",
    "builtin_function_or_method",
    "instance",
    "_Feature"
   ],
   "window_display": false
  }
 },
 "nbformat": 4,
 "nbformat_minor": 1
}
