{
 "cells": [
  {
   "cell_type": "markdown",
   "metadata": {
    "colab_type": "text",
    "id": "Ddb_N_hoGWLg"
   },
   "source": [
    "[![Open In Colab](https://colab.research.google.com/assets/colab-badge.svg)](https://colab.research.google.com/github/pytextbook/pytextbook/blob/main/6.3.%20%EA%B5%AD%EB%AF%BC%EC%B2%AD%EC%9B%90%20%ED%88%AC%ED%91%9C%EC%88%98%20%EC%9D%B4%EC%A7%84%EB%B6%84%EB%A5%98.ipynb) \n",
    "\n",
    "# 국민청원 데이터로 이진 분류하기"
   ]
  },
  {
   "cell_type": "markdown",
   "metadata": {
    "colab_type": "text",
    "id": "Ai6XYDVxGWLh"
   },
   "source": [
    "* 예제로 응답여부를 0과 1로 예측합니다.\n",
    "* 응답여부 외에도 청원의 카테고리를 예측하는 분류를 해볼 수도 있을것 같아요. \n",
    "* 이 예제를 참고하여 응답여부외에 청원내용으로 평균 이상의 투표를 받을 것인지 여부를 예측해 보면 좋겠습니다.\n",
    "* 파이썬의 머신러닝 라이브러리인 Scikit-learn을 사용합니다."
   ]
  },
  {
   "cell_type": "code",
   "execution_count": 1,
   "metadata": {
    "colab": {
     "base_uri": "https://localhost:8080/",
     "height": 52
    },
    "colab_type": "code",
    "executionInfo": {
     "elapsed": 1007,
     "status": "ok",
     "timestamp": 1550296264855,
     "user": {
      "displayName": "Joeun Park",
      "photoUrl": "https://lh6.googleusercontent.com/-JYBWhNoobh0/AAAAAAAAAAI/AAAAAAAADIs/8dW1MgKePR0/s64/photo.jpg",
      "userId": "17163383815352082166"
     },
     "user_tz": -540
    },
    "id": "_wQrrZ86GWLj",
    "outputId": "17471a21-5921-499d-ef0d-f3ef46df91d5"
   },
   "outputs": [
    {
     "name": "stdout",
     "output_type": "stream",
     "text": [
      "1.3.5\n",
      "1.21.6\n"
     ]
    }
   ],
   "source": [
    "import os\n",
    "import re\n",
    "import platform\n",
    "import pandas as pd\n",
    "import numpy as np\n",
    "print(pd.__version__)\n",
    "print(np.__version__)"
   ]
  },
  {
   "cell_type": "markdown",
   "metadata": {
    "colab_type": "text",
    "id": "0nh1yksKGWLn"
   },
   "source": [
    "# 데이터 로드하기\n",
    "*  데이터 출처 : https://github.com/akngs/petitions"
   ]
  },
  {
   "cell_type": "code",
   "execution_count": 2,
   "metadata": {},
   "outputs": [
    {
     "name": "stdout",
     "output_type": "stream",
     "text": [
      "/Users/corazzon/codes/pytextbook/data 경로에 파일이 있음\n"
     ]
    }
   ],
   "source": [
    "base_path = \"data\"\n",
    "file_name = \"petition.csv\"\n",
    "\n",
    "def file_exist_check(base_path, file_name):\n",
    "    if os.path.exists(f\"./{base_path}/{file_name}\"):\n",
    "        print(f\"{os.getcwd()}/{base_path} 경로에 파일이 있음\")\n",
    "        return\n",
    "\n",
    "    if not os.path.exists(base_path):\n",
    "        os.makedirs(base_path)\n",
    "    \n",
    "    if platform.system() == \"Linux\":\n",
    "        # 구글 드라이브에서 csv 파일을 읽어오기 위해 gauth 인증하기\n",
    "        !pip install -U -q PyDrive\n",
    "        from pydrive.auth import GoogleAuth\n",
    "        from pydrive.drive import GoogleDrive\n",
    "        from google.colab import auth\n",
    "        from oauth2client.client import GoogleCredentials\n",
    "        \n",
    "        auth.authenticate_user()\n",
    "        gauth = GoogleAuth()\n",
    "        gauth.credentials = GoogleCredentials.get_application_default()\n",
    "        drive = GoogleDrive(gauth)\n",
    "        url ='https://drive.google.com/open?id=1d8VEAj6n83wT1YRlCrhoU_1mMSvYpXc4'\n",
    "\n",
    "        id = url.split('=')[1]\n",
    "        downloaded = drive.CreateFile({'id':id}) \n",
    "        downloaded.GetContentFile(f'{base_path}/{file_name}')  \n",
    "        print(f\"사용자의 구글 드라이브에 {base_path}/{file_name} 다운로드 완료\")\n",
    "        return \n",
    "    else:\n",
    "        print(f\"{file_link} 에서 다운로드 받아 실습 경로 {os.getcwd()}/{base_path}에 옮겨주세요.\"\"\")\n",
    "        return\n",
    "    \n",
    "file_exist_check(base_path, file_name) "
   ]
  },
  {
   "cell_type": "code",
   "execution_count": 3,
   "metadata": {
    "colab": {
     "base_uri": "https://localhost:8080/",
     "height": 34
    },
    "colab_type": "code",
    "executionInfo": {
     "elapsed": 20980,
     "status": "ok",
     "timestamp": 1550296342305,
     "user": {
      "displayName": "Joeun Park",
      "photoUrl": "https://lh6.googleusercontent.com/-JYBWhNoobh0/AAAAAAAAAAI/AAAAAAAADIs/8dW1MgKePR0/s64/photo.jpg",
      "userId": "17163383815352082166"
     },
     "user_tz": -540
    },
    "id": "qZsZL9eBGWLo",
    "outputId": "f01dae3b-df65-4ed0-a48c-bfb0219b6f0e"
   },
   "outputs": [
    {
     "data": {
      "text/plain": [
       "(377756, 8)"
      ]
     },
     "execution_count": 3,
     "metadata": {},
     "output_type": "execute_result"
    }
   ],
   "source": [
    "petitions = pd.read_csv(f'{base_path}/petition.csv',\n",
    "                        parse_dates=['start', 'end'])\n",
    "petitions.shape"
   ]
  },
  {
   "cell_type": "code",
   "execution_count": 4,
   "metadata": {
    "colab": {
     "base_uri": "https://localhost:8080/",
     "height": 297
    },
    "colab_type": "code",
    "executionInfo": {
     "elapsed": 985,
     "status": "ok",
     "timestamp": 1550296342678,
     "user": {
      "displayName": "Joeun Park",
      "photoUrl": "https://lh6.googleusercontent.com/-JYBWhNoobh0/AAAAAAAAAAI/AAAAAAAADIs/8dW1MgKePR0/s64/photo.jpg",
      "userId": "17163383815352082166"
     },
     "user_tz": -540
    },
    "id": "cWPp0PaTGWLs",
    "outputId": "a7e2d4ad-fdb4-4f78-d020-d0e3125dd823"
   },
   "outputs": [
    {
     "data": {
      "text/html": [
       "<div>\n",
       "<style scoped>\n",
       "    .dataframe tbody tr th:only-of-type {\n",
       "        vertical-align: middle;\n",
       "    }\n",
       "\n",
       "    .dataframe tbody tr th {\n",
       "        vertical-align: top;\n",
       "    }\n",
       "\n",
       "    .dataframe thead th {\n",
       "        text-align: right;\n",
       "    }\n",
       "</style>\n",
       "<table border=\"1\" class=\"dataframe\">\n",
       "  <thead>\n",
       "    <tr style=\"text-align: right;\">\n",
       "      <th></th>\n",
       "      <th>article_id</th>\n",
       "      <th>answered</th>\n",
       "      <th>votes</th>\n",
       "    </tr>\n",
       "  </thead>\n",
       "  <tbody>\n",
       "    <tr>\n",
       "      <th>count</th>\n",
       "      <td>377756.000000</td>\n",
       "      <td>377756.000000</td>\n",
       "      <td>3.777560e+05</td>\n",
       "    </tr>\n",
       "    <tr>\n",
       "      <th>mean</th>\n",
       "      <td>239703.455924</td>\n",
       "      <td>0.000077</td>\n",
       "      <td>1.514069e+02</td>\n",
       "    </tr>\n",
       "    <tr>\n",
       "      <th>std</th>\n",
       "      <td>146382.863480</td>\n",
       "      <td>0.008761</td>\n",
       "      <td>4.842551e+03</td>\n",
       "    </tr>\n",
       "    <tr>\n",
       "      <th>min</th>\n",
       "      <td>21.000000</td>\n",
       "      <td>0.000000</td>\n",
       "      <td>0.000000e+00</td>\n",
       "    </tr>\n",
       "    <tr>\n",
       "      <th>25%</th>\n",
       "      <td>108933.750000</td>\n",
       "      <td>0.000000</td>\n",
       "      <td>1.000000e+00</td>\n",
       "    </tr>\n",
       "    <tr>\n",
       "      <th>50%</th>\n",
       "      <td>237637.000000</td>\n",
       "      <td>0.000000</td>\n",
       "      <td>5.000000e+00</td>\n",
       "    </tr>\n",
       "    <tr>\n",
       "      <th>75%</th>\n",
       "      <td>367937.250000</td>\n",
       "      <td>0.000000</td>\n",
       "      <td>1.500000e+01</td>\n",
       "    </tr>\n",
       "    <tr>\n",
       "      <th>max</th>\n",
       "      <td>492043.000000</td>\n",
       "      <td>1.000000</td>\n",
       "      <td>1.192049e+06</td>\n",
       "    </tr>\n",
       "  </tbody>\n",
       "</table>\n",
       "</div>"
      ],
      "text/plain": [
       "          article_id       answered         votes\n",
       "count  377756.000000  377756.000000  3.777560e+05\n",
       "mean   239703.455924       0.000077  1.514069e+02\n",
       "std    146382.863480       0.008761  4.842551e+03\n",
       "min        21.000000       0.000000  0.000000e+00\n",
       "25%    108933.750000       0.000000  1.000000e+00\n",
       "50%    237637.000000       0.000000  5.000000e+00\n",
       "75%    367937.250000       0.000000  1.500000e+01\n",
       "max    492043.000000       1.000000  1.192049e+06"
      ]
     },
     "execution_count": 4,
     "metadata": {},
     "output_type": "execute_result"
    }
   ],
   "source": [
    "petitions.describe()"
   ]
  },
  {
   "cell_type": "code",
   "execution_count": 5,
   "metadata": {
    "colab": {
     "base_uri": "https://localhost:8080/",
     "height": 34
    },
    "colab_type": "code",
    "executionInfo": {
     "elapsed": 889,
     "status": "ok",
     "timestamp": 1550296343716,
     "user": {
      "displayName": "Joeun Park",
      "photoUrl": "https://lh6.googleusercontent.com/-JYBWhNoobh0/AAAAAAAAAAI/AAAAAAAADIs/8dW1MgKePR0/s64/photo.jpg",
      "userId": "17163383815352082166"
     },
     "user_tz": -540
    },
    "id": "ZX-Js1ZnGWLx",
    "outputId": "d0d50f01-7b69-4c81-fbbf-74c33ae1c803"
   },
   "outputs": [
    {
     "data": {
      "text/plain": [
       "(5109, 8)"
      ]
     },
     "execution_count": 5,
     "metadata": {},
     "output_type": "execute_result"
    }
   ],
   "source": [
    "# 전체 데이터 중 투표가 500건 이상인 데이터를 기준으로 가져옵니다. \n",
    "# 아웃라이어 데이터 제거를 위해 20만건 이상 데이터도 제거합니다.\n",
    "petition_remove_outlier = petitions.loc[(petitions['votes'] > 500) & \n",
    "                                        (petitions['votes'] < 200000)]\n",
    "petition_remove_outlier.shape"
   ]
  },
  {
   "cell_type": "code",
   "execution_count": 6,
   "metadata": {
    "colab": {},
    "colab_type": "code",
    "id": "zhNm4m1UGWL0"
   },
   "outputs": [],
   "source": [
    "df = petition_remove_outlier.copy()"
   ]
  },
  {
   "cell_type": "code",
   "execution_count": 7,
   "metadata": {
    "colab": {
     "base_uri": "https://localhost:8080/",
     "height": 297
    },
    "colab_type": "code",
    "executionInfo": {
     "elapsed": 923,
     "status": "ok",
     "timestamp": 1550296443247,
     "user": {
      "displayName": "Joeun Park",
      "photoUrl": "https://lh6.googleusercontent.com/-JYBWhNoobh0/AAAAAAAAAAI/AAAAAAAADIs/8dW1MgKePR0/s64/photo.jpg",
      "userId": "17163383815352082166"
     },
     "user_tz": -540
    },
    "id": "WB-ltSN0GWL3",
    "outputId": "fa3c2996-5924-4a3f-93ea-72d0f2724d88"
   },
   "outputs": [
    {
     "data": {
      "text/html": [
       "<div>\n",
       "<style scoped>\n",
       "    .dataframe tbody tr th:only-of-type {\n",
       "        vertical-align: middle;\n",
       "    }\n",
       "\n",
       "    .dataframe tbody tr th {\n",
       "        vertical-align: top;\n",
       "    }\n",
       "\n",
       "    .dataframe thead th {\n",
       "        text-align: right;\n",
       "    }\n",
       "</style>\n",
       "<table border=\"1\" class=\"dataframe\">\n",
       "  <thead>\n",
       "    <tr style=\"text-align: right;\">\n",
       "      <th></th>\n",
       "      <th>article_id</th>\n",
       "      <th>answered</th>\n",
       "      <th>votes</th>\n",
       "    </tr>\n",
       "  </thead>\n",
       "  <tbody>\n",
       "    <tr>\n",
       "      <th>count</th>\n",
       "      <td>5109.000000</td>\n",
       "      <td>5109.0</td>\n",
       "      <td>5109.000000</td>\n",
       "    </tr>\n",
       "    <tr>\n",
       "      <th>mean</th>\n",
       "      <td>252208.264044</td>\n",
       "      <td>0.0</td>\n",
       "      <td>5674.709141</td>\n",
       "    </tr>\n",
       "    <tr>\n",
       "      <th>std</th>\n",
       "      <td>137485.014370</td>\n",
       "      <td>0.0</td>\n",
       "      <td>14334.261910</td>\n",
       "    </tr>\n",
       "    <tr>\n",
       "      <th>min</th>\n",
       "      <td>28.000000</td>\n",
       "      <td>0.0</td>\n",
       "      <td>501.000000</td>\n",
       "    </tr>\n",
       "    <tr>\n",
       "      <th>25%</th>\n",
       "      <td>145294.000000</td>\n",
       "      <td>0.0</td>\n",
       "      <td>771.000000</td>\n",
       "    </tr>\n",
       "    <tr>\n",
       "      <th>50%</th>\n",
       "      <td>242471.000000</td>\n",
       "      <td>0.0</td>\n",
       "      <td>1456.000000</td>\n",
       "    </tr>\n",
       "    <tr>\n",
       "      <th>75%</th>\n",
       "      <td>374255.000000</td>\n",
       "      <td>0.0</td>\n",
       "      <td>3794.000000</td>\n",
       "    </tr>\n",
       "    <tr>\n",
       "      <th>max</th>\n",
       "      <td>491954.000000</td>\n",
       "      <td>0.0</td>\n",
       "      <td>197343.000000</td>\n",
       "    </tr>\n",
       "  </tbody>\n",
       "</table>\n",
       "</div>"
      ],
      "text/plain": [
       "          article_id  answered          votes\n",
       "count    5109.000000    5109.0    5109.000000\n",
       "mean   252208.264044       0.0    5674.709141\n",
       "std    137485.014370       0.0   14334.261910\n",
       "min        28.000000       0.0     501.000000\n",
       "25%    145294.000000       0.0     771.000000\n",
       "50%    242471.000000       0.0    1456.000000\n",
       "75%    374255.000000       0.0    3794.000000\n",
       "max    491954.000000       0.0  197343.000000"
      ]
     },
     "execution_count": 7,
     "metadata": {},
     "output_type": "execute_result"
    }
   ],
   "source": [
    "df.describe()"
   ]
  },
  {
   "cell_type": "markdown",
   "metadata": {
    "colab_type": "text",
    "id": "Rm3fY9L7GWL6"
   },
   "source": [
    "# 이진분류 대상 정하기"
   ]
  },
  {
   "cell_type": "code",
   "execution_count": 8,
   "metadata": {
    "colab": {
     "base_uri": "https://localhost:8080/",
     "height": 34
    },
    "colab_type": "code",
    "executionInfo": {
     "elapsed": 922,
     "status": "ok",
     "timestamp": 1550296473512,
     "user": {
      "displayName": "Joeun Park",
      "photoUrl": "https://lh6.googleusercontent.com/-JYBWhNoobh0/AAAAAAAAAAI/AAAAAAAADIs/8dW1MgKePR0/s64/photo.jpg",
      "userId": "17163383815352082166"
     },
     "user_tz": -540
    },
    "id": "xRoBt62WGWL6",
    "outputId": "7ec3764e-b0e4-4f14-f14c-6eda4de58f50"
   },
   "outputs": [
    {
     "data": {
      "text/plain": [
       "(0, 8)"
      ]
     },
     "execution_count": 8,
     "metadata": {},
     "output_type": "execute_result"
    }
   ],
   "source": [
    "# 답변 대상 건\n",
    "df.loc[df['answered'] == 1].shape"
   ]
  },
  {
   "cell_type": "code",
   "execution_count": 9,
   "metadata": {
    "colab": {
     "base_uri": "https://localhost:8080/",
     "height": 286
    },
    "colab_type": "code",
    "executionInfo": {
     "elapsed": 1048,
     "status": "ok",
     "timestamp": 1550296485545,
     "user": {
      "displayName": "Joeun Park",
      "photoUrl": "https://lh6.googleusercontent.com/-JYBWhNoobh0/AAAAAAAAAAI/AAAAAAAADIs/8dW1MgKePR0/s64/photo.jpg",
      "userId": "17163383815352082166"
     },
     "user_tz": -540
    },
    "id": "sqeQ5caHGWL-",
    "outputId": "4f85cd86-378b-4a68-84bf-6f0cefdc2360"
   },
   "outputs": [
    {
     "data": {
      "text/plain": [
       "<AxesSubplot:ylabel='Frequency'>"
      ]
     },
     "execution_count": 9,
     "metadata": {},
     "output_type": "execute_result"
    },
    {
     "data": {
      "image/png": "[encoded data removed]",
      "text/plain": [
       "<Figure size 640x480 with 1 Axes>"
      ]
     },
     "metadata": {},
     "output_type": "display_data"
    }
   ],
   "source": [
    "df['votes'].plot.hist()"
   ]
  },
  {
   "cell_type": "markdown",
   "metadata": {
    "colab_type": "text",
    "id": "MF-j2CiAGWME"
   },
   "source": [
    "# 투표수를 평균보다 높게 혹은 적게 받는지 예측해 보기"
   ]
  },
  {
   "cell_type": "code",
   "execution_count": 10,
   "metadata": {
    "colab": {},
    "colab_type": "code",
    "id": "UGynO02lGWMF"
   },
   "outputs": [],
   "source": [
    "# 기본값을 0으로 설정\n",
    "df['votes_pos_neg'] = 0"
   ]
  },
  {
   "cell_type": "code",
   "execution_count": 11,
   "metadata": {
    "colab": {
     "base_uri": "https://localhost:8080/",
     "height": 34
    },
    "colab_type": "code",
    "executionInfo": {
     "elapsed": 1015,
     "status": "ok",
     "timestamp": 1550296537368,
     "user": {
      "displayName": "Joeun Park",
      "photoUrl": "https://lh6.googleusercontent.com/-JYBWhNoobh0/AAAAAAAAAAI/AAAAAAAADIs/8dW1MgKePR0/s64/photo.jpg",
      "userId": "17163383815352082166"
     },
     "user_tz": -540
    },
    "id": "vD764md3GWML",
    "outputId": "d8085b9b-f583-4ac7-cdca-20e4dcb356ba"
   },
   "outputs": [
    {
     "data": {
      "text/plain": [
       "5674.709140732041"
      ]
     },
     "execution_count": 11,
     "metadata": {},
     "output_type": "execute_result"
    }
   ],
   "source": [
    "# 평균 투표수\n",
    "votes_mean = df['votes'].mean()\n",
    "votes_mean"
   ]
  },
  {
   "cell_type": "code",
   "execution_count": 12,
   "metadata": {
    "colab": {},
    "colab_type": "code",
    "id": "-qvvZnLrGWMP"
   },
   "outputs": [],
   "source": [
    "# 투표수가 평균을 넘으면 1로 \n",
    "df['votes_pos_neg'] = (df['votes'] > votes_mean) == 1"
   ]
  },
  {
   "cell_type": "code",
   "execution_count": 13,
   "metadata": {
    "colab": {
     "base_uri": "https://localhost:8080/",
     "height": 34
    },
    "colab_type": "code",
    "executionInfo": {
     "elapsed": 1092,
     "status": "ok",
     "timestamp": 1550296552387,
     "user": {
      "displayName": "Joeun Park",
      "photoUrl": "https://lh6.googleusercontent.com/-JYBWhNoobh0/AAAAAAAAAAI/AAAAAAAADIs/8dW1MgKePR0/s64/photo.jpg",
      "userId": "17163383815352082166"
     },
     "user_tz": -540
    },
    "id": "nSEVttZlwt1z",
    "outputId": "73b77665-8830-49b5-e80a-a0e7098263b1"
   },
   "outputs": [
    {
     "data": {
      "text/plain": [
       "dtype('bool')"
      ]
     },
     "execution_count": 13,
     "metadata": {},
     "output_type": "execute_result"
    }
   ],
   "source": [
    "df['votes_pos_neg'].dtypes"
   ]
  },
  {
   "cell_type": "code",
   "execution_count": 14,
   "metadata": {
    "colab": {},
    "colab_type": "code",
    "id": "v_WUfsiBGWMR"
   },
   "outputs": [],
   "source": [
    "# 타입을 boolean 에서 int로 변경해 줍니다.\n",
    "df['votes_pos_neg'] = df['votes_pos_neg'].astype(int)"
   ]
  },
  {
   "cell_type": "code",
   "execution_count": 15,
   "metadata": {
    "colab": {
     "base_uri": "https://localhost:8080/",
     "height": 204
    },
    "colab_type": "code",
    "executionInfo": {
     "elapsed": 946,
     "status": "ok",
     "timestamp": 1550296600964,
     "user": {
      "displayName": "Joeun Park",
      "photoUrl": "https://lh6.googleusercontent.com/-JYBWhNoobh0/AAAAAAAAAAI/AAAAAAAADIs/8dW1MgKePR0/s64/photo.jpg",
      "userId": "17163383815352082166"
     },
     "user_tz": -540
    },
    "id": "qg5gannfGWMT",
    "outputId": "e6ed19bb-ffd8-46a1-cd2c-f4a9a02220c7"
   },
   "outputs": [
    {
     "data": {
      "text/html": [
       "<div>\n",
       "<style scoped>\n",
       "    .dataframe tbody tr th:only-of-type {\n",
       "        vertical-align: middle;\n",
       "    }\n",
       "\n",
       "    .dataframe tbody tr th {\n",
       "        vertical-align: top;\n",
       "    }\n",
       "\n",
       "    .dataframe thead th {\n",
       "        text-align: right;\n",
       "    }\n",
       "</style>\n",
       "<table border=\"1\" class=\"dataframe\">\n",
       "  <thead>\n",
       "    <tr style=\"text-align: right;\">\n",
       "      <th></th>\n",
       "      <th>votes</th>\n",
       "      <th>votes_pos_neg</th>\n",
       "    </tr>\n",
       "  </thead>\n",
       "  <tbody>\n",
       "    <tr>\n",
       "      <th>7</th>\n",
       "      <td>2137</td>\n",
       "      <td>0</td>\n",
       "    </tr>\n",
       "    <tr>\n",
       "      <th>13</th>\n",
       "      <td>679</td>\n",
       "      <td>0</td>\n",
       "    </tr>\n",
       "    <tr>\n",
       "      <th>21</th>\n",
       "      <td>11293</td>\n",
       "      <td>1</td>\n",
       "    </tr>\n",
       "    <tr>\n",
       "      <th>24</th>\n",
       "      <td>1933</td>\n",
       "      <td>0</td>\n",
       "    </tr>\n",
       "    <tr>\n",
       "      <th>28</th>\n",
       "      <td>1251</td>\n",
       "      <td>0</td>\n",
       "    </tr>\n",
       "  </tbody>\n",
       "</table>\n",
       "</div>"
      ],
      "text/plain": [
       "    votes  votes_pos_neg\n",
       "7    2137              0\n",
       "13    679              0\n",
       "21  11293              1\n",
       "24   1933              0\n",
       "28   1251              0"
      ]
     },
     "execution_count": 15,
     "metadata": {},
     "output_type": "execute_result"
    }
   ],
   "source": [
    "df[['votes', 'votes_pos_neg']].head()"
   ]
  },
  {
   "cell_type": "code",
   "execution_count": 16,
   "metadata": {
    "colab": {},
    "colab_type": "code",
    "id": "wGxJIX8PGWMX"
   },
   "outputs": [],
   "source": [
    "# 샘플로 보고 싶은 인덱스의 번호를 넣어주세요.\n",
    "sample_index = 13"
   ]
  },
  {
   "cell_type": "code",
   "execution_count": 17,
   "metadata": {
    "colab": {
     "base_uri": "https://localhost:8080/",
     "height": 34
    },
    "colab_type": "code",
    "executionInfo": {
     "elapsed": 994,
     "status": "ok",
     "timestamp": 1550296644210,
     "user": {
      "displayName": "Joeun Park",
      "photoUrl": "https://lh6.googleusercontent.com/-JYBWhNoobh0/AAAAAAAAAAI/AAAAAAAADIs/8dW1MgKePR0/s64/photo.jpg",
      "userId": "17163383815352082166"
     },
     "user_tz": -540
    },
    "id": "8CuehUNqGWMa",
    "outputId": "df362215-de02-4031-eb19-8e3658653ce5"
   },
   "outputs": [
    {
     "data": {
      "text/plain": [
       "'『국가유공자 등 예우 및 지원에 관한법률』상「6.25전몰군경 자녀수당」의 불합리한 문제점 개선 청원'"
      ]
     },
     "execution_count": 17,
     "metadata": {},
     "output_type": "execute_result"
    }
   ],
   "source": [
    "sample_title = df.loc[sample_index, 'title']\n",
    "sample_title"
   ]
  },
  {
   "cell_type": "code",
   "execution_count": 18,
   "metadata": {
    "colab": {
     "base_uri": "https://localhost:8080/",
     "height": 54
    },
    "colab_type": "code",
    "executionInfo": {
     "elapsed": 945,
     "status": "ok",
     "timestamp": 1550296649106,
     "user": {
      "displayName": "Joeun Park",
      "photoUrl": "https://lh6.googleusercontent.com/-JYBWhNoobh0/AAAAAAAAAAI/AAAAAAAADIs/8dW1MgKePR0/s64/photo.jpg",
      "userId": "17163383815352082166"
     },
     "user_tz": -540
    },
    "id": "qLIB5jOTGWMc",
    "outputId": "d27a0daf-8bdf-4d26-80bc-ab1b508ddbe9"
   },
   "outputs": [
    {
     "data": {
      "text/plain": [
       "'(현황)\\\\n우리들 아버지께서는 67여년전 북의 남침으로 조국이 위기에 처했을 때 젊은 목숨 을 바쳐 대한민국을 지켜내는데 헌신했습니다. 우리들 대부분의 아버님들 중 12만위는 전쟁 후 지금껏 유해도 수습 못했고 忌日도 제대로 알지 못하지만 오직 국가유공자의 자녀라는 자긍심으로 오랜 기간을 가난과 멸시 천대를 이겨왔습니다.\\\\n전후 원호제도는 빈약하여 전사자와 그 가족에 대한 보상과 연금 등은 너무 빈약했고,  그 후도 경제발전 수준을 따라가지도 못하였는데, 1960년대 말은 전쟁유자녀가 성년이 되었다는 이유로 보훈 보상혜택에서 제외시켰다가 김대중정부 시절 2001년7월부터 보훈제도가 확대되어 전후의 미흡했던 보훈혜택을 보전해주기 위해 1997년 12월31일을 기준으로 아래의 제적유자녀 1)와 승계유자녀 2)에게는 先順位자녀 1人에 대하여만「6ㆍ25전몰 군경자녀수당」을 지급하게 되었으나, 단서조항으로 1998년1월1일 이후 어머니 사망으로 연금수급권이 소멸되기 시작한 저희 유자녀들에 대하여는 동법 적용을 배제하여, 어머니 돌아가신 날 하루 차이로 “미수당유자녀” 아래표 3)라는 보훈정책의 사각지대가 생겨났던 것입니다.\\\\n신설된 수당과 유족연금이 노무현 정부이래 점차 현실화 인상 조정되고 이 문제가 장기간 누증되다보니\\\\n6.25전쟁에서 똑 같이 아버지가 전사한 군·경유자녀들인데, 누구는 국가의 지원을 받고 누구는 국가의 지원을 받지 못하는 형평성에 문제가 있는 『국가유공자 등 예우 및 지원에 관한 법률』제16조3(6.25자녀수당)의1,(단서조항 : 1998년 1월 1일을 삭제하는 법안)을 19대 국회에서 더민주당 민홍철 의원님(경남 김해)이 2014년 2월 대표발의 하시어 당시 여당의원 일부 반대의 우여곡절 끝에 전해철 법사위 소위원장님 등의 주도적 노력으로 2015년 11월30일 제337회 정기회에서 재석 의원 만장일치로 법이 통과되어 12월29일 법률 제13697호로 공포된바 있었습니다.\\\\n그럼에도 박근혜 정부는 동법 개정이유와 주요내용에서 입법부가 제안한대로 “특정일 기준 없이 6.25전몰군경유자녀에게 자녀수당을 지급하도록 하여 자녀간 형평성을 도모함과 이들에 대한 생활안정과 복지향상을 재고하려 한다.”고 밝히면서도 입법부의 개정 법률에 정면 위배되는 시행령(제27249호)으로 1,141천원: 970천원: 114천원이라는 불평등으로 호국영령의 명예와 최장 17여년을 기다려온 당사자들을 우롱하였던 것입니다.  그 결과, 현재까지 수당현황을 살펴보면\\\\n6.25 전몰군경 유자녀수당 현황\\\\n구  분                      인 원                      최초 시행일       최초 월수령액    2016년 수령액        현재  월수령액\\\\n1)제적 유자녀            5,400여명            2001.  7월           250,000원         1,141,000원           1,181,000원\\\\n2)승계 유자녀          10,500여명            2001.  7월          250,000원             970,000원           1,004,000원\\\\n3)未수당 유자녀(*신규) 12,600여명   2016.  7월          114,000원             114,000원            118,000원\\\\n※참고 : 유족 연금  5,000여명              /                 /                  100원          1,340,000원+a      전년과 동일\\\\n1) 제적유자녀 : 전사자의 미성년자녀로서 보상금을 받다가 성년이 되어 보상금을 받을 유족이 없어 지급대상에서\\\\n제적된 경우\\\\n2) 승계유자녀 : 전사자의 배우자 또는 부모가 보상금을 받다가 1997년 이전에 사망하여 수급권이 소멸한 경우\\\\n3)未수당유자녀 : 1998년 1월1일 이후에 전사자의 배우자 또는 부모가 보상금을 받다가 사망으로 수급권이 소멸한 경우\\\\n이상 구분과 호칭은 국가보훈처가 정한 것이며, 현재 유족연금 수령자의 자녀는 향후 유자녀수당 대상이 됩니다.\\\\n국가보훈처가 내세우는 보상금(수당)을 더 받고 덜 받는 형평성은 결국 조부모 또는 모친의 수명과 연관된 문제가 되어, 유족당 총수령액의 형평성은 위표 1), 2)유자녀가 2001년 7월부터 수당을 받기 시작한 수당 수령 총액과 1997년 말까지 보상금(연금)을 받은 위표 3)의 조부모 또는 모친의 보상금 수령 총액은 2010년 이전에 이미 역차별까지 발생하였는데도 보수정권하의 보훈처는 확대시행 자체를 반대만 했습니다.\\\\n더욱이 위표3)의 ‘미수당유자녀유족’의 보훈급여금 수령총액 평균이 75,872,600원에 불과하고, 6.25 전몰군경유족에 대한 국가보상은 1970년까지 수령총액이 112,200원, 2007년까지 부친 전사이후 약 60년간의 보상금 수령총액이 1억여원(기본급 기준)에 불과한데, 각종 사고 보상금 지급사례와 비교(보훈안보연구원 박혜란/유영옥 논문)하면 정전협정중인 나라가 이렇게 6.25전사자와 그 가족을 홀대하고 “나라를 위해 희생한 국가유공자와 유족은 국가가 끝까지 책임진다”고 떠들어온 보수정권의 허무맹랑한 호국보훈정책이었습니다.\\\\n「국가유공자예우법」상 보상과 보훈은 국가유공자의 국가에 대한 희생에 대한 보답에 있으므로 국가유공자의 배우자, 자녀, 부모의 위치에 따라 그 예우정도를 달리하는 것은 원칙에 어긋나며 제1차 선순위자로 유족이 된 자는 누구든 동일한 권리를 소유하고 행사할 수 있도록 국가가 보살펴 주어야 한다고 생각됨에도, 국가보훈처는 과거 “자녀는 미성년자녀에 한 한다.”고 규정하고 성년이 되었다는 이유로 연금지급대상에서 제외시켰던 것이 보훈정책의 근시안적 잘못이며 세계적으로 성년자녀에게는 보상을 해주지 않는다는 주무부처의 논리와 예산당국의 횡포는 동족간 전쟁의 아픔과 상처를 겪어보지 못한 국가정체성도 없는 공직자의 무지로, 전사자와 생존자간의 예우, 나아가 전사간의 예우에 불균형을 초래한 보훈정책의 과오였으며 독립운동유족의 3대까지 보살핌이나 국가보상법 시행령, 광주민주화운동보상법 등에서와 같이 별도의 차별 규정을 두지 않았다면 발생하지도 않았을 모순이라고 저희들은 지금까지 정부를 원망해왔습니다.\\\\n*6.25전사자 유족이 받은 연금(보상금) 총액과 아래표를 보시면 허탈한 저희 심경을 이해하실 것입니다.\\\\n<각 사망사고 보상금 비교>\\\\n광주민주화운동/2억332만원, 국고보상법/2억593만원, C랜드화재/3억5,000만원, 삼풍사고, 성수대교/ 3억5,000만원, 대구철도/5억8,000, 세월호 참사/4.5억~12억, 천안함 희생용사/7.5억~9.1억, 경주마우나리조트/10억, 아시아나 착륙사고/3.2억+a, 서해훼리호/4.4억 등등\\\\n대통령님께서 취임하신 후 광화문1번가, 인수위원회, 비서실에도 편지와 메일로 제안 및 호소를 드렸지만 바로 국가보훈처로 이첩되고 국가보훈처는 과거 보수정권하와 똑같이 앵무새와 같은 답변만 반복하고 있으며(답변 내용중 일부를 인용하면 :\\\\n* 98.1.1일 이후에도 보상금을 수령한 유족이 있는 유자녀가 동일한 수혜를 받았다고 보기는 어렵다는 정책적 판단 하에---.  *향후 국가재정 여건 등을 감안하여 관계부처와의 협의를 거쳐 점차 개선--운운),\\\\n저희들 대표와의 면담 신청마져 “업무수행과 대외행사 참여로 바쁘다”는 회신으로 경청도 소통도 거부하고 있습니다.\\\\n이런 국가보훈처의 업무태도와 의사소통은 대통령님이 바라시는 국정 운영 철학과는 너무나 다르다고 생각됩니다.\\\\n(청원의 해결 방안)\\\\n1. 국가유공자 등 예우 및 지원에 관한 법률 시행령 (제27249호 2016.6.23.), 별표5-5를 개정하되\\\\nA) 승계유자녀 2)에 신규 유자녀 3)(속칭 未수당유자녀)를 포함하여 차등 없이 일률 지급하시거나\\\\nB) 예산사정이 어렵다면 98.1.1부터 2016. 6.30까지 연금 수급권이 정지되었던 기간을 개별적으로 감안하시어\\\\n역순으로 약간의 인정할 수 있는 차등을 두는 방안은 당사자들도 납득할 수 있지 않을까 개인적으로는 생각하나\\\\n근원적 해결책은 아니라고 생각합니다.\\\\n2. 20대 국회에 [2001202호]「국가유공자 등 예우 및 지원에 관한 법률 일부 개정법률안」(더불어민주당 민홍철의원 등 14분)이 발의, 동법의 제정목적과 이념을 바로잡고, 6,25전사자와 그 유족의 명예회복과 6.25전몰군경유자녀(유족)간 갈등과 불평등을 해소할 수 있는 개정(안)이 현재 정무위원회에 계류중에 있으므로 의원입법으로 통과되도록 대통령님의 정책 배려 및 여당의 주도적 지원이 가능하리라 사료됩니다.\\\\n* 위 2안의 아쉬움은 국가를 위해 희생된 유자녀들 아버지 죽음에 대한 대가가 사회보장적, 생활 보호적 차원에서 보상을 한다는 것은 이미 평균나이 70세이상인 당사자들에게는 국민기초생활 보장 또는 노약자복지 차원과 중복되는 허탈감은 있으나, 국민기초생활보장법상의 생계급여가 기준중위소득의 29%(2017년까지 30%)인 점을 감안하여 40%이상 수준에서 합리적으로 결정하도록 최소기준을 정하고 있으므로 시행령으로 상위법을 무력화 시키는 행정권 남용과 원칙없는 불평등 해결의 차선책은 될 수 있다고 생각됩니다. (현재 118천원이 2017년 기준 약 667천원으로 조정되는 안)\\\\n(호소)\\\\n존경하는 문재인 대통령님!\\\\n대통령님께서는 지난 현충일 추념사에서 국가유공자와 보훈대상자, 그 가족이 자존감을 지키며 살아가실 수 있도록 하겠으며 국가를 위해 헌신하면 보상받고 반역자는 심판받는다는 흔들리지 않는 믿음이 있어야 한다고 말씀하시며 그것이 국민이 애국심을 바칠 수 있는, 나라다운 나라로, 애국이 보상받고, 정의가 보상받고, 원칙이 보상받고, 정직이 보상받는 나라를 다함께 만들어 나가자고 말씀하셨습니다.\\\\n아울러 독립유공자와 그 가족 행사 및 광복절 기념사에서 \"새 정부가 가장 중요하게 생각하는 일 중 하나가 보훈정책을 제대로 하는 것\"이라며 보훈처와 관련 정부 부처가 함께 보훈 보상체계 개선방안을 준비하고 있으며 이번 기회에 정부는 대한민국 보훈의 기틀을 완전히 새롭게 세우고자 한다고 하시어 저희들은 너무 마음 든든하였으나, 한가지 아쉬운 점은 독립운동 유족은 3대까지(1인이 아니라 전체로 확대), 참전용사와 무공영예수당의 대폭 인상, 순직 군인과 경찰 소방공무원 유족까지 처우 확대, 의료 확대 등을 언급하시면서 6.25전쟁에서 아버지를 잃고 유해마저 인수받지 못하고 불평등한 처우를 받고 있는 저희 유자녀들만 외면하시는 것은 아닌지 너무나 안타깝습니다.\\\\n사랑하는 부모형제와 젊은 부인, 핏덩이 자식을 남기고 전사하신 가장의 심정으로 보훈의 기틀을 다시 세우시면서 어머니 앞으로 국가에서 나온 연금만으로는 생활할 수도 없어 소년가장이 되어 가난하지만 자식의 효심으로 어머니를 조금 더 모시다가 가시게 한 미수당 or 신규유자녀들 위표3) 문제도 바로 잡아주시어 평균 70세 이상인 저희들이 아버지가 목숨바쳐 지킨 나라에서 남은 생을 자랑스럽게 살고 갈 수 있도록 청원드리오니 살펴주시기 바랍니다.'"
      ]
     },
     "execution_count": 18,
     "metadata": {},
     "output_type": "execute_result"
    }
   ],
   "source": [
    "sample_content = petitions.loc[sample_index, 'content']\n",
    "sample_content"
   ]
  },
  {
   "cell_type": "markdown",
   "metadata": {
    "colab_type": "text",
    "id": "Ftqshf06GWMg"
   },
   "source": [
    "# 전처리 하기 "
   ]
  },
  {
   "cell_type": "code",
   "execution_count": 19,
   "metadata": {
    "colab": {},
    "colab_type": "code",
    "id": "xwG3rIWUGWMh"
   },
   "outputs": [],
   "source": [
    "def preprocessing(text):\n",
    "    # 개행문자 제거\n",
    "    text = re.sub('\\\\\\\\n', ' ', text)\n",
    "    # 특수문자 제거\n",
    "    # 특수문자나 이모티콘 등은 때로는 의미를 갖기도 하지만 여기에서는 제거했습니다.\n",
    "    # text = re.sub('[?.,;:|\\)*~`’!^\\-_+<>@\\#$%&-=#}※]', '', text)\n",
    "    # 한글, 영문, 숫자만 남기고 모두 제거하도록 합니다.\n",
    "    # text = re.sub('[^가-힣ㄱ-ㅎㅏ-ㅣa-zA-Z0-9]', ' ', text)\n",
    "    # 한글, 영문만 남기고 모두 제거하도록 합니다.\n",
    "    text = re.sub('[^가-힣ㄱ-ㅎㅏ-ㅣa-zA-Z]', ' ', text)\n",
    "    # 중복으로 생성된 공백값을 제거합니다.\n",
    "    text = re.sub(' +', ' ', text)\n",
    "    return text"
   ]
  },
  {
   "cell_type": "code",
   "execution_count": 20,
   "metadata": {
    "colab": {},
    "colab_type": "code",
    "id": "jgbWrE_jGWMj"
   },
   "outputs": [],
   "source": [
    "# 불용어 제거\n",
    "def remove_stopwords(text):\n",
    "    tokens = text.split(' ')\n",
    "    stops = ['수', '현', '있는', '있습니다', '그', '년도', '합니다', '하는', \n",
    "             '및', '제', '할', '하고', '더', '대한', '한', '그리고', '월', \n",
    "             '저는', '없는', '입니다', '등', '일', '많은', '이런', '것은', \n",
    "             '왜','같은', '같습니다', '없습니다', '위해', '한다']\n",
    "    meaningful_words = [w for w in tokens if not w in stops]\n",
    "    return ' '.join(meaningful_words)"
   ]
  },
  {
   "cell_type": "code",
   "execution_count": 21,
   "metadata": {
    "colab": {
     "base_uri": "https://localhost:8080/",
     "height": 52
    },
    "colab_type": "code",
    "executionInfo": {
     "elapsed": 957,
     "status": "ok",
     "timestamp": 1550296789353,
     "user": {
      "displayName": "Joeun Park",
      "photoUrl": "https://lh6.googleusercontent.com/-JYBWhNoobh0/AAAAAAAAAAI/AAAAAAAADIs/8dW1MgKePR0/s64/photo.jpg",
      "userId": "17163383815352082166"
     },
     "user_tz": -540
    },
    "id": "O32FAOHqGWMk",
    "outputId": "551fe45e-c4a9-4b7b-d07b-f98053f0f9fb"
   },
   "outputs": [
    {
     "name": "stdout",
     "output_type": "stream",
     "text": [
      "CPU times: user 1.94 ms, sys: 35 µs, total: 1.98 ms\n",
      "Wall time: 2.02 ms\n"
     ]
    }
   ],
   "source": [
    "# 샘플데이터에 적용\n",
    "%time pre_sample_content = preprocessing(sample_content)"
   ]
  },
  {
   "cell_type": "code",
   "execution_count": 22,
   "metadata": {
    "colab": {
     "base_uri": "https://localhost:8080/",
     "height": 52
    },
    "colab_type": "code",
    "executionInfo": {
     "elapsed": 868,
     "status": "ok",
     "timestamp": 1550296789721,
     "user": {
      "displayName": "Joeun Park",
      "photoUrl": "https://lh6.googleusercontent.com/-JYBWhNoobh0/AAAAAAAAAAI/AAAAAAAADIs/8dW1MgKePR0/s64/photo.jpg",
      "userId": "17163383815352082166"
     },
     "user_tz": -540
    },
    "id": "ib92t6XCGWMm",
    "outputId": "204f07ea-0faa-4af0-a98c-351892c9c18b"
   },
   "outputs": [
    {
     "name": "stdout",
     "output_type": "stream",
     "text": [
      "CPU times: user 422 µs, sys: 0 ns, total: 422 µs\n",
      "Wall time: 426 µs\n"
     ]
    }
   ],
   "source": [
    "%time pre_sample_content = remove_stopwords(pre_sample_content)"
   ]
  },
  {
   "cell_type": "code",
   "execution_count": 23,
   "metadata": {
    "colab": {
     "base_uri": "https://localhost:8080/",
     "height": 54
    },
    "colab_type": "code",
    "executionInfo": {
     "elapsed": 612,
     "status": "ok",
     "timestamp": 1550296790928,
     "user": {
      "displayName": "Joeun Park",
      "photoUrl": "https://lh6.googleusercontent.com/-JYBWhNoobh0/AAAAAAAAAAI/AAAAAAAADIs/8dW1MgKePR0/s64/photo.jpg",
      "userId": "17163383815352082166"
     },
     "user_tz": -540
    },
    "id": "qTuOMrn01lBl",
    "outputId": "c4d615aa-1c6c-4487-fd63-4472d77e28f1"
   },
   "outputs": [
    {
     "data": {
      "text/plain": [
       "' 현황 우리들 아버지께서는 여년전 북의 남침으로 조국이 위기에 처했을 때 젊은 목숨 을 바쳐 대한민국을 지켜내는데 헌신했습니다 우리들 대부분의 아버님들 중 만위는 전쟁 후 지금껏 유해도 수습 못했고 도 제대로 알지 못하지만 오직 국가유공자의 자녀라는 자긍심으로 오랜 기간을 가난과 멸시 천대를 이겨왔습니다 전후 원호제도는 빈약하여 전사자와 가족에 보상과 연금 등은 너무 빈약했고 후도 경제발전 수준을 따라가지도 못하였는데 년대 말은 전쟁유자녀가 성년이 되었다는 이유로 보훈 보상혜택에서 제외시켰다가 김대중정부 시절 년 월부터 보훈제도가 확대되어 전후의 미흡했던 보훈혜택을 보전해주기 년 일을 기준으로 아래의 제적유자녀 와 승계유자녀 에게는 자녀 에 대하여만 전몰 군경자녀수당 을 지급하게 되었으나 단서조항으로 년 이후 어머니 사망으로 연금수급권이 소멸되기 시작한 저희 유자녀들에 대하여는 동법 적용을 배제하여 어머니 돌아가신 날 하루 차이로 미수당유자녀 아래표 라는 보훈정책의 사각지대가 생겨났던 것입니다 신설된 수당과 유족연금이 노무현 정부이래 점차 현실화 인상 조정되고 이 문제가 장기간 누증되다보니 전쟁에서 똑 같이 아버지가 전사한 군 경유자녀들인데 누구는 국가의 지원을 받고 누구는 국가의 지원을 받지 못하는 형평성에 문제가 국가유공자 예우 지원에 관한 법률 조 자녀수당 의 단서조항 년 일을 삭제하는 법안 을 대 국회에서 더민주당 민홍철 의원님 경남 김해 이 년 대표발의 하시어 당시 여당의원 일부 반대의 우여곡절 끝에 전해철 법사위 소위원장님 등의 주도적 노력으로 년 회 정기회에서 재석 의원 만장일치로 법이 통과되어 법률 호로 공포된바 있었습니다 그럼에도 박근혜 정부는 동법 개정이유와 주요내용에서 입법부가 제안한대로 특정일 기준 없이 전몰군경유자녀에게 자녀수당을 지급하도록 하여 자녀간 형평성을 도모함과 이들에 생활안정과 복지향상을 재고하려 고 밝히면서도 입법부의 개정 법률에 정면 위배되는 시행령 호 으로 천원 천원 천원이라는 불평등으로 호국영령의 명예와 최장 여년을 기다려온 당사자들을 우롱하였던 것입니다 결과 현재까지 수당현황을 살펴보면 전몰군경 유자녀수당 현황 구 분 인 원 최초 시행일 최초 월수령액 년 수령액 현재 월수령액 제적 유자녀 여명 원 원 원 승계 유자녀 여명 원 원 원 수당 유자녀 신규 여명 원 원 원 참고 유족 연금 여명 원 원 a 전년과 동일 제적유자녀 전사자의 미성년자녀로서 보상금을 받다가 성년이 되어 보상금을 받을 유족이 없어 지급대상에서 제적된 경우 승계유자녀 전사자의 배우자 또는 부모가 보상금을 받다가 년 이전에 사망하여 수급권이 소멸한 경우 수당유자녀 년 이후에 전사자의 배우자 또는 부모가 보상금을 받다가 사망으로 수급권이 소멸한 경우 이상 구분과 호칭은 국가보훈처가 정한 것이며 현재 유족연금 수령자의 자녀는 향후 유자녀수당 대상이 됩니다 국가보훈처가 내세우는 보상금 수당 을 받고 덜 받는 형평성은 결국 조부모 또는 모친의 수명과 연관된 문제가 되어 유족당 총수령액의 형평성은 위표 유자녀가 년 월부터 수당을 받기 시작한 수당 수령 총액과 년 말까지 보상금 연금 을 받은 위표 의 조부모 또는 모친의 보상금 수령 총액은 년 이전에 이미 역차별까지 발생하였는데도 보수정권하의 보훈처는 확대시행 자체를 반대만 했습니다 더욱이 위표 의 미수당유자녀유족 의 보훈급여금 수령총액 평균이 원에 불과하고 전몰군경유족에 국가보상은 년까지 수령총액이 원 년까지 부친 전사이후 약 년간의 보상금 수령총액이 억여원 기본급 기준 에 불과한데 각종 사고 보상금 지급사례와 비교 보훈안보연구원 박혜란 유영옥 논문 하면 정전협정중인 나라가 이렇게 전사자와 가족을 홀대하고 나라를 희생한 국가유공자와 유족은 국가가 끝까지 책임진다 고 떠들어온 보수정권의 허무맹랑한 호국보훈정책이었습니다 국가유공자예우법 상 보상과 보훈은 국가유공자의 국가에 희생에 보답에 있으므로 국가유공자의 배우자 자녀 부모의 위치에 따라 예우정도를 달리하는 원칙에 어긋나며 차 선순위자로 유족이 된 자는 누구든 동일한 권리를 소유하고 행사할 있도록 국가가 보살펴 주어야 한다고 생각됨에도 국가보훈처는 과거 자녀는 미성년자녀에 고 규정하고 성년이 되었다는 이유로 연금지급대상에서 제외시켰던 것이 보훈정책의 근시안적 잘못이며 세계적으로 성년자녀에게는 보상을 해주지 않는다는 주무부처의 논리와 예산당국의 횡포는 동족간 전쟁의 아픔과 상처를 겪어보지 못한 국가정체성도 공직자의 무지로 전사자와 생존자간의 예우 나아가 전사간의 예우에 불균형을 초래한 보훈정책의 과오였으며 독립운동유족의 대까지 보살핌이나 국가보상법 시행령 광주민주화운동보상법 등에서와 같이 별도의 차별 규정을 두지 않았다면 발생하지도 않았을 모순이라고 저희들은 지금까지 정부를 원망해왔습니다 전사자 유족이 받은 연금 보상금 총액과 아래표를 보시면 허탈한 저희 심경을 이해하실 것입니다 각 사망사고 보상금 비교 광주민주화운동 억 만원 국고보상법 억 만원 C랜드화재 억 만원 삼풍사고 성수대교 억 만원 대구철도 억 세월호 참사 억 억 천안함 희생용사 억 억 경주마우나리조트 억 아시아나 착륙사고 억 a 서해훼리호 억 등등 대통령님께서 취임하신 후 광화문 번가 인수위원회 비서실에도 편지와 메일로 제안 호소를 드렸지만 바로 국가보훈처로 이첩되고 국가보훈처는 과거 보수정권하와 똑같이 앵무새와 답변만 반복하고 있으며 답변 내용중 일부를 인용하면 이후에도 보상금을 수령한 유족이 유자녀가 동일한 수혜를 받았다고 보기는 어렵다는 정책적 판단 하에 향후 국가재정 여건 등을 감안하여 관계부처와의 협의를 거쳐 점차 개선 운운 저희들 대표와의 면담 신청마져 업무수행과 대외행사 참여로 바쁘다 는 회신으로 경청도 소통도 거부하고 국가보훈처의 업무태도와 의사소통은 대통령님이 바라시는 국정 운영 철학과는 너무나 다르다고 생각됩니다 청원의 해결 방안 국가유공자 예우 지원에 관한 법률 시행령 호 별표 를 개정하되 A 승계유자녀 에 신규 유자녀 속칭 수당유자녀 를 포함하여 차등 없이 일률 지급하시거나 B 예산사정이 어렵다면 부터 까지 연금 수급권이 정지되었던 기간을 개별적으로 감안하시어 역순으로 약간의 인정할 차등을 두는 방안은 당사자들도 납득할 있지 않을까 개인적으로는 생각하나 근원적 해결책은 아니라고 생각합니다 대 국회에 호 국가유공자 예우 지원에 관한 법률 일부 개정법률안 더불어민주당 민홍철의원 분 이 발의 동법의 제정목적과 이념을 바로잡고 전사자와 유족의 명예회복과 전몰군경유자녀 유족 간 갈등과 불평등을 해소할 개정 안 이 현재 정무위원회에 계류중에 있으므로 의원입법으로 통과되도록 대통령님의 정책 배려 여당의 주도적 지원이 가능하리라 사료됩니다 위 안의 아쉬움은 국가를 희생된 유자녀들 아버지 죽음에 대가가 사회보장적 생활 보호적 차원에서 보상을 한다는 이미 평균나이 세이상인 당사자들에게는 국민기초생활 보장 또는 노약자복지 차원과 중복되는 허탈감은 있으나 국민기초생활보장법상의 생계급여가 기준중위소득의 년까지 인 점을 감안하여 이상 수준에서 합리적으로 결정하도록 최소기준을 정하고 있으므로 시행령으로 상위법을 무력화 시키는 행정권 남용과 원칙없는 불평등 해결의 차선책은 될 있다고 생각됩니다 현재 천원이 년 기준 약 천원으로 조정되는 안 호소 존경하는 문재인 대통령님 대통령님께서는 지난 현충일 추념사에서 국가유공자와 보훈대상자 가족이 자존감을 지키며 살아가실 있도록 하겠으며 국가를 헌신하면 보상받고 반역자는 심판받는다는 흔들리지 않는 믿음이 있어야 한다고 말씀하시며 그것이 국민이 애국심을 바칠 나라다운 나라로 애국이 보상받고 정의가 보상받고 원칙이 보상받고 정직이 보상받는 나라를 다함께 만들어 나가자고 말씀하셨습니다 아울러 독립유공자와 가족 행사 광복절 기념사에서 새 정부가 가장 중요하게 생각하는 중 하나가 보훈정책을 제대로 것 이라며 보훈처와 관련 정부 부처가 함께 보훈 보상체계 개선방안을 준비하고 있으며 이번 기회에 정부는 대한민국 보훈의 기틀을 완전히 새롭게 세우고자 한다고 하시어 저희들은 너무 마음 든든하였으나 한가지 아쉬운 점은 독립운동 유족은 대까지 인이 아니라 전체로 확대 참전용사와 무공영예수당의 대폭 인상 순직 군인과 경찰 소방공무원 유족까지 처우 확대 의료 확대 등을 언급하시면서 전쟁에서 아버지를 잃고 유해마저 인수받지 못하고 불평등한 처우를 받고 저희 유자녀들만 외면하시는 아닌지 너무나 안타깝습니다 사랑하는 부모형제와 젊은 부인 핏덩이 자식을 남기고 전사하신 가장의 심정으로 보훈의 기틀을 다시 세우시면서 어머니 앞으로 국가에서 나온 연금만으로는 생활할 수도 없어 소년가장이 되어 가난하지만 자식의 효심으로 어머니를 조금 모시다가 가시게 미수당 or 신규유자녀들 위표 문제도 바로 잡아주시어 평균 세 이상인 저희들이 아버지가 목숨바쳐 지킨 나라에서 남은 생을 자랑스럽게 살고 갈 있도록 청원드리오니 살펴주시기 바랍니다 '"
      ]
     },
     "execution_count": 23,
     "metadata": {},
     "output_type": "execute_result"
    }
   ],
   "source": [
    "pre_sample_content"
   ]
  },
  {
   "cell_type": "code",
   "execution_count": 24,
   "metadata": {
    "colab": {
     "base_uri": "https://localhost:8080/",
     "height": 52
    },
    "colab_type": "code",
    "executionInfo": {
     "elapsed": 1803,
     "status": "ok",
     "timestamp": 1550296826881,
     "user": {
      "displayName": "Joeun Park",
      "photoUrl": "https://lh6.googleusercontent.com/-JYBWhNoobh0/AAAAAAAAAAI/AAAAAAAADIs/8dW1MgKePR0/s64/photo.jpg",
      "userId": "17163383815352082166"
     },
     "user_tz": -540
    },
    "id": "FiJI6mjBGWMp",
    "outputId": "62b5c564-9d07-42d7-f518-d0f50246aeaa"
   },
   "outputs": [
    {
     "name": "stdout",
     "output_type": "stream",
     "text": [
      "CPU times: user 725 ms, sys: 25 ms, total: 750 ms\n",
      "Wall time: 759 ms\n"
     ]
    }
   ],
   "source": [
    "%time df['content_preprocessing'] = df['content'].apply(preprocessing)"
   ]
  },
  {
   "cell_type": "code",
   "execution_count": 25,
   "metadata": {
    "colab": {
     "base_uri": "https://localhost:8080/",
     "height": 52
    },
    "colab_type": "code",
    "executionInfo": {
     "elapsed": 1384,
     "status": "ok",
     "timestamp": 1550296856083,
     "user": {
      "displayName": "Joeun Park",
      "photoUrl": "https://lh6.googleusercontent.com/-JYBWhNoobh0/AAAAAAAAAAI/AAAAAAAADIs/8dW1MgKePR0/s64/photo.jpg",
      "userId": "17163383815352082166"
     },
     "user_tz": -540
    },
    "id": "lFd-lTxCGWMt",
    "outputId": "e122dc6f-ba1b-4344-a15a-7e9262f8688c"
   },
   "outputs": [
    {
     "name": "stdout",
     "output_type": "stream",
     "text": [
      "CPU times: user 553 ms, sys: 10.1 ms, total: 563 ms\n",
      "Wall time: 566 ms\n"
     ]
    }
   ],
   "source": [
    "%time df['content_preprocessed'] = df['content_preprocessing'].apply(remove_stopwords)"
   ]
  },
  {
   "cell_type": "markdown",
   "metadata": {
    "colab_type": "text",
    "id": "EvfLGn81GWMw"
   },
   "source": [
    "# 학습세트와 테스트세트 만들기\n",
    "* 학습세트와 테스트세트를 7:3의 비율로 나눠 줍니다."
   ]
  },
  {
   "cell_type": "code",
   "execution_count": 26,
   "metadata": {
    "colab": {
     "base_uri": "https://localhost:8080/",
     "height": 1023
    },
    "colab_type": "code",
    "executionInfo": {
     "elapsed": 931,
     "status": "ok",
     "timestamp": 1550296944182,
     "user": {
      "displayName": "Joeun Park",
      "photoUrl": "https://lh6.googleusercontent.com/-JYBWhNoobh0/AAAAAAAAAAI/AAAAAAAADIs/8dW1MgKePR0/s64/photo.jpg",
      "userId": "17163383815352082166"
     },
     "user_tz": -540
    },
    "id": "vUw2Cu6PGWMx",
    "outputId": "7468ad08-6107-46c0-9daf-d3d126e34778"
   },
   "outputs": [
    {
     "data": {
      "text/html": [
       "<div>\n",
       "<style scoped>\n",
       "    .dataframe tbody tr th:only-of-type {\n",
       "        vertical-align: middle;\n",
       "    }\n",
       "\n",
       "    .dataframe tbody tr th {\n",
       "        vertical-align: top;\n",
       "    }\n",
       "\n",
       "    .dataframe thead th {\n",
       "        text-align: right;\n",
       "    }\n",
       "</style>\n",
       "<table border=\"1\" class=\"dataframe\">\n",
       "  <thead>\n",
       "    <tr style=\"text-align: right;\">\n",
       "      <th></th>\n",
       "      <th>article_id</th>\n",
       "      <th>start</th>\n",
       "      <th>end</th>\n",
       "      <th>answered</th>\n",
       "      <th>votes</th>\n",
       "      <th>category</th>\n",
       "      <th>title</th>\n",
       "      <th>content</th>\n",
       "      <th>votes_pos_neg</th>\n",
       "      <th>content_preprocessing</th>\n",
       "      <th>content_preprocessed</th>\n",
       "    </tr>\n",
       "  </thead>\n",
       "  <tbody>\n",
       "    <tr>\n",
       "      <th>7</th>\n",
       "      <td>28</td>\n",
       "      <td>2017-08-19</td>\n",
       "      <td>2017-08-26</td>\n",
       "      <td>0</td>\n",
       "      <td>2137</td>\n",
       "      <td>경제민주화</td>\n",
       "      <td>소액주주를 보호해주십시오</td>\n",
       "      <td>**  존경하옵는 문재인대통령님께\\n저는 중국원양자원이라는 KOSPI상장사의 소액 ...</td>\n",
       "      <td>0</td>\n",
       "      <td>존경하옵는 문재인대통령님께 저는 중국원양자원이라는 KOSPI상장사의 소액 주주입니...</td>\n",
       "      <td>존경하옵는 문재인대통령님께 중국원양자원이라는 KOSPI상장사의 소액 주주입니다 중...</td>\n",
       "    </tr>\n",
       "    <tr>\n",
       "      <th>13</th>\n",
       "      <td>34</td>\n",
       "      <td>2017-08-19</td>\n",
       "      <td>2017-09-18</td>\n",
       "      <td>0</td>\n",
       "      <td>679</td>\n",
       "      <td>기타</td>\n",
       "      <td>『국가유공자 등 예우 및 지원에 관한법률』상「6.25전몰군경 자녀수당」의 불합리한 ...</td>\n",
       "      <td>(현황)\\n우리들 아버지께서는 67여년전 북의 남침으로 조국이 위기에 처했을 때 젊...</td>\n",
       "      <td>0</td>\n",
       "      <td>현황 우리들 아버지께서는 여년전 북의 남침으로 조국이 위기에 처했을 때 젊은 목숨...</td>\n",
       "      <td>현황 우리들 아버지께서는 여년전 북의 남침으로 조국이 위기에 처했을 때 젊은 목숨...</td>\n",
       "    </tr>\n",
       "    <tr>\n",
       "      <th>21</th>\n",
       "      <td>43</td>\n",
       "      <td>2017-08-19</td>\n",
       "      <td>2017-09-18</td>\n",
       "      <td>0</td>\n",
       "      <td>11293</td>\n",
       "      <td>육아/교육</td>\n",
       "      <td>기간제 교사의 정규직화를 반대합니다.</td>\n",
       "      <td>대통령님, 안녕하세요. 저는 임용을 준비하고 수험생입니다. 처음 기간제 정규직화 된...</td>\n",
       "      <td>1</td>\n",
       "      <td>대통령님 안녕하세요 저는 임용을 준비하고 수험생입니다 처음 기간제 정규직화 된다고 ...</td>\n",
       "      <td>대통령님 안녕하세요 임용을 준비하고 수험생입니다 처음 기간제 정규직화 된다고 했을 ...</td>\n",
       "    </tr>\n",
       "    <tr>\n",
       "      <th>24</th>\n",
       "      <td>46</td>\n",
       "      <td>2017-08-19</td>\n",
       "      <td>2017-09-18</td>\n",
       "      <td>0</td>\n",
       "      <td>1933</td>\n",
       "      <td>육아/교육</td>\n",
       "      <td>기간제교사의 정규직화를 반대합니다.</td>\n",
       "      <td>대통령님, 안녕하세요. 저는 임용을 준비하고 수험생입니다. 처음 기간제 정규직화 된...</td>\n",
       "      <td>0</td>\n",
       "      <td>대통령님 안녕하세요 저는 임용을 준비하고 수험생입니다 처음 기간제 정규직화 된다고 ...</td>\n",
       "      <td>대통령님 안녕하세요 임용을 준비하고 수험생입니다 처음 기간제 정규직화 된다고 했을 ...</td>\n",
       "    </tr>\n",
       "    <tr>\n",
       "      <th>28</th>\n",
       "      <td>50</td>\n",
       "      <td>2017-08-19</td>\n",
       "      <td>2017-10-18</td>\n",
       "      <td>0</td>\n",
       "      <td>1251</td>\n",
       "      <td>일자리</td>\n",
       "      <td>치과위생사 국가고시 날짜 변경 억울합니다</td>\n",
       "      <td>안녕하십니까? 대통령님 간단하게 제소개 부터 하겠습니다. 저는 치위생과 3학년 학생...</td>\n",
       "      <td>0</td>\n",
       "      <td>안녕하십니까 대통령님 간단하게 제소개 부터 하겠습니다 저는 치위생과 학년 학생입니다...</td>\n",
       "      <td>안녕하십니까 대통령님 간단하게 제소개 부터 하겠습니다 치위생과 학년 학생입니다 다름...</td>\n",
       "    </tr>\n",
       "  </tbody>\n",
       "</table>\n",
       "</div>"
      ],
      "text/plain": [
       "    article_id      start        end  answered  votes category  \\\n",
       "7           28 2017-08-19 2017-08-26         0   2137    경제민주화   \n",
       "13          34 2017-08-19 2017-09-18         0    679       기타   \n",
       "21          43 2017-08-19 2017-09-18         0  11293    육아/교육   \n",
       "24          46 2017-08-19 2017-09-18         0   1933    육아/교육   \n",
       "28          50 2017-08-19 2017-10-18         0   1251      일자리   \n",
       "\n",
       "                                                title  \\\n",
       "7                                       소액주주를 보호해주십시오   \n",
       "13  『국가유공자 등 예우 및 지원에 관한법률』상「6.25전몰군경 자녀수당」의 불합리한 ...   \n",
       "21                               기간제 교사의 정규직화를 반대합니다.   \n",
       "24                                기간제교사의 정규직화를 반대합니다.   \n",
       "28                             치과위생사 국가고시 날짜 변경 억울합니다   \n",
       "\n",
       "                                              content  votes_pos_neg  \\\n",
       "7   **  존경하옵는 문재인대통령님께\\n저는 중국원양자원이라는 KOSPI상장사의 소액 ...              0   \n",
       "13  (현황)\\n우리들 아버지께서는 67여년전 북의 남침으로 조국이 위기에 처했을 때 젊...              0   \n",
       "21  대통령님, 안녕하세요. 저는 임용을 준비하고 수험생입니다. 처음 기간제 정규직화 된...              1   \n",
       "24  대통령님, 안녕하세요. 저는 임용을 준비하고 수험생입니다. 처음 기간제 정규직화 된...              0   \n",
       "28  안녕하십니까? 대통령님 간단하게 제소개 부터 하겠습니다. 저는 치위생과 3학년 학생...              0   \n",
       "\n",
       "                                content_preprocessing  \\\n",
       "7    존경하옵는 문재인대통령님께 저는 중국원양자원이라는 KOSPI상장사의 소액 주주입니...   \n",
       "13   현황 우리들 아버지께서는 여년전 북의 남침으로 조국이 위기에 처했을 때 젊은 목숨...   \n",
       "21  대통령님 안녕하세요 저는 임용을 준비하고 수험생입니다 처음 기간제 정규직화 된다고 ...   \n",
       "24  대통령님 안녕하세요 저는 임용을 준비하고 수험생입니다 처음 기간제 정규직화 된다고 ...   \n",
       "28  안녕하십니까 대통령님 간단하게 제소개 부터 하겠습니다 저는 치위생과 학년 학생입니다...   \n",
       "\n",
       "                                 content_preprocessed  \n",
       "7    존경하옵는 문재인대통령님께 중국원양자원이라는 KOSPI상장사의 소액 주주입니다 중...  \n",
       "13   현황 우리들 아버지께서는 여년전 북의 남침으로 조국이 위기에 처했을 때 젊은 목숨...  \n",
       "21  대통령님 안녕하세요 임용을 준비하고 수험생입니다 처음 기간제 정규직화 된다고 했을 ...  \n",
       "24  대통령님 안녕하세요 임용을 준비하고 수험생입니다 처음 기간제 정규직화 된다고 했을 ...  \n",
       "28  안녕하십니까 대통령님 간단하게 제소개 부터 하겠습니다 치위생과 학년 학생입니다 다름...  "
      ]
     },
     "execution_count": 26,
     "metadata": {},
     "output_type": "execute_result"
    }
   ],
   "source": [
    "df.head()"
   ]
  },
  {
   "cell_type": "code",
   "execution_count": 27,
   "metadata": {
    "colab": {
     "base_uri": "https://localhost:8080/",
     "height": 34
    },
    "colab_type": "code",
    "executionInfo": {
     "elapsed": 965,
     "status": "ok",
     "timestamp": 1550297075575,
     "user": {
      "displayName": "Joeun Park",
      "photoUrl": "https://lh6.googleusercontent.com/-JYBWhNoobh0/AAAAAAAAAAI/AAAAAAAADIs/8dW1MgKePR0/s64/photo.jpg",
      "userId": "17163383815352082166"
     },
     "user_tz": -540
    },
    "id": "-59nm1yKGWM0",
    "outputId": "a06501a2-f374-4c41-e40a-b4f9cee1adf5"
   },
   "outputs": [
    {
     "data": {
      "text/plain": [
       "(5109, 11)"
      ]
     },
     "execution_count": 27,
     "metadata": {},
     "output_type": "execute_result"
    }
   ],
   "source": [
    "df.shape"
   ]
  },
  {
   "cell_type": "markdown",
   "metadata": {
    "colab_type": "text",
    "id": "xVnp3jUvD3mb"
   },
   "source": [
    "### 데이터를 나누는 기준을 구함"
   ]
  },
  {
   "cell_type": "code",
   "execution_count": 28,
   "metadata": {
    "colab": {
     "base_uri": "https://localhost:8080/",
     "height": 34
    },
    "colab_type": "code",
    "executionInfo": {
     "elapsed": 897,
     "status": "ok",
     "timestamp": 1550296973354,
     "user": {
      "displayName": "Joeun Park",
      "photoUrl": "https://lh6.googleusercontent.com/-JYBWhNoobh0/AAAAAAAAAAI/AAAAAAAADIs/8dW1MgKePR0/s64/photo.jpg",
      "userId": "17163383815352082166"
     },
     "user_tz": -540
    },
    "id": "fIPZ3YXmGWM4",
    "outputId": "b8f24589-aa20-4e12-daf8-909dad77bbf4"
   },
   "outputs": [
    {
     "data": {
      "text/plain": [
       "3576"
      ]
     },
     "execution_count": 28,
     "metadata": {},
     "output_type": "execute_result"
    }
   ],
   "source": [
    "split_count = int(df.shape[0] * 0.7)\n",
    "split_count"
   ]
  },
  {
   "cell_type": "markdown",
   "metadata": {
    "colab_type": "text",
    "id": "uS90aRetDVe4"
   },
   "source": [
    "### 학습세트 만들기"
   ]
  },
  {
   "cell_type": "code",
   "execution_count": 29,
   "metadata": {
    "colab": {
     "base_uri": "https://localhost:8080/",
     "height": 34
    },
    "colab_type": "code",
    "executionInfo": {
     "elapsed": 933,
     "status": "ok",
     "timestamp": 1550296989552,
     "user": {
      "displayName": "Joeun Park",
      "photoUrl": "https://lh6.googleusercontent.com/-JYBWhNoobh0/AAAAAAAAAAI/AAAAAAAADIs/8dW1MgKePR0/s64/photo.jpg",
      "userId": "17163383815352082166"
     },
     "user_tz": -540
    },
    "id": "IIha9SluGWM7",
    "outputId": "3ddbd8e1-9754-4db1-d704-60811b304e6c"
   },
   "outputs": [
    {
     "data": {
      "text/plain": [
       "(3576, 11)"
      ]
     },
     "execution_count": 29,
     "metadata": {},
     "output_type": "execute_result"
    }
   ],
   "source": [
    "df_train = df[:split_count].copy()\n",
    "df_train.shape"
   ]
  },
  {
   "cell_type": "code",
   "execution_count": 30,
   "metadata": {
    "colab": {
     "base_uri": "https://localhost:8080/",
     "height": 938
    },
    "colab_type": "code",
    "executionInfo": {
     "elapsed": 924,
     "status": "ok",
     "timestamp": 1550297000478,
     "user": {
      "displayName": "Joeun Park",
      "photoUrl": "https://lh6.googleusercontent.com/-JYBWhNoobh0/AAAAAAAAAAI/AAAAAAAADIs/8dW1MgKePR0/s64/photo.jpg",
      "userId": "17163383815352082166"
     },
     "user_tz": -540
    },
    "id": "sVOVdV_RGWM9",
    "outputId": "060db37e-7eef-4ea6-8a7c-7713c0ea6da0"
   },
   "outputs": [
    {
     "data": {
      "text/html": [
       "<div>\n",
       "<style scoped>\n",
       "    .dataframe tbody tr th:only-of-type {\n",
       "        vertical-align: middle;\n",
       "    }\n",
       "\n",
       "    .dataframe tbody tr th {\n",
       "        vertical-align: top;\n",
       "    }\n",
       "\n",
       "    .dataframe thead th {\n",
       "        text-align: right;\n",
       "    }\n",
       "</style>\n",
       "<table border=\"1\" class=\"dataframe\">\n",
       "  <thead>\n",
       "    <tr style=\"text-align: right;\">\n",
       "      <th></th>\n",
       "      <th>article_id</th>\n",
       "      <th>start</th>\n",
       "      <th>end</th>\n",
       "      <th>answered</th>\n",
       "      <th>votes</th>\n",
       "      <th>category</th>\n",
       "      <th>title</th>\n",
       "      <th>content</th>\n",
       "      <th>votes_pos_neg</th>\n",
       "      <th>content_preprocessing</th>\n",
       "      <th>content_preprocessed</th>\n",
       "    </tr>\n",
       "  </thead>\n",
       "  <tbody>\n",
       "    <tr>\n",
       "      <th>263112</th>\n",
       "      <td>341764</td>\n",
       "      <td>2018-08-14</td>\n",
       "      <td>2018-09-13</td>\n",
       "      <td>0</td>\n",
       "      <td>8284</td>\n",
       "      <td>경제민주화</td>\n",
       "      <td>1년간 한시적 공매도 금지를 청원합니다.</td>\n",
       "      <td>공매도 한시적(1년간) 금지를 청원합니다.\\n증권업과 유관한 금융기관 종사자이자 개...</td>\n",
       "      <td>1</td>\n",
       "      <td>공매도 한시적 년간 금지를 청원합니다 증권업과 유관한 금융기관 종사자이자 개인투자자...</td>\n",
       "      <td>공매도 한시적 년간 금지를 청원합니다 증권업과 유관한 금융기관 종사자이자 개인투자자...</td>\n",
       "    </tr>\n",
       "    <tr>\n",
       "      <th>263837</th>\n",
       "      <td>342753</td>\n",
       "      <td>2018-08-15</td>\n",
       "      <td>2018-09-14</td>\n",
       "      <td>0</td>\n",
       "      <td>588</td>\n",
       "      <td>육아/교육</td>\n",
       "      <td>김포 아동학대 사건을 저지른 원장과 교사를 고발합니다.</td>\n",
       "      <td>저는 피해아동의 외할머니입니다.\\n저희 손주는 5세 남아로 김포 장기동 **** 어...</td>\n",
       "      <td>0</td>\n",
       "      <td>저는 피해아동의 외할머니입니다 저희 손주는 세 남아로 김포 장기동 어린이집 은 반에...</td>\n",
       "      <td>피해아동의 외할머니입니다 저희 손주는 세 남아로 김포 장기동 어린이집 은 반에 다녔...</td>\n",
       "    </tr>\n",
       "    <tr>\n",
       "      <th>264041</th>\n",
       "      <td>343100</td>\n",
       "      <td>2018-08-15</td>\n",
       "      <td>2018-09-14</td>\n",
       "      <td>0</td>\n",
       "      <td>2041</td>\n",
       "      <td>기타</td>\n",
       "      <td>지켜주지 못해 미안해 엄마가 . .</td>\n",
       "      <td>아이는 현재  선배들에 의한 폭행(상해)과 강금으로 인해 힘겨운 생활을 하고있습니다...</td>\n",
       "      <td>0</td>\n",
       "      <td>아이는 현재 선배들에 의한 폭행 상해 과 강금으로 인해 힘겨운 생활을 하고있습니다 ...</td>\n",
       "      <td>아이는 현재 선배들에 의한 폭행 상해 과 강금으로 인해 힘겨운 생활을 하고있습니다 ...</td>\n",
       "    </tr>\n",
       "    <tr>\n",
       "      <th>264094</th>\n",
       "      <td>343167</td>\n",
       "      <td>2018-08-15</td>\n",
       "      <td>2018-09-14</td>\n",
       "      <td>0</td>\n",
       "      <td>22521</td>\n",
       "      <td>행정</td>\n",
       "      <td>여성가족부의 예산 사용 실적 공개를 촉구합니다</td>\n",
       "      <td>여성가족부의 예산 사용 실적 공개를 촉구합니다.\\n여성가족부는 2001년 설립된 이...</td>\n",
       "      <td>1</td>\n",
       "      <td>여성가족부의 예산 사용 실적 공개를 촉구합니다 여성가족부는 년 설립된 이래 한번도 ...</td>\n",
       "      <td>여성가족부의 예산 사용 실적 공개를 촉구합니다 여성가족부는 년 설립된 이래 한번도 ...</td>\n",
       "    </tr>\n",
       "    <tr>\n",
       "      <th>264098</th>\n",
       "      <td>343171</td>\n",
       "      <td>2018-08-15</td>\n",
       "      <td>2018-09-14</td>\n",
       "      <td>0</td>\n",
       "      <td>860</td>\n",
       "      <td>보건복지</td>\n",
       "      <td>청각장애인 인공와우기계 보험적용부탁드립니다</td>\n",
       "      <td>저희 아이는 고도난청100데시벨이상으로 왼쪽 오른쪽 인공와우 수술을 하였습니다\\n처...</td>\n",
       "      <td>0</td>\n",
       "      <td>저희 아이는 고도난청 데시벨이상으로 왼쪽 오른쪽 인공와우 수술을 하였습니다 처음은 ...</td>\n",
       "      <td>저희 아이는 고도난청 데시벨이상으로 왼쪽 오른쪽 인공와우 수술을 하였습니다 처음은 ...</td>\n",
       "    </tr>\n",
       "  </tbody>\n",
       "</table>\n",
       "</div>"
      ],
      "text/plain": [
       "        article_id      start        end  answered  votes category  \\\n",
       "263112      341764 2018-08-14 2018-09-13         0   8284    경제민주화   \n",
       "263837      342753 2018-08-15 2018-09-14         0    588    육아/교육   \n",
       "264041      343100 2018-08-15 2018-09-14         0   2041       기타   \n",
       "264094      343167 2018-08-15 2018-09-14         0  22521       행정   \n",
       "264098      343171 2018-08-15 2018-09-14         0    860     보건복지   \n",
       "\n",
       "                                 title  \\\n",
       "263112          1년간 한시적 공매도 금지를 청원합니다.   \n",
       "263837  김포 아동학대 사건을 저지른 원장과 교사를 고발합니다.   \n",
       "264041             지켜주지 못해 미안해 엄마가 . .   \n",
       "264094       여성가족부의 예산 사용 실적 공개를 촉구합니다   \n",
       "264098         청각장애인 인공와우기계 보험적용부탁드립니다   \n",
       "\n",
       "                                                  content  votes_pos_neg  \\\n",
       "263112  공매도 한시적(1년간) 금지를 청원합니다.\\n증권업과 유관한 금융기관 종사자이자 개...              1   \n",
       "263837  저는 피해아동의 외할머니입니다.\\n저희 손주는 5세 남아로 김포 장기동 **** 어...              0   \n",
       "264041  아이는 현재  선배들에 의한 폭행(상해)과 강금으로 인해 힘겨운 생활을 하고있습니다...              0   \n",
       "264094  여성가족부의 예산 사용 실적 공개를 촉구합니다.\\n여성가족부는 2001년 설립된 이...              1   \n",
       "264098  저희 아이는 고도난청100데시벨이상으로 왼쪽 오른쪽 인공와우 수술을 하였습니다\\n처...              0   \n",
       "\n",
       "                                    content_preprocessing  \\\n",
       "263112  공매도 한시적 년간 금지를 청원합니다 증권업과 유관한 금융기관 종사자이자 개인투자자...   \n",
       "263837  저는 피해아동의 외할머니입니다 저희 손주는 세 남아로 김포 장기동 어린이집 은 반에...   \n",
       "264041  아이는 현재 선배들에 의한 폭행 상해 과 강금으로 인해 힘겨운 생활을 하고있습니다 ...   \n",
       "264094  여성가족부의 예산 사용 실적 공개를 촉구합니다 여성가족부는 년 설립된 이래 한번도 ...   \n",
       "264098  저희 아이는 고도난청 데시벨이상으로 왼쪽 오른쪽 인공와우 수술을 하였습니다 처음은 ...   \n",
       "\n",
       "                                     content_preprocessed  \n",
       "263112  공매도 한시적 년간 금지를 청원합니다 증권업과 유관한 금융기관 종사자이자 개인투자자...  \n",
       "263837  피해아동의 외할머니입니다 저희 손주는 세 남아로 김포 장기동 어린이집 은 반에 다녔...  \n",
       "264041  아이는 현재 선배들에 의한 폭행 상해 과 강금으로 인해 힘겨운 생활을 하고있습니다 ...  \n",
       "264094  여성가족부의 예산 사용 실적 공개를 촉구합니다 여성가족부는 년 설립된 이래 한번도 ...  \n",
       "264098  저희 아이는 고도난청 데시벨이상으로 왼쪽 오른쪽 인공와우 수술을 하였습니다 처음은 ...  "
      ]
     },
     "execution_count": 30,
     "metadata": {},
     "output_type": "execute_result"
    }
   ],
   "source": [
    "df_train.tail()"
   ]
  },
  {
   "cell_type": "code",
   "execution_count": 31,
   "metadata": {
    "colab": {
     "base_uri": "https://localhost:8080/",
     "height": 34
    },
    "colab_type": "code",
    "executionInfo": {
     "elapsed": 963,
     "status": "ok",
     "timestamp": 1550297110983,
     "user": {
      "displayName": "Joeun Park",
      "photoUrl": "https://lh6.googleusercontent.com/-JYBWhNoobh0/AAAAAAAAAAI/AAAAAAAADIs/8dW1MgKePR0/s64/photo.jpg",
      "userId": "17163383815352082166"
     },
     "user_tz": -540
    },
    "id": "RqYDEM1zGWNA",
    "outputId": "5d28a878-065b-45bd-868b-4f884f70ddbe"
   },
   "outputs": [
    {
     "data": {
      "text/plain": [
       "(671, 11)"
      ]
     },
     "execution_count": 31,
     "metadata": {},
     "output_type": "execute_result"
    }
   ],
   "source": [
    "# 학습 세트에서 투표수가 평균보다 많은 건\n",
    "df_train.loc[df_train['votes_pos_neg'] == 1].shape"
   ]
  },
  {
   "cell_type": "markdown",
   "metadata": {
    "colab_type": "text",
    "id": "RiovkOqKDfip"
   },
   "source": [
    "### 테스트세트 만들기\n",
    "* split_count를 기준(아래에서 30% 갯수)으로 데이터를 사용"
   ]
  },
  {
   "cell_type": "code",
   "execution_count": 32,
   "metadata": {
    "colab": {
     "base_uri": "https://localhost:8080/",
     "height": 34
    },
    "colab_type": "code",
    "executionInfo": {
     "elapsed": 991,
     "status": "ok",
     "timestamp": 1550297115686,
     "user": {
      "displayName": "Joeun Park",
      "photoUrl": "https://lh6.googleusercontent.com/-JYBWhNoobh0/AAAAAAAAAAI/AAAAAAAADIs/8dW1MgKePR0/s64/photo.jpg",
      "userId": "17163383815352082166"
     },
     "user_tz": -540
    },
    "id": "gx5qAlspGWNC",
    "outputId": "dc57d859-501c-4afc-8cee-aeceecf0d618"
   },
   "outputs": [
    {
     "data": {
      "text/plain": [
       "(1533, 11)"
      ]
     },
     "execution_count": 32,
     "metadata": {},
     "output_type": "execute_result"
    }
   ],
   "source": [
    "df_test = df[split_count:].copy()\n",
    "df_test.shape"
   ]
  },
  {
   "cell_type": "code",
   "execution_count": 33,
   "metadata": {
    "colab": {
     "base_uri": "https://localhost:8080/",
     "height": 921
    },
    "colab_type": "code",
    "executionInfo": {
     "elapsed": 1070,
     "status": "ok",
     "timestamp": 1550297136578,
     "user": {
      "displayName": "Joeun Park",
      "photoUrl": "https://lh6.googleusercontent.com/-JYBWhNoobh0/AAAAAAAAAAI/AAAAAAAADIs/8dW1MgKePR0/s64/photo.jpg",
      "userId": "17163383815352082166"
     },
     "user_tz": -540
    },
    "id": "od0QhGQ6GWNF",
    "outputId": "32bba88d-1880-40cc-ce86-09ff109aa716"
   },
   "outputs": [
    {
     "data": {
      "text/html": [
       "<div>\n",
       "<style scoped>\n",
       "    .dataframe tbody tr th:only-of-type {\n",
       "        vertical-align: middle;\n",
       "    }\n",
       "\n",
       "    .dataframe tbody tr th {\n",
       "        vertical-align: top;\n",
       "    }\n",
       "\n",
       "    .dataframe thead th {\n",
       "        text-align: right;\n",
       "    }\n",
       "</style>\n",
       "<table border=\"1\" class=\"dataframe\">\n",
       "  <thead>\n",
       "    <tr style=\"text-align: right;\">\n",
       "      <th></th>\n",
       "      <th>article_id</th>\n",
       "      <th>start</th>\n",
       "      <th>end</th>\n",
       "      <th>answered</th>\n",
       "      <th>votes</th>\n",
       "      <th>category</th>\n",
       "      <th>title</th>\n",
       "      <th>content</th>\n",
       "      <th>votes_pos_neg</th>\n",
       "      <th>content_preprocessing</th>\n",
       "      <th>content_preprocessed</th>\n",
       "    </tr>\n",
       "  </thead>\n",
       "  <tbody>\n",
       "    <tr>\n",
       "      <th>264134</th>\n",
       "      <td>343214</td>\n",
       "      <td>2018-08-15</td>\n",
       "      <td>2018-09-14</td>\n",
       "      <td>0</td>\n",
       "      <td>724</td>\n",
       "      <td>교통/건축/국토</td>\n",
       "      <td>동탄1 신도시의 동탄트램1호선, 동탄트램2호선을 유지하여 착공해주세요</td>\n",
       "      <td>청원개요\\n존경하는 대통령님\\n동탄 1신도시는 국가의 중추를 담당하는 허리로써\\n인...</td>\n",
       "      <td>0</td>\n",
       "      <td>청원개요 존경하는 대통령님 동탄 신도시는 국가의 중추를 담당하는 허리로써 인구 만에...</td>\n",
       "      <td>청원개요 존경하는 대통령님 동탄 신도시는 국가의 중추를 담당하는 허리로써 인구 만에...</td>\n",
       "    </tr>\n",
       "    <tr>\n",
       "      <th>264152</th>\n",
       "      <td>343236</td>\n",
       "      <td>2018-08-15</td>\n",
       "      <td>2018-09-14</td>\n",
       "      <td>0</td>\n",
       "      <td>507</td>\n",
       "      <td>육아/교육</td>\n",
       "      <td>어린이집학부모 모니터링과 평가인증 없애야한다고 생각합니다 .</td>\n",
       "      <td>안녕하세요 저는 4세아들과7개월넘은 두아들을 키우고 잇습니다. 두아들이 다니는 어린...</td>\n",
       "      <td>0</td>\n",
       "      <td>안녕하세요 저는 세아들과 개월넘은 두아들을 키우고 잇습니다 두아들이 다니는 어린이집...</td>\n",
       "      <td>안녕하세요 세아들과 개월넘은 두아들을 키우고 잇습니다 두아들이 다니는 어린이집에서 ...</td>\n",
       "    </tr>\n",
       "    <tr>\n",
       "      <th>264489</th>\n",
       "      <td>343663</td>\n",
       "      <td>2018-08-16</td>\n",
       "      <td>2018-09-15</td>\n",
       "      <td>0</td>\n",
       "      <td>558</td>\n",
       "      <td>외교/통일/국방</td>\n",
       "      <td>국방부 \"해안·강 경계철책 300㎞ 중 절반 단계적 철거\"  대한민국 안전을 위협합니다.</td>\n",
       "      <td>이 기사를 보고 정말 무섭다는 생각이 듭니다.\\n아직 종전도 아니고 휴전입니다.\\n...</td>\n",
       "      <td>0</td>\n",
       "      <td>이 기사를 보고 정말 무섭다는 생각이 듭니다 아직 종전도 아니고 휴전입니다 그리고 ...</td>\n",
       "      <td>이 기사를 보고 정말 무섭다는 생각이 듭니다 아직 종전도 아니고 휴전입니다 북한핵해...</td>\n",
       "    </tr>\n",
       "    <tr>\n",
       "      <th>264534</th>\n",
       "      <td>343717</td>\n",
       "      <td>2018-08-16</td>\n",
       "      <td>2018-09-15</td>\n",
       "      <td>0</td>\n",
       "      <td>1322</td>\n",
       "      <td>안전/환경</td>\n",
       "      <td>인천 미추홀구(남구) 악취로 인해 못살겠습니다~</td>\n",
       "      <td>인천 악취라면 누구든 알겁니다 유명하죠~기사도 많죠 그 좋은 송도 청라 도 악취때문...</td>\n",
       "      <td>0</td>\n",
       "      <td>인천 악취라면 누구든 알겁니다 유명하죠 기사도 많죠 그 좋은 송도 청라 도 악취때문...</td>\n",
       "      <td>인천 악취라면 누구든 알겁니다 유명하죠 기사도 많죠 좋은 송도 청라 도 악취때문에 ...</td>\n",
       "    </tr>\n",
       "    <tr>\n",
       "      <th>264652</th>\n",
       "      <td>343870</td>\n",
       "      <td>2018-08-16</td>\n",
       "      <td>2018-09-15</td>\n",
       "      <td>0</td>\n",
       "      <td>1371</td>\n",
       "      <td>정치개혁</td>\n",
       "      <td>시민단체수준인 여가부 폐지를 청원합니다</td>\n",
       "      <td>http://www.edaily.co.kr/news/news_detail.asp?n...</td>\n",
       "      <td>0</td>\n",
       "      <td>http www edaily co kr news news detail asp new...</td>\n",
       "      <td>http www edaily co kr news news detail asp new...</td>\n",
       "    </tr>\n",
       "  </tbody>\n",
       "</table>\n",
       "</div>"
      ],
      "text/plain": [
       "        article_id      start        end  answered  votes  category  \\\n",
       "264134      343214 2018-08-15 2018-09-14         0    724  교통/건축/국토   \n",
       "264152      343236 2018-08-15 2018-09-14         0    507     육아/교육   \n",
       "264489      343663 2018-08-16 2018-09-15         0    558  외교/통일/국방   \n",
       "264534      343717 2018-08-16 2018-09-15         0   1322     안전/환경   \n",
       "264652      343870 2018-08-16 2018-09-15         0   1371      정치개혁   \n",
       "\n",
       "                                                    title  \\\n",
       "264134             동탄1 신도시의 동탄트램1호선, 동탄트램2호선을 유지하여 착공해주세요   \n",
       "264152                  어린이집학부모 모니터링과 평가인증 없애야한다고 생각합니다 .   \n",
       "264489  국방부 \"해안·강 경계철책 300㎞ 중 절반 단계적 철거\"  대한민국 안전을 위협합니다.   \n",
       "264534                         인천 미추홀구(남구) 악취로 인해 못살겠습니다~   \n",
       "264652                              시민단체수준인 여가부 폐지를 청원합니다   \n",
       "\n",
       "                                                  content  votes_pos_neg  \\\n",
       "264134  청원개요\\n존경하는 대통령님\\n동탄 1신도시는 국가의 중추를 담당하는 허리로써\\n인...              0   \n",
       "264152  안녕하세요 저는 4세아들과7개월넘은 두아들을 키우고 잇습니다. 두아들이 다니는 어린...              0   \n",
       "264489  이 기사를 보고 정말 무섭다는 생각이 듭니다.\\n아직 종전도 아니고 휴전입니다.\\n...              0   \n",
       "264534  인천 악취라면 누구든 알겁니다 유명하죠~기사도 많죠 그 좋은 송도 청라 도 악취때문...              0   \n",
       "264652  http://www.edaily.co.kr/news/news_detail.asp?n...              0   \n",
       "\n",
       "                                    content_preprocessing  \\\n",
       "264134  청원개요 존경하는 대통령님 동탄 신도시는 국가의 중추를 담당하는 허리로써 인구 만에...   \n",
       "264152  안녕하세요 저는 세아들과 개월넘은 두아들을 키우고 잇습니다 두아들이 다니는 어린이집...   \n",
       "264489  이 기사를 보고 정말 무섭다는 생각이 듭니다 아직 종전도 아니고 휴전입니다 그리고 ...   \n",
       "264534  인천 악취라면 누구든 알겁니다 유명하죠 기사도 많죠 그 좋은 송도 청라 도 악취때문...   \n",
       "264652  http www edaily co kr news news detail asp new...   \n",
       "\n",
       "                                     content_preprocessed  \n",
       "264134  청원개요 존경하는 대통령님 동탄 신도시는 국가의 중추를 담당하는 허리로써 인구 만에...  \n",
       "264152  안녕하세요 세아들과 개월넘은 두아들을 키우고 잇습니다 두아들이 다니는 어린이집에서 ...  \n",
       "264489  이 기사를 보고 정말 무섭다는 생각이 듭니다 아직 종전도 아니고 휴전입니다 북한핵해...  \n",
       "264534  인천 악취라면 누구든 알겁니다 유명하죠 기사도 많죠 좋은 송도 청라 도 악취때문에 ...  \n",
       "264652  http www edaily co kr news news detail asp new...  "
      ]
     },
     "execution_count": 33,
     "metadata": {},
     "output_type": "execute_result"
    }
   ],
   "source": [
    "df_test.head()"
   ]
  },
  {
   "cell_type": "code",
   "execution_count": 34,
   "metadata": {
    "colab": {
     "base_uri": "https://localhost:8080/",
     "height": 34
    },
    "colab_type": "code",
    "executionInfo": {
     "elapsed": 1108,
     "status": "ok",
     "timestamp": 1550297139627,
     "user": {
      "displayName": "Joeun Park",
      "photoUrl": "https://lh6.googleusercontent.com/-JYBWhNoobh0/AAAAAAAAAAI/AAAAAAAADIs/8dW1MgKePR0/s64/photo.jpg",
      "userId": "17163383815352082166"
     },
     "user_tz": -540
    },
    "id": "Gi49Cp5fGWNH",
    "outputId": "6add1bce-479f-4393-d9a2-640e9c1de930"
   },
   "outputs": [
    {
     "data": {
      "text/plain": [
       "(273, 11)"
      ]
     },
     "execution_count": 34,
     "metadata": {},
     "output_type": "execute_result"
    }
   ],
   "source": [
    "# 테스트 세트에서 투표수가 평균보다 많은 건\n",
    "df_test.loc[df_test['votes_pos_neg'] == 1].shape"
   ]
  },
  {
   "cell_type": "markdown",
   "metadata": {
    "colab_type": "text",
    "id": "qglyc-NxGWNL"
   },
   "source": [
    "# 단어 벡터화 하기"
   ]
  },
  {
   "cell_type": "code",
   "execution_count": 35,
   "metadata": {
    "colab": {
     "base_uri": "https://localhost:8080/",
     "height": 122
    },
    "colab_type": "code",
    "executionInfo": {
     "elapsed": 1077,
     "status": "ok",
     "timestamp": 1550297562456,
     "user": {
      "displayName": "Joeun Park",
      "photoUrl": "https://lh6.googleusercontent.com/-JYBWhNoobh0/AAAAAAAAAAI/AAAAAAAADIs/8dW1MgKePR0/s64/photo.jpg",
      "userId": "17163383815352082166"
     },
     "user_tz": -540
    },
    "id": "7j0Ajj5AGWNL",
    "outputId": "2f05335a-124d-435c-cbae-c15e36b2847d"
   },
   "outputs": [
    {
     "data": {
      "text/plain": [
       "CountVectorizer(max_features=2000, min_df=2, ngram_range=(1, 3))"
      ]
     },
     "execution_count": 35,
     "metadata": {},
     "output_type": "execute_result"
    }
   ],
   "source": [
    "from sklearn.feature_extraction.text import CountVectorizer\n",
    "\n",
    "vectorizer = CountVectorizer(analyzer = 'word',\n",
    "                             tokenizer = None,\n",
    "                             preprocessor = None,\n",
    "                             stop_words = None,\n",
    "                             min_df = 2, \n",
    "                             ngram_range=(1, 3),\n",
    "                             max_features = 2000\n",
    "                            )\n",
    "vectorizer"
   ]
  },
  {
   "cell_type": "code",
   "execution_count": 36,
   "metadata": {
    "colab": {
     "base_uri": "https://localhost:8080/",
     "height": 51
    },
    "colab_type": "code",
    "executionInfo": {
     "elapsed": 14958,
     "status": "ok",
     "timestamp": 1550297576611,
     "user": {
      "displayName": "Joeun Park",
      "photoUrl": "https://lh6.googleusercontent.com/-JYBWhNoobh0/AAAAAAAAAAI/AAAAAAAADIs/8dW1MgKePR0/s64/photo.jpg",
      "userId": "17163383815352082166"
     },
     "user_tz": -540
    },
    "id": "8q4bGuwAGWNO",
    "outputId": "49875ad6-ff90-4aa8-89f4-f4df9e2ecc85"
   },
   "outputs": [
    {
     "name": "stdout",
     "output_type": "stream",
     "text": [
      "CPU times: user 8.62 s, sys: 374 ms, total: 9 s\n",
      "Wall time: 9.09 s\n"
     ]
    },
    {
     "data": {
      "text/plain": [
       "(3576, 2000)"
      ]
     },
     "execution_count": 36,
     "metadata": {},
     "output_type": "execute_result"
    }
   ],
   "source": [
    "%%time \n",
    "train_feature_vector = vectorizer.fit_transform(df_train['content_preprocessed'])\n",
    "train_feature_vector.shape"
   ]
  },
  {
   "cell_type": "code",
   "execution_count": 37,
   "metadata": {
    "colab": {
     "base_uri": "https://localhost:8080/",
     "height": 51
    },
    "colab_type": "code",
    "executionInfo": {
     "elapsed": 20738,
     "status": "ok",
     "timestamp": 1550297583137,
     "user": {
      "displayName": "Joeun Park",
      "photoUrl": "https://lh6.googleusercontent.com/-JYBWhNoobh0/AAAAAAAAAAI/AAAAAAAADIs/8dW1MgKePR0/s64/photo.jpg",
      "userId": "17163383815352082166"
     },
     "user_tz": -540
    },
    "id": "19A9PuHsGWNQ",
    "outputId": "f6c033ac-1ce3-4425-952f-7efc77b90150"
   },
   "outputs": [
    {
     "name": "stdout",
     "output_type": "stream",
     "text": [
      "CPU times: user 960 ms, sys: 8.9 ms, total: 968 ms\n",
      "Wall time: 973 ms\n"
     ]
    },
    {
     "data": {
      "text/plain": [
       "(1533, 2000)"
      ]
     },
     "execution_count": 37,
     "metadata": {},
     "output_type": "execute_result"
    }
   ],
   "source": [
    "%%time \n",
    "test_feature_vector = vectorizer.transform(df_test['content_preprocessed'])\n",
    "test_feature_vector.shape"
   ]
  },
  {
   "cell_type": "code",
   "execution_count": 38,
   "metadata": {
    "colab": {
     "base_uri": "https://localhost:8080/",
     "height": 204
    },
    "colab_type": "code",
    "executionInfo": {
     "elapsed": 20476,
     "status": "ok",
     "timestamp": 1550297583138,
     "user": {
      "displayName": "Joeun Park",
      "photoUrl": "https://lh6.googleusercontent.com/-JYBWhNoobh0/AAAAAAAAAAI/AAAAAAAADIs/8dW1MgKePR0/s64/photo.jpg",
      "userId": "17163383815352082166"
     },
     "user_tz": -540
    },
    "id": "YMh-0SK8GWNS",
    "outputId": "1ccf21fb-03eb-486d-d21f-47e0b6753724"
   },
   "outputs": [
    {
     "name": "stdout",
     "output_type": "stream",
     "text": [
      "2000\n"
     ]
    },
    {
     "data": {
      "text/plain": [
       "array(['aid', 'and', 'article', 'articleview', 'articleview html',\n",
       "       'articleview html idxno', 'cctv를', 'co', 'co kr', 'co kr news'],\n",
       "      dtype=object)"
      ]
     },
     "execution_count": 38,
     "metadata": {},
     "output_type": "execute_result"
    }
   ],
   "source": [
    "vocab = vectorizer.get_feature_names_out()\n",
    "print(len(vocab))\n",
    "vocab[:10]"
   ]
  },
  {
   "cell_type": "code",
   "execution_count": 39,
   "metadata": {
    "colab": {
     "base_uri": "https://localhost:8080/",
     "height": 126
    },
    "colab_type": "code",
    "executionInfo": {
     "elapsed": 20299,
     "status": "ok",
     "timestamp": 1550297583143,
     "user": {
      "displayName": "Joeun Park",
      "photoUrl": "https://lh6.googleusercontent.com/-JYBWhNoobh0/AAAAAAAAAAI/AAAAAAAADIs/8dW1MgKePR0/s64/photo.jpg",
      "userId": "17163383815352082166"
     },
     "user_tz": -540
    },
    "id": "CyaIQQ5cGWNX",
    "outputId": "552a435f-6087-4b2a-c6f9-36f2851764b6"
   },
   "outputs": [
    {
     "data": {
      "text/html": [
       "<div>\n",
       "<style scoped>\n",
       "    .dataframe tbody tr th:only-of-type {\n",
       "        vertical-align: middle;\n",
       "    }\n",
       "\n",
       "    .dataframe tbody tr th {\n",
       "        vertical-align: top;\n",
       "    }\n",
       "\n",
       "    .dataframe thead th {\n",
       "        text-align: right;\n",
       "    }\n",
       "</style>\n",
       "<table border=\"1\" class=\"dataframe\">\n",
       "  <thead>\n",
       "    <tr style=\"text-align: right;\">\n",
       "      <th></th>\n",
       "      <th>aid</th>\n",
       "      <th>and</th>\n",
       "      <th>article</th>\n",
       "      <th>articleview</th>\n",
       "      <th>articleview html</th>\n",
       "      <th>articleview html idxno</th>\n",
       "      <th>cctv를</th>\n",
       "      <th>co</th>\n",
       "      <th>co kr</th>\n",
       "      <th>co kr news</th>\n",
       "      <th>...</th>\n",
       "      <th>후에</th>\n",
       "      <th>훨씬</th>\n",
       "      <th>희망을</th>\n",
       "      <th>힘든</th>\n",
       "      <th>힘들게</th>\n",
       "      <th>힘들어</th>\n",
       "      <th>힘듭니다</th>\n",
       "      <th>힘없는</th>\n",
       "      <th>힘을</th>\n",
       "      <th>힘이</th>\n",
       "    </tr>\n",
       "  </thead>\n",
       "  <tbody>\n",
       "    <tr>\n",
       "      <th>0</th>\n",
       "      <td>123</td>\n",
       "      <td>100</td>\n",
       "      <td>77</td>\n",
       "      <td>108</td>\n",
       "      <td>84</td>\n",
       "      <td>84</td>\n",
       "      <td>58</td>\n",
       "      <td>264</td>\n",
       "      <td>256</td>\n",
       "      <td>116</td>\n",
       "      <td>...</td>\n",
       "      <td>75</td>\n",
       "      <td>128</td>\n",
       "      <td>81</td>\n",
       "      <td>210</td>\n",
       "      <td>129</td>\n",
       "      <td>60</td>\n",
       "      <td>55</td>\n",
       "      <td>53</td>\n",
       "      <td>119</td>\n",
       "      <td>95</td>\n",
       "    </tr>\n",
       "  </tbody>\n",
       "</table>\n",
       "<p>1 rows × 2000 columns</p>\n",
       "</div>"
      ],
      "text/plain": [
       "   aid  and  article  articleview  articleview html  articleview html idxno  \\\n",
       "0  123  100       77          108                84                      84   \n",
       "\n",
       "   cctv를   co  co kr  co kr news  ...  후에   훨씬  희망을   힘든  힘들게  힘들어  힘듭니다  힘없는  \\\n",
       "0     58  264    256         116  ...  75  128   81  210  129   60    55   53   \n",
       "\n",
       "    힘을  힘이  \n",
       "0  119  95  \n",
       "\n",
       "[1 rows x 2000 columns]"
      ]
     },
     "execution_count": 39,
     "metadata": {},
     "output_type": "execute_result"
    }
   ],
   "source": [
    "dist = np.sum(train_feature_vector, axis=0)\n",
    "\n",
    "pd.DataFrame(dist, columns=vocab)"
   ]
  },
  {
   "cell_type": "markdown",
   "metadata": {
    "colab_type": "text",
    "id": "xDqeIBSgEUiI"
   },
   "source": [
    "### TF-IDF 가중치 적용"
   ]
  },
  {
   "cell_type": "code",
   "execution_count": 40,
   "metadata": {
    "colab": {
     "base_uri": "https://localhost:8080/",
     "height": 51
    },
    "colab_type": "code",
    "executionInfo": {
     "elapsed": 19125,
     "status": "ok",
     "timestamp": 1550297583144,
     "user": {
      "displayName": "Joeun Park",
      "photoUrl": "https://lh6.googleusercontent.com/-JYBWhNoobh0/AAAAAAAAAAI/AAAAAAAADIs/8dW1MgKePR0/s64/photo.jpg",
      "userId": "17163383815352082166"
     },
     "user_tz": -540
    },
    "id": "ATlF2CtrGWNZ",
    "outputId": "0d0053de-6ee8-4d85-ef0c-bea22b17d344"
   },
   "outputs": [
    {
     "data": {
      "text/plain": [
       "TfidfTransformer(smooth_idf=False)"
      ]
     },
     "execution_count": 40,
     "metadata": {},
     "output_type": "execute_result"
    }
   ],
   "source": [
    "from sklearn.feature_extraction.text import TfidfTransformer\n",
    "transformer = TfidfTransformer(smooth_idf=False)\n",
    "transformer"
   ]
  },
  {
   "cell_type": "code",
   "execution_count": 41,
   "metadata": {
    "colab": {
     "base_uri": "https://localhost:8080/",
     "height": 51
    },
    "colab_type": "code",
    "executionInfo": {
     "elapsed": 13699,
     "status": "ok",
     "timestamp": 1550297583147,
     "user": {
      "displayName": "Joeun Park",
      "photoUrl": "https://lh6.googleusercontent.com/-JYBWhNoobh0/AAAAAAAAAAI/AAAAAAAADIs/8dW1MgKePR0/s64/photo.jpg",
      "userId": "17163383815352082166"
     },
     "user_tz": -540
    },
    "id": "S_RcWReoGWNm",
    "outputId": "3b9d7f92-344a-47d0-d575-3940e9fce348"
   },
   "outputs": [
    {
     "name": "stdout",
     "output_type": "stream",
     "text": [
      "CPU times: user 17.7 ms, sys: 3.19 ms, total: 20.9 ms\n",
      "Wall time: 20.9 ms\n"
     ]
    },
    {
     "data": {
      "text/plain": [
       "(3576, 2000)"
      ]
     },
     "execution_count": 41,
     "metadata": {},
     "output_type": "execute_result"
    }
   ],
   "source": [
    "%%time \n",
    "train_feature_tfidf = transformer.fit_transform(train_feature_vector)\n",
    "train_feature_tfidf.shape"
   ]
  },
  {
   "cell_type": "code",
   "execution_count": 42,
   "metadata": {
    "colab": {
     "base_uri": "https://localhost:8080/",
     "height": 51
    },
    "colab_type": "code",
    "executionInfo": {
     "elapsed": 13494,
     "status": "ok",
     "timestamp": 1550297583149,
     "user": {
      "displayName": "Joeun Park",
      "photoUrl": "https://lh6.googleusercontent.com/-JYBWhNoobh0/AAAAAAAAAAI/AAAAAAAADIs/8dW1MgKePR0/s64/photo.jpg",
      "userId": "17163383815352082166"
     },
     "user_tz": -540
    },
    "id": "m0m-rdxsGWNt",
    "outputId": "06389da7-9745-45f6-9666-2963cba75dec"
   },
   "outputs": [
    {
     "name": "stdout",
     "output_type": "stream",
     "text": [
      "CPU times: user 5.55 ms, sys: 2.33 ms, total: 7.88 ms\n",
      "Wall time: 5.21 ms\n"
     ]
    },
    {
     "data": {
      "text/plain": [
       "(1533, 2000)"
      ]
     },
     "execution_count": 42,
     "metadata": {},
     "output_type": "execute_result"
    }
   ],
   "source": [
    "%%time \n",
    "test_feature_tfidf = transformer.transform(test_feature_vector)\n",
    "test_feature_tfidf.shape"
   ]
  },
  {
   "cell_type": "code",
   "execution_count": 43,
   "metadata": {
    "colab": {
     "base_uri": "https://localhost:8080/",
     "height": 34
    },
    "colab_type": "code",
    "executionInfo": {
     "elapsed": 12929,
     "status": "ok",
     "timestamp": 1550297583151,
     "user": {
      "displayName": "Joeun Park",
      "photoUrl": "https://lh6.googleusercontent.com/-JYBWhNoobh0/AAAAAAAAAAI/AAAAAAAADIs/8dW1MgKePR0/s64/photo.jpg",
      "userId": "17163383815352082166"
     },
     "user_tz": -540
    },
    "id": "QXtYbXecGWN0",
    "outputId": "6f769c6d-c215-4c4c-b1f6-42e978fcf1aa"
   },
   "outputs": [
    {
     "data": {
      "text/plain": [
       "(1533, 2000)"
      ]
     },
     "execution_count": 43,
     "metadata": {},
     "output_type": "execute_result"
    }
   ],
   "source": [
    "test_feature_tfidf.shape"
   ]
  },
  {
   "cell_type": "markdown",
   "metadata": {
    "colab_type": "text",
    "id": "OLdWKx2iGWN4"
   },
   "source": [
    "# LGBM으로 학습\n",
    "\n",
    "\n",
    "* 설치 \n",
    "    * conda install -c conda-forge lightgbm\n",
    "    * pip install lightgbm"
   ]
  },
  {
   "cell_type": "code",
   "execution_count": 44,
   "metadata": {
    "colab": {
     "base_uri": "https://localhost:8080/",
     "height": 122
    },
    "colab_type": "code",
    "executionInfo": {
     "elapsed": 11364,
     "status": "ok",
     "timestamp": 1550297583153,
     "user": {
      "displayName": "Joeun Park",
      "photoUrl": "https://lh6.googleusercontent.com/-JYBWhNoobh0/AAAAAAAAAAI/AAAAAAAADIs/8dW1MgKePR0/s64/photo.jpg",
      "userId": "17163383815352082166"
     },
     "user_tz": -540
    },
    "id": "0qDw4YDnGWN5",
    "outputId": "e239cba6-5266-4134-92a8-1f73006d7039"
   },
   "outputs": [
    {
     "data": {
      "text/plain": [
       "LGBMClassifier(n_jobs=1, random_state=42)"
      ]
     },
     "execution_count": 44,
     "metadata": {},
     "output_type": "execute_result"
    }
   ],
   "source": [
    "from lightgbm import LGBMClassifier\n",
    "\n",
    "model = LGBMClassifier(random_state=42, n_jobs=1)\n",
    "model"
   ]
  },
  {
   "cell_type": "code",
   "execution_count": 45,
   "metadata": {
    "colab": {
     "base_uri": "https://localhost:8080/",
     "height": 52
    },
    "colab_type": "code",
    "executionInfo": {
     "elapsed": 14979,
     "status": "ok",
     "timestamp": 1550297587395,
     "user": {
      "displayName": "Joeun Park",
      "photoUrl": "https://lh6.googleusercontent.com/-JYBWhNoobh0/AAAAAAAAAAI/AAAAAAAADIs/8dW1MgKePR0/s64/photo.jpg",
      "userId": "17163383815352082166"
     },
     "user_tz": -540
    },
    "id": "pdYoXtz0GWN8",
    "outputId": "4eca6209-fd41-4c67-b90d-eda6d8d8d259"
   },
   "outputs": [
    {
     "name": "stdout",
     "output_type": "stream",
     "text": [
      "CPU times: user 2.77 s, sys: 48.6 ms, total: 2.82 s\n",
      "Wall time: 2.83 s\n"
     ]
    }
   ],
   "source": [
    "# 학습에 사용할 y_label 을 넣어준다.\n",
    "y_label = df_train['votes_pos_neg']\n",
    "%time model = model.fit(train_feature_tfidf, y_label)"
   ]
  },
  {
   "cell_type": "markdown",
   "metadata": {
    "colab_type": "text",
    "id": "mgaCkot3GWN_"
   },
   "source": [
    "# 평가하기"
   ]
  },
  {
   "cell_type": "code",
   "execution_count": 46,
   "metadata": {
    "colab": {
     "base_uri": "https://localhost:8080/",
     "height": 34
    },
    "colab_type": "code",
    "executionInfo": {
     "elapsed": 17773,
     "status": "ok",
     "timestamp": 1550297607266,
     "user": {
      "displayName": "Joeun Park",
      "photoUrl": "https://lh6.googleusercontent.com/-JYBWhNoobh0/AAAAAAAAAAI/AAAAAAAADIs/8dW1MgKePR0/s64/photo.jpg",
      "userId": "17163383815352082166"
     },
     "user_tz": -540
    },
    "id": "Q8f0HUbjGWN_",
    "outputId": "3cb13828-72de-4dc6-9d6a-e60a23bca06d"
   },
   "outputs": [
    {
     "data": {
      "text/plain": [
       "array([0.78351955, 0.80979021, 0.81398601, 0.77202797, 0.77342657])"
      ]
     },
     "execution_count": 46,
     "metadata": {},
     "output_type": "execute_result"
    }
   ],
   "source": [
    "from sklearn.model_selection import KFold\n",
    "from sklearn.model_selection import cross_val_score\n",
    "\n",
    "k_fold = KFold(n_splits=5, shuffle=True, random_state=42)\n",
    "\n",
    "scoring = 'accuracy'\n",
    "score = cross_val_score(model, train_feature_tfidf, \n",
    "                        y_label, cv=k_fold, n_jobs=-1, \n",
    "                        scoring=scoring)\n",
    "score"
   ]
  },
  {
   "cell_type": "code",
   "execution_count": 47,
   "metadata": {},
   "outputs": [
    {
     "data": {
      "text/plain": [
       "79.06"
      ]
     },
     "execution_count": 47,
     "metadata": {},
     "output_type": "execute_result"
    }
   ],
   "source": [
    "round(np.mean(score)*100,2)"
   ]
  },
  {
   "cell_type": "markdown",
   "metadata": {
    "colab_type": "text",
    "id": "1iGf3ldBGWOF"
   },
   "source": [
    "# 예측"
   ]
  },
  {
   "cell_type": "code",
   "execution_count": 48,
   "metadata": {
    "colab": {
     "base_uri": "https://localhost:8080/",
     "height": 34
    },
    "colab_type": "code",
    "executionInfo": {
     "elapsed": 17354,
     "status": "ok",
     "timestamp": 1550297607269,
     "user": {
      "displayName": "Joeun Park",
      "photoUrl": "https://lh6.googleusercontent.com/-JYBWhNoobh0/AAAAAAAAAAI/AAAAAAAADIs/8dW1MgKePR0/s64/photo.jpg",
      "userId": "17163383815352082166"
     },
     "user_tz": -540
    },
    "id": "MEBSuYTBGWOF",
    "outputId": "9041e279-4596-40c0-8d2b-eec93a8e7698"
   },
   "outputs": [
    {
     "data": {
      "text/plain": [
       "array([0, 0, 0, 0, 0, 0, 0, 0, 1, 0])"
      ]
     },
     "execution_count": 48,
     "metadata": {},
     "output_type": "execute_result"
    }
   ],
   "source": [
    "y_pred = model.predict(test_feature_tfidf)\n",
    "y_pred[:10]"
   ]
  },
  {
   "cell_type": "code",
   "execution_count": 49,
   "metadata": {
    "colab": {
     "base_uri": "https://localhost:8080/",
     "height": 34
    },
    "colab_type": "code",
    "executionInfo": {
     "elapsed": 17208,
     "status": "ok",
     "timestamp": 1550297607270,
     "user": {
      "displayName": "Joeun Park",
      "photoUrl": "https://lh6.googleusercontent.com/-JYBWhNoobh0/AAAAAAAAAAI/AAAAAAAADIs/8dW1MgKePR0/s64/photo.jpg",
      "userId": "17163383815352082166"
     },
     "user_tz": -540
    },
    "id": "FPDz-G45GWOI",
    "outputId": "d4c99d74-1a38-4066-ec84-a5f5b7df97ce"
   },
   "outputs": [
    {
     "data": {
      "text/plain": [
       "(1533,)"
      ]
     },
     "execution_count": 49,
     "metadata": {},
     "output_type": "execute_result"
    }
   ],
   "source": [
    "y_pred.shape"
   ]
  },
  {
   "cell_type": "code",
   "execution_count": 50,
   "metadata": {
    "colab": {
     "base_uri": "https://localhost:8080/",
     "height": 204
    },
    "colab_type": "code",
    "executionInfo": {
     "elapsed": 17058,
     "status": "ok",
     "timestamp": 1550297607271,
     "user": {
      "displayName": "Joeun Park",
      "photoUrl": "https://lh6.googleusercontent.com/-JYBWhNoobh0/AAAAAAAAAAI/AAAAAAAADIs/8dW1MgKePR0/s64/photo.jpg",
      "userId": "17163383815352082166"
     },
     "user_tz": -540
    },
    "id": "ze266zmNGWOK",
    "outputId": "09b8ad85-ab96-4697-f8e4-338d10ad59a2"
   },
   "outputs": [
    {
     "data": {
      "text/html": [
       "<div>\n",
       "<style scoped>\n",
       "    .dataframe tbody tr th:only-of-type {\n",
       "        vertical-align: middle;\n",
       "    }\n",
       "\n",
       "    .dataframe tbody tr th {\n",
       "        vertical-align: top;\n",
       "    }\n",
       "\n",
       "    .dataframe thead th {\n",
       "        text-align: right;\n",
       "    }\n",
       "</style>\n",
       "<table border=\"1\" class=\"dataframe\">\n",
       "  <thead>\n",
       "    <tr style=\"text-align: right;\">\n",
       "      <th></th>\n",
       "      <th>votes_pos_neg_pred</th>\n",
       "    </tr>\n",
       "  </thead>\n",
       "  <tbody>\n",
       "    <tr>\n",
       "      <th>0</th>\n",
       "      <td>0</td>\n",
       "    </tr>\n",
       "    <tr>\n",
       "      <th>1</th>\n",
       "      <td>0</td>\n",
       "    </tr>\n",
       "    <tr>\n",
       "      <th>2</th>\n",
       "      <td>0</td>\n",
       "    </tr>\n",
       "    <tr>\n",
       "      <th>3</th>\n",
       "      <td>0</td>\n",
       "    </tr>\n",
       "    <tr>\n",
       "      <th>4</th>\n",
       "      <td>0</td>\n",
       "    </tr>\n",
       "  </tbody>\n",
       "</table>\n",
       "</div>"
      ],
      "text/plain": [
       "   votes_pos_neg_pred\n",
       "0                   0\n",
       "1                   0\n",
       "2                   0\n",
       "3                   0\n",
       "4                   0"
      ]
     },
     "execution_count": 50,
     "metadata": {},
     "output_type": "execute_result"
    }
   ],
   "source": [
    "# 예측 결과를 저장하기 위해 데이터프레임에 담아 준다.\n",
    "output = pd.DataFrame(data={'votes_pos_neg_pred' : y_pred})\n",
    "output.head()"
   ]
  },
  {
   "cell_type": "code",
   "execution_count": 51,
   "metadata": {
    "colab": {
     "base_uri": "https://localhost:8080/",
     "height": 69
    },
    "colab_type": "code",
    "executionInfo": {
     "elapsed": 16884,
     "status": "ok",
     "timestamp": 1550297607272,
     "user": {
      "displayName": "Joeun Park",
      "photoUrl": "https://lh6.googleusercontent.com/-JYBWhNoobh0/AAAAAAAAAAI/AAAAAAAADIs/8dW1MgKePR0/s64/photo.jpg",
      "userId": "17163383815352082166"
     },
     "user_tz": -540
    },
    "id": "3ac-3gaYGWOM",
    "outputId": "d22c5d8a-4ec9-451d-d6f0-703cb74534fc"
   },
   "outputs": [
    {
     "data": {
      "text/plain": [
       "0    1482\n",
       "1      51\n",
       "Name: votes_pos_neg_pred, dtype: int64"
      ]
     },
     "execution_count": 51,
     "metadata": {},
     "output_type": "execute_result"
    }
   ],
   "source": [
    "# 0과 1이 어떻게 집계 되었는지 확인한다.\n",
    "# 실제 데이터에는 답변 대상 건이 있는데 없는 것으로 예측되었다.\n",
    "output['votes_pos_neg_pred'].value_counts()"
   ]
  },
  {
   "cell_type": "code",
   "execution_count": 52,
   "metadata": {
    "colab": {},
    "colab_type": "code",
    "id": "c0arvl9VGWOO"
   },
   "outputs": [],
   "source": [
    "df_test['votes_pos_neg_pred'] = y_pred"
   ]
  },
  {
   "cell_type": "markdown",
   "metadata": {
    "colab_type": "text",
    "id": "efPkBGQ4E4cr"
   },
   "source": [
    "## 예측 결과의 정확도 보기"
   ]
  },
  {
   "cell_type": "code",
   "execution_count": 53,
   "metadata": {
    "colab": {
     "base_uri": "https://localhost:8080/",
     "height": 204
    },
    "colab_type": "code",
    "executionInfo": {
     "elapsed": 16444,
     "status": "ok",
     "timestamp": 1550297607279,
     "user": {
      "displayName": "Joeun Park",
      "photoUrl": "https://lh6.googleusercontent.com/-JYBWhNoobh0/AAAAAAAAAAI/AAAAAAAADIs/8dW1MgKePR0/s64/photo.jpg",
      "userId": "17163383815352082166"
     },
     "user_tz": -540
    },
    "id": "5leGuF_QGWOQ",
    "outputId": "a6848e4d-9588-47e2-b462-a2698a273e29"
   },
   "outputs": [
    {
     "data": {
      "text/html": [
       "<div>\n",
       "<style scoped>\n",
       "    .dataframe tbody tr th:only-of-type {\n",
       "        vertical-align: middle;\n",
       "    }\n",
       "\n",
       "    .dataframe tbody tr th {\n",
       "        vertical-align: top;\n",
       "    }\n",
       "\n",
       "    .dataframe thead th {\n",
       "        text-align: right;\n",
       "    }\n",
       "</style>\n",
       "<table border=\"1\" class=\"dataframe\">\n",
       "  <thead>\n",
       "    <tr style=\"text-align: right;\">\n",
       "      <th></th>\n",
       "      <th>title</th>\n",
       "      <th>votes</th>\n",
       "      <th>votes_pos_neg</th>\n",
       "      <th>votes_pos_neg_pred</th>\n",
       "      <th>pred_diff</th>\n",
       "    </tr>\n",
       "  </thead>\n",
       "  <tbody>\n",
       "    <tr>\n",
       "      <th>264134</th>\n",
       "      <td>동탄1 신도시의 동탄트램1호선, 동탄트램2호선을 유지하여 착공해주세요</td>\n",
       "      <td>724</td>\n",
       "      <td>0</td>\n",
       "      <td>0</td>\n",
       "      <td>0</td>\n",
       "    </tr>\n",
       "    <tr>\n",
       "      <th>264152</th>\n",
       "      <td>어린이집학부모 모니터링과 평가인증 없애야한다고 생각합니다 .</td>\n",
       "      <td>507</td>\n",
       "      <td>0</td>\n",
       "      <td>0</td>\n",
       "      <td>0</td>\n",
       "    </tr>\n",
       "    <tr>\n",
       "      <th>264489</th>\n",
       "      <td>국방부 \"해안·강 경계철책 300㎞ 중 절반 단계적 철거\"  대한민국 안전을 위협합니다.</td>\n",
       "      <td>558</td>\n",
       "      <td>0</td>\n",
       "      <td>0</td>\n",
       "      <td>0</td>\n",
       "    </tr>\n",
       "    <tr>\n",
       "      <th>264534</th>\n",
       "      <td>인천 미추홀구(남구) 악취로 인해 못살겠습니다~</td>\n",
       "      <td>1322</td>\n",
       "      <td>0</td>\n",
       "      <td>0</td>\n",
       "      <td>0</td>\n",
       "    </tr>\n",
       "    <tr>\n",
       "      <th>264652</th>\n",
       "      <td>시민단체수준인 여가부 폐지를 청원합니다</td>\n",
       "      <td>1371</td>\n",
       "      <td>0</td>\n",
       "      <td>0</td>\n",
       "      <td>0</td>\n",
       "    </tr>\n",
       "  </tbody>\n",
       "</table>\n",
       "</div>"
      ],
      "text/plain": [
       "                                                    title  votes  \\\n",
       "264134             동탄1 신도시의 동탄트램1호선, 동탄트램2호선을 유지하여 착공해주세요    724   \n",
       "264152                  어린이집학부모 모니터링과 평가인증 없애야한다고 생각합니다 .    507   \n",
       "264489  국방부 \"해안·강 경계철책 300㎞ 중 절반 단계적 철거\"  대한민국 안전을 위협합니다.    558   \n",
       "264534                         인천 미추홀구(남구) 악취로 인해 못살겠습니다~   1322   \n",
       "264652                              시민단체수준인 여가부 폐지를 청원합니다   1371   \n",
       "\n",
       "        votes_pos_neg  votes_pos_neg_pred  pred_diff  \n",
       "264134              0                   0          0  \n",
       "264152              0                   0          0  \n",
       "264489              0                   0          0  \n",
       "264534              0                   0          0  \n",
       "264652              0                   0          0  "
      ]
     },
     "execution_count": 53,
     "metadata": {},
     "output_type": "execute_result"
    }
   ],
   "source": [
    "df_test['pred_diff'] = np.abs(df_test['votes_pos_neg'] - df_test['votes_pos_neg_pred'])\n",
    "df_test[['title', 'votes', 'votes_pos_neg', 'votes_pos_neg_pred', 'pred_diff']].head()"
   ]
  },
  {
   "cell_type": "code",
   "execution_count": 54,
   "metadata": {
    "colab": {
     "base_uri": "https://localhost:8080/",
     "height": 68
    },
    "colab_type": "code",
    "executionInfo": {
     "elapsed": 16108,
     "status": "ok",
     "timestamp": 1550297607280,
     "user": {
      "displayName": "Joeun Park",
      "photoUrl": "https://lh6.googleusercontent.com/-JYBWhNoobh0/AAAAAAAAAAI/AAAAAAAADIs/8dW1MgKePR0/s64/photo.jpg",
      "userId": "17163383815352082166"
     },
     "user_tz": -540
    },
    "id": "FLNOi6I8GWOU",
    "outputId": "3091996b-a0eb-4e30-8521-63bcaf21f4a0"
   },
   "outputs": [
    {
     "data": {
      "text/plain": [
       "0    1229\n",
       "1     304\n",
       "Name: pred_diff, dtype: int64"
      ]
     },
     "execution_count": 54,
     "metadata": {},
     "output_type": "execute_result"
    }
   ],
   "source": [
    "pred_diff = df_test['pred_diff'].value_counts()\n",
    "pred_diff"
   ]
  },
  {
   "cell_type": "code",
   "execution_count": 55,
   "metadata": {
    "colab": {
     "base_uri": "https://localhost:8080/",
     "height": 34
    },
    "colab_type": "code",
    "executionInfo": {
     "elapsed": 15933,
     "status": "ok",
     "timestamp": 1550297607281,
     "user": {
      "displayName": "Joeun Park",
      "photoUrl": "https://lh6.googleusercontent.com/-JYBWhNoobh0/AAAAAAAAAAI/AAAAAAAADIs/8dW1MgKePR0/s64/photo.jpg",
      "userId": "17163383815352082166"
     },
     "user_tz": -540
    },
    "id": "huEMcnq2GWOW",
    "outputId": "34b6b83d-efd4-4155-efd5-88807cd3f936"
   },
   "outputs": [
    {
     "name": "stdout",
     "output_type": "stream",
     "text": [
      "전체 1533건의 데이터 중 1229건 예측\n"
     ]
    }
   ],
   "source": [
    "print(f\"전체 {y_pred.shape[0]}건의 데이터 중 {pred_diff[0]}건 예측\")"
   ]
  },
  {
   "cell_type": "code",
   "execution_count": 56,
   "metadata": {
    "colab": {
     "base_uri": "https://localhost:8080/",
     "height": 34
    },
    "colab_type": "code",
    "executionInfo": {
     "elapsed": 15720,
     "status": "ok",
     "timestamp": 1550297607281,
     "user": {
      "displayName": "Joeun Park",
      "photoUrl": "https://lh6.googleusercontent.com/-JYBWhNoobh0/AAAAAAAAAAI/AAAAAAAADIs/8dW1MgKePR0/s64/photo.jpg",
      "userId": "17163383815352082166"
     },
     "user_tz": -540
    },
    "id": "j39m-qJMGWOY",
    "outputId": "587feb30-18e8-4c73-c8fc-85d433a8d08c"
   },
   "outputs": [
    {
     "name": "stdout",
     "output_type": "stream",
     "text": [
      "정확도 80.169602\n"
     ]
    }
   ],
   "source": [
    "acc = ( pred_diff[0] / y_pred.shape[0] ) * 100 \n",
    "print(f'정확도 {acc:.6f}')"
   ]
  },
  {
   "cell_type": "code",
   "execution_count": null,
   "metadata": {
    "colab": {},
    "colab_type": "code",
    "id": "8TvXZU7GGWOa"
   },
   "outputs": [],
   "source": []
  }
 ],
 "metadata": {
  "kernelspec": {
   "display_name": "Python 3 (ipykernel)",
   "language": "python",
   "name": "python3"
  },
  "language_info": {
   "codemirror_mode": {
    "name": "ipython",
    "version": 3
   },
   "file_extension": ".py",
   "mimetype": "text/x-python",
   "name": "python",
   "nbconvert_exporter": "python",
   "pygments_lexer": "ipython3",
   "version": "3.7.13"
  },
  "toc": {
   "base_numbering": 1,
   "nav_menu": {},
   "number_sections": true,
   "sideBar": true,
   "skip_h1_title": false,
   "title_cell": "Table of Contents",
   "title_sidebar": "Contents",
   "toc_cell": false,
   "toc_position": {},
   "toc_section_display": true,
   "toc_window_display": false
  },
  "varInspector": {
   "cols": {
    "lenName": 16,
    "lenType": 16,
    "lenVar": 40
   },
   "kernels_config": {
    "python": {
     "delete_cmd_postfix": "",
     "delete_cmd_prefix": "del ",
     "library": "var_list.py",
     "varRefreshCmd": "print(var_dic_list())"
    },
    "r": {
     "delete_cmd_postfix": ") ",
     "delete_cmd_prefix": "rm(",
     "library": "var_list.r",
     "varRefreshCmd": "cat(var_dic_list()) "
    }
   },
   "types_to_exclude": [
    "module",
    "function",
    "builtin_function_or_method",
    "instance",
    "_Feature"
   ],
   "window_display": false
  }
 },
 "nbformat": 4,
 "nbformat_minor": 1
}
