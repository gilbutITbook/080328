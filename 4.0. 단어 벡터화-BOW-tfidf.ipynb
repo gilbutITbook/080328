{
 "cells": [
  {
   "cell_type": "markdown",
   "metadata": {
    "id": "H_vZSCpe-gT4"
   },
   "source": [
    "## 4.1. 단어 가방 모형"
   ]
  },
  {
   "cell_type": "markdown",
   "metadata": {
    "id": "Vy6Elih7gVZ_"
   },
   "source": [
    "[![Open In Colab](https://colab.research.google.com/assets/colab-badge.svg)](https://colab.research.google.com/github/pytextbook/pytextbook/blob/main/4.0.%20단어%20벡터화-BOW-tfidf.ipynb) \n",
    "\n",
    "\n",
    "* https://scikit-learn.org/stable/modules/feature_extraction.html\n",
    "\n",
    "## 라이브러리 설치 및 불러 오기\n",
    "필요 라이브러리를 불러오기 위해 셀 왼쪽에 셀 실행 버튼(세모 모양)을 눌러 실행한다."
   ]
  },
  {
   "cell_type": "code",
   "execution_count": 1,
   "metadata": {
    "executionInfo": {
     "elapsed": 312,
     "status": "ok",
     "timestamp": 1672302327683,
     "user": {
      "displayName": "송영숙",
      "userId": "01138230862948206591"
     },
     "user_tz": -540
    },
    "id": "kBIC6ap4XNO6"
   },
   "outputs": [],
   "source": [
    "# 불피요한 warnings 이 길게 출력되는 막기 위한 코드이다.\n",
    "import warnings\n",
    "warnings.filterwarnings(\"ignore\")"
   ]
  },
  {
   "cell_type": "code",
   "execution_count": 2,
   "metadata": {
    "executionInfo": {
     "elapsed": 6,
     "status": "ok",
     "timestamp": 1672302328311,
     "user": {
      "displayName": "송영숙",
      "userId": "01138230862948206591"
     },
     "user_tz": -540
    },
    "id": "kFlB8K5kIhC9"
   },
   "outputs": [],
   "source": [
    "# 데이터 분석을 위한 pandas, 수치계산을 위한 numpy, 시각화를 위한 seaborn, matplotlib 을 불러온다.\n",
    "import pandas as pd\n",
    "import numpy as np\n",
    "import seaborn as sns\n",
    "import matplotlib.pyplot as plt"
   ]
  },
  {
   "cell_type": "markdown",
   "metadata": {
    "id": "6b5RxWcKNTEf"
   },
   "source": [
    "한글폰트 설정을 위한 koreanize-matplotlib가 설치 되어 있지 않다면 아래 코드의 주석(#)을 지우고 셀을 실행하여 설치한다. colab에서는 노트북을 새로 열 때마다 설치해야 한다."
   ]
  },
  {
   "cell_type": "code",
   "execution_count": 3,
   "metadata": {
    "executionInfo": {
     "elapsed": 6,
     "status": "ok",
     "timestamp": 1672302328312,
     "user": {
      "displayName": "송영숙",
      "userId": "01138230862948206591"
     },
     "user_tz": -540
    },
    "id": "t66iEHVtLiZn"
   },
   "outputs": [],
   "source": [
    "!pip install koreanize-matplotlib"
   ]
  },
  {
   "cell_type": "markdown",
   "metadata": {
    "id": "AyTPG7XiLiZo"
   },
   "source": [
    "## 시각화를 위한 한글폰트 설정"
   ]
  },
  {
   "cell_type": "code",
   "execution_count": 4,
   "metadata": {
    "colab": {
     "base_uri": "https://localhost:8080/",
     "height": 135
    },
    "executionInfo": {
     "elapsed": 6,
     "status": "ok",
     "timestamp": 1672302328312,
     "user": {
      "displayName": "송영숙",
      "userId": "01138230862948206591"
     },
     "user_tz": -540
    },
    "id": "29oJws6LgzIR",
    "outputId": "453c608c-f2f2-4284-b513-e6f729593871"
   },
   "outputs": [
    {
     "data": {
      "text/plain": [
       "<AxesSubplot: title={'center': '한글'}>"
      ]
     },
     "execution_count": 4,
     "metadata": {},
     "output_type": "execute_result"
    },
    {
     "data": {
      "image/png": "[encoded data removed]",
      "text/plain": [
       "<Figure size 600x100 with 1 Axes>"
      ]
     },
     "metadata": {
      "image/png": {
       "height": 140,
       "width": 508
      }
     },
     "output_type": "display_data"
    }
   ],
   "source": [
    "import koreanize_matplotlib\n",
    "\n",
    "# 그래프에 retina display 적용\n",
    "%config InlineBackend.figure_format = 'retina'\n",
    "\n",
    "pd.Series([1, 3, 5, -7, 9]).plot(title=\"한글\", figsize=(6, 1))"
   ]
  },
  {
   "cell_type": "markdown",
   "metadata": {
    "id": "d74ZK7ypN9Xn"
   },
   "source": [
    "##단어 가방 모형 만들기"
   ]
  },
  {
   "cell_type": "markdown",
   "metadata": {
    "id": "Rhy1ATcYrSgi"
   },
   "source": [
    "### 분석의 순서     \n",
    " ●\t분석하고자 하는 데이터를 corpus에 담는다. 여기서는 임의로 4개의 문장을 담았다.         \n",
    "●\t sklearn.feature_extraction.text 에서 CountVectorizer() 를 불러온다.     \n",
    "●\tfit() 에 데이터(corpus)를 넣어 단어 사전을 학습시킨다.     \n",
    "●\ttransform() 메서드를 통해 수치 행렬 형태로 변환한다.     \n"
   ]
  },
  {
   "cell_type": "markdown",
   "metadata": {
    "id": "5yjAbiffZaTj"
   },
   "source": [
    "먼저 데이터를 ‘Corpus’에 담아 둔다. 여기서는 임의로 4개의 문장을 담았다. "
   ]
  },
  {
   "cell_type": "code",
   "execution_count": 5,
   "metadata": {
    "colab": {
     "base_uri": "https://localhost:8080/"
    },
    "executionInfo": {
     "elapsed": 36,
     "status": "ok",
     "timestamp": 1672302328681,
     "user": {
      "displayName": "송영숙",
      "userId": "01138230862948206591"
     },
     "user_tz": -540
    },
    "id": "yv-6jXPabA2E",
    "outputId": "2b323be0-4058-49fe-91a3-7b20b7879dae"
   },
   "outputs": [
    {
     "data": {
      "text/plain": [
       "['코로나 거리두기와 코로나 상생지원금 문의입니다.',\n",
       " '지하철 운행시간과 지하철 요금 문의입니다.',\n",
       " '지하철 승강장 문의입니다.',\n",
       " '택시 승강장 문의입니다.']"
      ]
     },
     "execution_count": 5,
     "metadata": {},
     "output_type": "execute_result"
    }
   ],
   "source": [
    "corpus = [\"코로나 거리두기와 코로나 상생지원금 문의입니다.\",\n",
    "          \"지하철 운행시간과 지하철 요금 문의입니다.\",\n",
    "          \"지하철 승강장 문의입니다.\",\n",
    "          \"택시 승강장 문의입니다.\"]\n",
    "\n",
    "corpus"
   ]
  },
  {
   "cell_type": "markdown",
   "metadata": {
    "id": "jIJi8b8kZ7TP"
   },
   "source": [
    "● sklearn.feature_extraction.text 에서 CountVectorizer() 를 통해 BOW를 생성한다.\n",
    "\n",
    "* API documentation:https://scikit-learn.org/stable/modules/generated/sklearn.feature_extraction.text.CountVectorizer.html\n"
   ]
  },
  {
   "cell_type": "code",
   "execution_count": 6,
   "metadata": {
    "executionInfo": {
     "elapsed": 35,
     "status": "ok",
     "timestamp": 1672302328681,
     "user": {
      "displayName": "송영숙",
      "userId": "01138230862948206591"
     },
     "user_tz": -540
    },
    "id": "UWfpkk8YtKUN"
   },
   "outputs": [],
   "source": [
    "from sklearn.feature_extraction.text import CountVectorizer"
   ]
  },
  {
   "cell_type": "markdown",
   "metadata": {
    "id": "l4srC0k-rV-I"
   },
   "source": [
    "● 다음으로 문장에서 노출되는 feature(특징이 될만한 단어) 수를 합한 Document Term Matrix(이하 dtm) 을 반환하고 fit() 에 데이터(corpus)를 넣어 단어 사전을 학습시킨다. fit()은  모든 토큰의 어휘 사전을 학습한다.           \n",
    "● 마지막으로 transform(): 문서를 단어 빈도수가 들어있는 문서 용어 매트릭스로 변환한다. "
   ]
  },
  {
   "cell_type": "markdown",
   "metadata": {
    "id": "pdXYRQqgQS2V"
   },
   "source": [
    "### fit, transform, fit_transfrom의 차이점\n",
    "* fit(): 원시 문서에 있는 모든 토큰의 어휘 사전을 배운다.\n",
    "* transform(): 문서를 문서 용어 매트릭스로 변환합니다. transform 이후엔 매트릭스로 변환되어 숫자형태로 변경된다.\n",
    "* fit_transform(): 어휘 사전을 배우고 문서 용어 매트릭스를 반환한다. fit 다음에 변환이 오는 것과 동일하지만 더 효율적으로 구현된다.\n",
    "\n",
    "⚠️ 주의! ⚠️\n",
    "* 단, fit_transform 은 학습데이터에만 사용하고 예측 데이터에는 transform 을 사용한다.\n",
    "* 예측 데이터에도 fit_transform 을 사용하게 된다면 서로 다른 단어사전으로 행렬을 만들게 된다.\n",
    "* fit 과 transform 을 따로 사용해 준다 하더라도 fit 은 학습 데이터에만 사용한다. 같은 단어 사전으로 예측 데이터셋의 단어 사전을 만들기 위해서이다."
   ]
  },
  {
   "cell_type": "code",
   "execution_count": 7,
   "metadata": {
    "colab": {
     "base_uri": "https://localhost:8080/"
    },
    "executionInfo": {
     "elapsed": 35,
     "status": "ok",
     "timestamp": 1672302328681,
     "user": {
      "displayName": "송영숙",
      "userId": "01138230862948206591"
     },
     "user_tz": -540
    },
    "id": "Kj92S-EBF-yB",
    "outputId": "5960b3c7-9919-44da-87b8-dfaf36d138de"
   },
   "outputs": [
    {
     "data": {
      "text/plain": [
       "<4x9 sparse matrix of type '<class 'numpy.int64'>'\n",
       "\twith 14 stored elements in Compressed Sparse Row format>"
      ]
     },
     "execution_count": 7,
     "metadata": {},
     "output_type": "execute_result"
    }
   ],
   "source": [
    "cvect = CountVectorizer()\n",
    "cvect.fit(corpus)\n",
    "dtm = cvect.transform(corpus)\n",
    "dtm"
   ]
  },
  {
   "cell_type": "markdown",
   "metadata": {
    "id": "v9QNg-o4u0WM"
   },
   "source": [
    "또 다른 방법으로는 fit_transform()을 사용하여 효율적으로 구현할 수도 있다."
   ]
  },
  {
   "cell_type": "code",
   "execution_count": 8,
   "metadata": {
    "colab": {
     "base_uri": "https://localhost:8080/"
    },
    "executionInfo": {
     "elapsed": 34,
     "status": "ok",
     "timestamp": 1672302328682,
     "user": {
      "displayName": "송영숙",
      "userId": "01138230862948206591"
     },
     "user_tz": -540
    },
    "id": "MnrEbah0LiZs",
    "outputId": "139ed368-17b3-4396-beb5-7f156a5cd887"
   },
   "outputs": [
    {
     "data": {
      "text/plain": [
       "<4x9 sparse matrix of type '<class 'numpy.int64'>'\n",
       "\twith 14 stored elements in Compressed Sparse Row format>"
      ]
     },
     "execution_count": 8,
     "metadata": {},
     "output_type": "execute_result"
    }
   ],
   "source": [
    "dtm = cvect.fit_transform(corpus)\n",
    "dtm"
   ]
  },
  {
   "cell_type": "code",
   "execution_count": 9,
   "metadata": {
    "colab": {
     "base_uri": "https://localhost:8080/"
    },
    "executionInfo": {
     "elapsed": 33,
     "status": "ok",
     "timestamp": 1672302328682,
     "user": {
      "displayName": "송영숙",
      "userId": "01138230862948206591"
     },
     "user_tz": -540
    },
    "id": "gXSatDPzF-vt",
    "outputId": "9b3ce138-7a7f-42ab-c4d2-8a62c4bcc21d"
   },
   "outputs": [
    {
     "data": {
      "text/plain": [
       "{'코로나': 7,\n",
       " '거리두기와': 0,\n",
       " '상생지원금': 2,\n",
       " '문의입니다': 1,\n",
       " '지하철': 6,\n",
       " '운행시간과': 5,\n",
       " '요금': 4,\n",
       " '승강장': 3,\n",
       " '택시': 8}"
      ]
     },
     "execution_count": 9,
     "metadata": {},
     "output_type": "execute_result"
    }
   ],
   "source": [
    "# 단어사전을 확인해 보면  {\"단어\": 인덱스번호} 로 되어 있음을 알 수 있다.\n",
    "cvect.vocabulary_"
   ]
  },
  {
   "cell_type": "markdown",
   "metadata": {
    "id": "kGrFys2kxMk1"
   },
   "source": [
    "get_feature_names_out()을 사용하면 dtm 이라는 변수로 쓰여진 단어-문서 행렬에 등장하는 순서대로 단어 사전을 반환한다. "
   ]
  },
  {
   "cell_type": "code",
   "execution_count": 10,
   "metadata": {
    "colab": {
     "base_uri": "https://localhost:8080/"
    },
    "executionInfo": {
     "elapsed": 32,
     "status": "ok",
     "timestamp": 1672302328682,
     "user": {
      "displayName": "송영숙",
      "userId": "01138230862948206591"
     },
     "user_tz": -540
    },
    "id": "9jFX2ts0LiZs",
    "outputId": "f6bc1811-b2df-4c9f-f566-bf7f76be5fce"
   },
   "outputs": [
    {
     "data": {
      "text/plain": [
       "array(['거리두기와', '문의입니다', '상생지원금', '승강장', '요금', '운행시간과', '지하철', '코로나',\n",
       "       '택시'], dtype=object)"
      ]
     },
     "execution_count": 10,
     "metadata": {},
     "output_type": "execute_result"
    }
   ],
   "source": [
    "vocab = cvect.get_feature_names_out()\n",
    "vocab"
   ]
  },
  {
   "cell_type": "markdown",
   "metadata": {
    "id": "JyiMVQk2xYkE"
   },
   "source": [
    "이제 document-term matrix를 판다스의 데이터프레임으로 만들어서 단어의 빈도를 확인할 수 있다."
   ]
  },
  {
   "cell_type": "code",
   "execution_count": 11,
   "metadata": {
    "colab": {
     "base_uri": "https://localhost:8080/",
     "height": 175
    },
    "executionInfo": {
     "elapsed": 30,
     "status": "ok",
     "timestamp": 1672302328682,
     "user": {
      "displayName": "송영숙",
      "userId": "01138230862948206591"
     },
     "user_tz": -540
    },
    "id": "lXr_Vzj_LiZt",
    "outputId": "31b54509-a347-460f-9f81-758c48a3c2d2"
   },
   "outputs": [
    {
     "data": {
      "text/html": [
       "<div>\n",
       "<style scoped>\n",
       "    .dataframe tbody tr th:only-of-type {\n",
       "        vertical-align: middle;\n",
       "    }\n",
       "\n",
       "    .dataframe tbody tr th {\n",
       "        vertical-align: top;\n",
       "    }\n",
       "\n",
       "    .dataframe thead th {\n",
       "        text-align: right;\n",
       "    }\n",
       "</style>\n",
       "<table border=\"1\" class=\"dataframe\">\n",
       "  <thead>\n",
       "    <tr style=\"text-align: right;\">\n",
       "      <th></th>\n",
       "      <th>거리두기와</th>\n",
       "      <th>문의입니다</th>\n",
       "      <th>상생지원금</th>\n",
       "      <th>승강장</th>\n",
       "      <th>요금</th>\n",
       "      <th>운행시간과</th>\n",
       "      <th>지하철</th>\n",
       "      <th>코로나</th>\n",
       "      <th>택시</th>\n",
       "    </tr>\n",
       "  </thead>\n",
       "  <tbody>\n",
       "    <tr>\n",
       "      <th>0</th>\n",
       "      <td>1</td>\n",
       "      <td>1</td>\n",
       "      <td>1</td>\n",
       "      <td>0</td>\n",
       "      <td>0</td>\n",
       "      <td>0</td>\n",
       "      <td>0</td>\n",
       "      <td>2</td>\n",
       "      <td>0</td>\n",
       "    </tr>\n",
       "    <tr>\n",
       "      <th>1</th>\n",
       "      <td>0</td>\n",
       "      <td>1</td>\n",
       "      <td>0</td>\n",
       "      <td>0</td>\n",
       "      <td>1</td>\n",
       "      <td>1</td>\n",
       "      <td>2</td>\n",
       "      <td>0</td>\n",
       "      <td>0</td>\n",
       "    </tr>\n",
       "    <tr>\n",
       "      <th>2</th>\n",
       "      <td>0</td>\n",
       "      <td>1</td>\n",
       "      <td>0</td>\n",
       "      <td>1</td>\n",
       "      <td>0</td>\n",
       "      <td>0</td>\n",
       "      <td>1</td>\n",
       "      <td>0</td>\n",
       "      <td>0</td>\n",
       "    </tr>\n",
       "    <tr>\n",
       "      <th>3</th>\n",
       "      <td>0</td>\n",
       "      <td>1</td>\n",
       "      <td>0</td>\n",
       "      <td>1</td>\n",
       "      <td>0</td>\n",
       "      <td>0</td>\n",
       "      <td>0</td>\n",
       "      <td>0</td>\n",
       "      <td>1</td>\n",
       "    </tr>\n",
       "  </tbody>\n",
       "</table>\n",
       "</div>"
      ],
      "text/plain": [
       "   거리두기와  문의입니다  상생지원금  승강장  요금  운행시간과  지하철  코로나  택시\n",
       "0      1      1      1    0   0      0    0    2   0\n",
       "1      0      1      0    0   1      1    2    0   0\n",
       "2      0      1      0    1   0      0    1    0   0\n",
       "3      0      1      0    1   0      0    0    0   1"
      ]
     },
     "execution_count": 11,
     "metadata": {},
     "output_type": "execute_result"
    }
   ],
   "source": [
    "df_dtm = pd.DataFrame(dtm.toarray(), columns=vocab)\n",
    "df_dtm"
   ]
  },
  {
   "cell_type": "markdown",
   "metadata": {
    "id": "k55XjvMxykhu"
   },
   "source": [
    "전체 문서에는 등장하지만, 해당 문서에는 등장하지 않는 단어는 0으로 표시된다. 예시 문서의 빈도수를 보면 첫 번째 문서에서 “코로나\"라는 단어가 2번 등장하기 때문에 빈도수가 2로 표시가 되어 있다.  이제  이제 전체 문서에서 단어 빈도의 합계를 구하는 것으로 데이터를 간명하게 보이도록 요약한다."
   ]
  },
  {
   "cell_type": "code",
   "execution_count": 12,
   "metadata": {
    "colab": {
     "base_uri": "https://localhost:8080/",
     "height": 81
    },
    "executionInfo": {
     "elapsed": 31,
     "status": "ok",
     "timestamp": 1672302328683,
     "user": {
      "displayName": "송영숙",
      "userId": "01138230862948206591"
     },
     "user_tz": -540
    },
    "id": "06asmxUbLiZt",
    "outputId": "718843ad-0c87-4a2d-e1aa-1ffce67c5498"
   },
   "outputs": [
    {
     "data": {
      "text/html": [
       "<div>\n",
       "<style scoped>\n",
       "    .dataframe tbody tr th:only-of-type {\n",
       "        vertical-align: middle;\n",
       "    }\n",
       "\n",
       "    .dataframe tbody tr th {\n",
       "        vertical-align: top;\n",
       "    }\n",
       "\n",
       "    .dataframe thead th {\n",
       "        text-align: right;\n",
       "    }\n",
       "</style>\n",
       "<table border=\"1\" class=\"dataframe\">\n",
       "  <thead>\n",
       "    <tr style=\"text-align: right;\">\n",
       "      <th></th>\n",
       "      <th>거리두기와</th>\n",
       "      <th>문의입니다</th>\n",
       "      <th>상생지원금</th>\n",
       "      <th>승강장</th>\n",
       "      <th>요금</th>\n",
       "      <th>운행시간과</th>\n",
       "      <th>지하철</th>\n",
       "      <th>코로나</th>\n",
       "      <th>택시</th>\n",
       "    </tr>\n",
       "  </thead>\n",
       "  <tbody>\n",
       "    <tr>\n",
       "      <th>0</th>\n",
       "      <td>1</td>\n",
       "      <td>4</td>\n",
       "      <td>1</td>\n",
       "      <td>2</td>\n",
       "      <td>1</td>\n",
       "      <td>1</td>\n",
       "      <td>3</td>\n",
       "      <td>2</td>\n",
       "      <td>1</td>\n",
       "    </tr>\n",
       "  </tbody>\n",
       "</table>\n",
       "</div>"
      ],
      "text/plain": [
       "   거리두기와  문의입니다  상생지원금  승강장  요금  운행시간과  지하철  코로나  택시\n",
       "0      1      4      1    2   1      1    3    2   1"
      ]
     },
     "execution_count": 12,
     "metadata": {},
     "output_type": "execute_result"
    }
   ],
   "source": [
    "# T는 가로로 길게 보이기 위해 위해 추가한 것이다.\n",
    "df_dtm.sum().to_frame().T"
   ]
  },
  {
   "cell_type": "markdown",
   "metadata": {
    "id": "GIPr3DaCPohL"
   },
   "source": [
    "### N-grams \n",
    "\n",
    "* 토큰을 몇 개 사용할 것인지를 구분합니다. 지정한 n개의 숫자 만큼의 토큰을 묶어서 사용한다.\n",
    "* 예를 들어 (1, 1) 이라면 1개의 토큰을 (2, 3)이라면 2~3개의 토큰을 사용한다.\n",
    "* analyzer 설정에 따라 단어단위, 캐릭터 단위에 따라 사용할 수 있다.\n",
    "\n",
    "* 기본값 = (1, 1)\n",
    "* ngram_range(min_n, max_n)\n",
    "* min_n <= n <= max_n\n",
    "```\n",
    "(1, 1) 은 1 <= n <= 1\n",
    "(1, 2) 은 1 <= n <= 2\n",
    "(2, 2) 은 2 <= n <= 2\n",
    "```"
   ]
  },
  {
   "cell_type": "code",
   "execution_count": 13,
   "metadata": {
    "executionInfo": {
     "elapsed": 30,
     "status": "ok",
     "timestamp": 1672302328683,
     "user": {
      "displayName": "송영숙",
      "userId": "01138230862948206591"
     },
     "user_tz": -540
    },
    "id": "HmfShZP9LiZu"
   },
   "outputs": [],
   "source": [
    "# 단어가 너무 많아서 출력이 오래 걸린다면 max_columns 값을 조정해서 사용한다.\n",
    "# pd.options.display.max_columns = None"
   ]
  },
  {
   "cell_type": "code",
   "execution_count": 14,
   "metadata": {
    "colab": {
     "base_uri": "https://localhost:8080/"
    },
    "executionInfo": {
     "elapsed": 30,
     "status": "ok",
     "timestamp": 1672302328683,
     "user": {
      "displayName": "송영숙",
      "userId": "01138230862948206591"
     },
     "user_tz": -540
    },
    "id": "15LxBmxkHg8U",
    "outputId": "a9919d2f-63c8-4fc5-c892-d03365840c04"
   },
   "outputs": [
    {
     "data": {
      "text/plain": [
       "<4x20 sparse matrix of type '<class 'numpy.int64'>'\n",
       "\twith 26 stored elements in Compressed Sparse Row format>"
      ]
     },
     "execution_count": 14,
     "metadata": {},
     "output_type": "execute_result"
    }
   ],
   "source": [
    "# ngram_range: 추출할 다른 단어 n-gram 또는 char n-gram에 대한 n-값 범위의 하한 및 상한이다. 기본값 = (1, 1)\n",
    "# ngram_range=(1, 2)\n",
    "cvect = CountVectorizer(ngram_range=(1, 2))\n",
    "dtm = cvect.fit_transform(corpus)\n",
    "dtm"
   ]
  },
  {
   "cell_type": "code",
   "execution_count": 15,
   "metadata": {
    "colab": {
     "base_uri": "https://localhost:8080/",
     "height": 236
    },
    "executionInfo": {
     "elapsed": 28,
     "status": "ok",
     "timestamp": 1672302328683,
     "user": {
      "displayName": "송영숙",
      "userId": "01138230862948206591"
     },
     "user_tz": -540
    },
    "id": "u-xp5TjsLiZu",
    "outputId": "ac72fe13-9230-4e59-bf80-44ebfd066fae"
   },
   "outputs": [
    {
     "data": {
      "text/html": [
       "<div>\n",
       "<style scoped>\n",
       "    .dataframe tbody tr th:only-of-type {\n",
       "        vertical-align: middle;\n",
       "    }\n",
       "\n",
       "    .dataframe tbody tr th {\n",
       "        vertical-align: top;\n",
       "    }\n",
       "\n",
       "    .dataframe thead th {\n",
       "        text-align: right;\n",
       "    }\n",
       "</style>\n",
       "<table border=\"1\" class=\"dataframe\">\n",
       "  <thead>\n",
       "    <tr style=\"text-align: right;\">\n",
       "      <th></th>\n",
       "      <th>거리두기와</th>\n",
       "      <th>거리두기와 코로나</th>\n",
       "      <th>문의입니다</th>\n",
       "      <th>상생지원금</th>\n",
       "      <th>상생지원금 문의입니다</th>\n",
       "      <th>승강장</th>\n",
       "      <th>승강장 문의입니다</th>\n",
       "      <th>요금</th>\n",
       "      <th>요금 문의입니다</th>\n",
       "      <th>운행시간과</th>\n",
       "      <th>운행시간과 지하철</th>\n",
       "      <th>지하철</th>\n",
       "      <th>지하철 승강장</th>\n",
       "      <th>지하철 요금</th>\n",
       "      <th>지하철 운행시간과</th>\n",
       "      <th>코로나</th>\n",
       "      <th>코로나 거리두기와</th>\n",
       "      <th>코로나 상생지원금</th>\n",
       "      <th>택시</th>\n",
       "      <th>택시 승강장</th>\n",
       "    </tr>\n",
       "  </thead>\n",
       "  <tbody>\n",
       "    <tr>\n",
       "      <th>0</th>\n",
       "      <td>1</td>\n",
       "      <td>1</td>\n",
       "      <td>1</td>\n",
       "      <td>1</td>\n",
       "      <td>1</td>\n",
       "      <td>0</td>\n",
       "      <td>0</td>\n",
       "      <td>0</td>\n",
       "      <td>0</td>\n",
       "      <td>0</td>\n",
       "      <td>0</td>\n",
       "      <td>0</td>\n",
       "      <td>0</td>\n",
       "      <td>0</td>\n",
       "      <td>0</td>\n",
       "      <td>2</td>\n",
       "      <td>1</td>\n",
       "      <td>1</td>\n",
       "      <td>0</td>\n",
       "      <td>0</td>\n",
       "    </tr>\n",
       "    <tr>\n",
       "      <th>1</th>\n",
       "      <td>0</td>\n",
       "      <td>0</td>\n",
       "      <td>1</td>\n",
       "      <td>0</td>\n",
       "      <td>0</td>\n",
       "      <td>0</td>\n",
       "      <td>0</td>\n",
       "      <td>1</td>\n",
       "      <td>1</td>\n",
       "      <td>1</td>\n",
       "      <td>1</td>\n",
       "      <td>2</td>\n",
       "      <td>0</td>\n",
       "      <td>1</td>\n",
       "      <td>1</td>\n",
       "      <td>0</td>\n",
       "      <td>0</td>\n",
       "      <td>0</td>\n",
       "      <td>0</td>\n",
       "      <td>0</td>\n",
       "    </tr>\n",
       "    <tr>\n",
       "      <th>2</th>\n",
       "      <td>0</td>\n",
       "      <td>0</td>\n",
       "      <td>1</td>\n",
       "      <td>0</td>\n",
       "      <td>0</td>\n",
       "      <td>1</td>\n",
       "      <td>1</td>\n",
       "      <td>0</td>\n",
       "      <td>0</td>\n",
       "      <td>0</td>\n",
       "      <td>0</td>\n",
       "      <td>1</td>\n",
       "      <td>1</td>\n",
       "      <td>0</td>\n",
       "      <td>0</td>\n",
       "      <td>0</td>\n",
       "      <td>0</td>\n",
       "      <td>0</td>\n",
       "      <td>0</td>\n",
       "      <td>0</td>\n",
       "    </tr>\n",
       "    <tr>\n",
       "      <th>3</th>\n",
       "      <td>0</td>\n",
       "      <td>0</td>\n",
       "      <td>1</td>\n",
       "      <td>0</td>\n",
       "      <td>0</td>\n",
       "      <td>1</td>\n",
       "      <td>1</td>\n",
       "      <td>0</td>\n",
       "      <td>0</td>\n",
       "      <td>0</td>\n",
       "      <td>0</td>\n",
       "      <td>0</td>\n",
       "      <td>0</td>\n",
       "      <td>0</td>\n",
       "      <td>0</td>\n",
       "      <td>0</td>\n",
       "      <td>0</td>\n",
       "      <td>0</td>\n",
       "      <td>1</td>\n",
       "      <td>1</td>\n",
       "    </tr>\n",
       "  </tbody>\n",
       "</table>\n",
       "</div>"
      ],
      "text/plain": [
       "   거리두기와  거리두기와 코로나  문의입니다  상생지원금  상생지원금 문의입니다  승강장  승강장 문의입니다  요금  요금 문의입니다  \\\n",
       "0      1          1      1      1            1    0          0   0         0   \n",
       "1      0          0      1      0            0    0          0   1         1   \n",
       "2      0          0      1      0            0    1          1   0         0   \n",
       "3      0          0      1      0            0    1          1   0         0   \n",
       "\n",
       "   운행시간과  운행시간과 지하철  지하철  지하철 승강장  지하철 요금  지하철 운행시간과  코로나  코로나 거리두기와  \\\n",
       "0      0          0    0        0       0          0    2          1   \n",
       "1      1          1    2        0       1          1    0          0   \n",
       "2      0          0    1        1       0          0    0          0   \n",
       "3      0          0    0        0       0          0    0          0   \n",
       "\n",
       "   코로나 상생지원금  택시  택시 승강장  \n",
       "0          1   0       0  \n",
       "1          0   0       0  \n",
       "2          0   0       0  \n",
       "3          0   1       1  "
      ]
     },
     "execution_count": 15,
     "metadata": {},
     "output_type": "execute_result"
    }
   ],
   "source": [
    "#get_feature_names_out()을 사용하여 dtm 변수에 쓰여진 단어-문서 행렬에 등장하는 순서대로 단어 사전을 반환한다.\n",
    "vocab = cvect.get_feature_names_out()\n",
    "df_dtm = pd.DataFrame(dtm.toarray(), columns=vocab)\n",
    "df_dtm"
   ]
  },
  {
   "cell_type": "code",
   "execution_count": 16,
   "metadata": {
    "colab": {
     "base_uri": "https://localhost:8080/",
     "height": 142
    },
    "executionInfo": {
     "elapsed": 28,
     "status": "ok",
     "timestamp": 1672302328683,
     "user": {
      "displayName": "송영숙",
      "userId": "01138230862948206591"
     },
     "user_tz": -540
    },
    "id": "MqOPEF3i41qe",
    "outputId": "d01bfb9e-0d4e-4e3f-9151-f6dec9e5f8eb"
   },
   "outputs": [
    {
     "data": {
      "text/html": [
       "<div>\n",
       "<style scoped>\n",
       "    .dataframe tbody tr th:only-of-type {\n",
       "        vertical-align: middle;\n",
       "    }\n",
       "\n",
       "    .dataframe tbody tr th {\n",
       "        vertical-align: top;\n",
       "    }\n",
       "\n",
       "    .dataframe thead th {\n",
       "        text-align: right;\n",
       "    }\n",
       "</style>\n",
       "<table border=\"1\" class=\"dataframe\">\n",
       "  <thead>\n",
       "    <tr style=\"text-align: right;\">\n",
       "      <th></th>\n",
       "      <th>거리두기와</th>\n",
       "      <th>거리두기와 코로나</th>\n",
       "      <th>문의입니다</th>\n",
       "      <th>상생지원금</th>\n",
       "      <th>상생지원금 문의입니다</th>\n",
       "      <th>승강장</th>\n",
       "      <th>승강장 문의입니다</th>\n",
       "      <th>요금</th>\n",
       "      <th>요금 문의입니다</th>\n",
       "      <th>운행시간과</th>\n",
       "      <th>운행시간과 지하철</th>\n",
       "      <th>지하철</th>\n",
       "      <th>지하철 승강장</th>\n",
       "      <th>지하철 요금</th>\n",
       "      <th>지하철 운행시간과</th>\n",
       "      <th>코로나</th>\n",
       "      <th>코로나 거리두기와</th>\n",
       "      <th>코로나 상생지원금</th>\n",
       "      <th>택시</th>\n",
       "      <th>택시 승강장</th>\n",
       "    </tr>\n",
       "  </thead>\n",
       "  <tbody>\n",
       "    <tr>\n",
       "      <th>0</th>\n",
       "      <td>1</td>\n",
       "      <td>1</td>\n",
       "      <td>4</td>\n",
       "      <td>1</td>\n",
       "      <td>1</td>\n",
       "      <td>2</td>\n",
       "      <td>2</td>\n",
       "      <td>1</td>\n",
       "      <td>1</td>\n",
       "      <td>1</td>\n",
       "      <td>1</td>\n",
       "      <td>3</td>\n",
       "      <td>1</td>\n",
       "      <td>1</td>\n",
       "      <td>1</td>\n",
       "      <td>2</td>\n",
       "      <td>1</td>\n",
       "      <td>1</td>\n",
       "      <td>1</td>\n",
       "      <td>1</td>\n",
       "    </tr>\n",
       "  </tbody>\n",
       "</table>\n",
       "</div>"
      ],
      "text/plain": [
       "   거리두기와  거리두기와 코로나  문의입니다  상생지원금  상생지원금 문의입니다  승강장  승강장 문의입니다  요금  요금 문의입니다  \\\n",
       "0      1          1      4      1            1    2          2   1         1   \n",
       "\n",
       "   운행시간과  운행시간과 지하철  지하철  지하철 승강장  지하철 요금  지하철 운행시간과  코로나  코로나 거리두기와  \\\n",
       "0      1          1    3        1       1          1    2          1   \n",
       "\n",
       "   코로나 상생지원금  택시  택시 승강장  \n",
       "0          1   1       1  "
      ]
     },
     "execution_count": 16,
     "metadata": {},
     "output_type": "execute_result"
    }
   ],
   "source": [
    "# df_dtm.sum 으로 빈도수 합계를 구한다.\n",
    "df_dtm.sum().to_frame().T"
   ]
  },
  {
   "cell_type": "markdown",
   "metadata": {
    "id": "dWEivLuaJ5te"
   },
   "source": [
    "### min_df\n",
    "\n",
    "* 기본값=1\n",
    "* min_df는 문서 빈도(문서의 %에 있음)가 지정된 임계값보다 엄격하게 낮은 용어를 무시한다. \n",
    "* 예를 들어, min_df=0.66은 용어가 어휘의 일부로 간주되려면 문서의 66%에 나타나야 한다.\n",
    "* 때때로 min_df가 어휘 크기를 제한하는 데 사용된다.\n",
    "* 예를들어 min_df를 0.1, 0.2로 설정한다면 10%, 20%에 나타나는 용어만 학습한다."
   ]
  },
  {
   "cell_type": "markdown",
   "metadata": {
    "id": "MdwIi9dOLoHb"
   },
   "source": [
    "### max_df\n",
    "\n",
    "* 기본값=**1**\n",
    "* max_df=int : 빈도수를 의미한다.\n",
    "* max_df=float : 비율을 의미한다.\n",
    "* 어휘를 작성할 때 주어진 임계값보다 문서 빈도가 엄격히 높은 용어는 무시한다.\n",
    "* 빈번하게 등장하는 불용어 등을 제거하기에 편리하다.\n",
    "* 예를 들어 코로나 관련 기사를 분석하면 90%에 '코로나'라는 용어가 등장할 수 있는데, 이 경우 max_df=0.89 로 비율을 설정하여 너무 빈번하게 등장하는 단어를 제외할 수 있다."
   ]
  },
  {
   "cell_type": "code",
   "execution_count": 17,
   "metadata": {
    "colab": {
     "base_uri": "https://localhost:8080/",
     "height": 283
    },
    "executionInfo": {
     "elapsed": 28,
     "status": "ok",
     "timestamp": 1672302328684,
     "user": {
      "displayName": "송영숙",
      "userId": "01138230862948206591"
     },
     "user_tz": -540
    },
    "id": "ScvG4AS9LiZv",
    "outputId": "84d84cd2-f789-4cad-8083-f7fe53a1feab"
   },
   "outputs": [
    {
     "data": {
      "text/html": [
       "<div>\n",
       "<style scoped>\n",
       "    .dataframe tbody tr th:only-of-type {\n",
       "        vertical-align: middle;\n",
       "    }\n",
       "\n",
       "    .dataframe tbody tr th {\n",
       "        vertical-align: top;\n",
       "    }\n",
       "\n",
       "    .dataframe thead th {\n",
       "        text-align: right;\n",
       "    }\n",
       "</style>\n",
       "<table border=\"1\" class=\"dataframe\">\n",
       "  <thead>\n",
       "    <tr style=\"text-align: right;\">\n",
       "      <th></th>\n",
       "      <th>거리두기와</th>\n",
       "      <th>거리두기와 코로나</th>\n",
       "      <th>거리두기와 코로나 상생지원금</th>\n",
       "      <th>문의입니다</th>\n",
       "      <th>상생지원금</th>\n",
       "      <th>상생지원금 문의입니다</th>\n",
       "      <th>승강장</th>\n",
       "      <th>승강장 문의입니다</th>\n",
       "      <th>요금</th>\n",
       "      <th>요금 문의입니다</th>\n",
       "      <th>...</th>\n",
       "      <th>지하철 운행시간과</th>\n",
       "      <th>지하철 운행시간과 지하철</th>\n",
       "      <th>코로나</th>\n",
       "      <th>코로나 거리두기와</th>\n",
       "      <th>코로나 거리두기와 코로나</th>\n",
       "      <th>코로나 상생지원금</th>\n",
       "      <th>코로나 상생지원금 문의입니다</th>\n",
       "      <th>택시</th>\n",
       "      <th>택시 승강장</th>\n",
       "      <th>택시 승강장 문의입니다</th>\n",
       "    </tr>\n",
       "  </thead>\n",
       "  <tbody>\n",
       "    <tr>\n",
       "      <th>0</th>\n",
       "      <td>1</td>\n",
       "      <td>1</td>\n",
       "      <td>1</td>\n",
       "      <td>1</td>\n",
       "      <td>1</td>\n",
       "      <td>1</td>\n",
       "      <td>0</td>\n",
       "      <td>0</td>\n",
       "      <td>0</td>\n",
       "      <td>0</td>\n",
       "      <td>...</td>\n",
       "      <td>0</td>\n",
       "      <td>0</td>\n",
       "      <td>2</td>\n",
       "      <td>1</td>\n",
       "      <td>1</td>\n",
       "      <td>1</td>\n",
       "      <td>1</td>\n",
       "      <td>0</td>\n",
       "      <td>0</td>\n",
       "      <td>0</td>\n",
       "    </tr>\n",
       "    <tr>\n",
       "      <th>1</th>\n",
       "      <td>0</td>\n",
       "      <td>0</td>\n",
       "      <td>0</td>\n",
       "      <td>1</td>\n",
       "      <td>0</td>\n",
       "      <td>0</td>\n",
       "      <td>0</td>\n",
       "      <td>0</td>\n",
       "      <td>1</td>\n",
       "      <td>1</td>\n",
       "      <td>...</td>\n",
       "      <td>1</td>\n",
       "      <td>1</td>\n",
       "      <td>0</td>\n",
       "      <td>0</td>\n",
       "      <td>0</td>\n",
       "      <td>0</td>\n",
       "      <td>0</td>\n",
       "      <td>0</td>\n",
       "      <td>0</td>\n",
       "      <td>0</td>\n",
       "    </tr>\n",
       "    <tr>\n",
       "      <th>2</th>\n",
       "      <td>0</td>\n",
       "      <td>0</td>\n",
       "      <td>0</td>\n",
       "      <td>1</td>\n",
       "      <td>0</td>\n",
       "      <td>0</td>\n",
       "      <td>1</td>\n",
       "      <td>1</td>\n",
       "      <td>0</td>\n",
       "      <td>0</td>\n",
       "      <td>...</td>\n",
       "      <td>0</td>\n",
       "      <td>0</td>\n",
       "      <td>0</td>\n",
       "      <td>0</td>\n",
       "      <td>0</td>\n",
       "      <td>0</td>\n",
       "      <td>0</td>\n",
       "      <td>0</td>\n",
       "      <td>0</td>\n",
       "      <td>0</td>\n",
       "    </tr>\n",
       "    <tr>\n",
       "      <th>3</th>\n",
       "      <td>0</td>\n",
       "      <td>0</td>\n",
       "      <td>0</td>\n",
       "      <td>1</td>\n",
       "      <td>0</td>\n",
       "      <td>0</td>\n",
       "      <td>1</td>\n",
       "      <td>1</td>\n",
       "      <td>0</td>\n",
       "      <td>0</td>\n",
       "      <td>...</td>\n",
       "      <td>0</td>\n",
       "      <td>0</td>\n",
       "      <td>0</td>\n",
       "      <td>0</td>\n",
       "      <td>0</td>\n",
       "      <td>0</td>\n",
       "      <td>0</td>\n",
       "      <td>1</td>\n",
       "      <td>1</td>\n",
       "      <td>1</td>\n",
       "    </tr>\n",
       "  </tbody>\n",
       "</table>\n",
       "<p>4 rows × 28 columns</p>\n",
       "</div>"
      ],
      "text/plain": [
       "   거리두기와  거리두기와 코로나  거리두기와 코로나 상생지원금  문의입니다  상생지원금  상생지원금 문의입니다  승강장  \\\n",
       "0      1          1                1      1      1            1    0   \n",
       "1      0          0                0      1      0            0    0   \n",
       "2      0          0                0      1      0            0    1   \n",
       "3      0          0                0      1      0            0    1   \n",
       "\n",
       "   승강장 문의입니다  요금  요금 문의입니다  ...  지하철 운행시간과  지하철 운행시간과 지하철  코로나  코로나 거리두기와  \\\n",
       "0          0   0         0  ...          0              0    2          1   \n",
       "1          0   1         1  ...          1              1    0          0   \n",
       "2          1   0         0  ...          0              0    0          0   \n",
       "3          1   0         0  ...          0              0    0          0   \n",
       "\n",
       "   코로나 거리두기와 코로나  코로나 상생지원금  코로나 상생지원금 문의입니다  택시  택시 승강장  택시 승강장 문의입니다  \n",
       "0              1          1                1   0       0             0  \n",
       "1              0          0                0   0       0             0  \n",
       "2              0          0                0   0       0             0  \n",
       "3              0          0                0   1       1             1  \n",
       "\n",
       "[4 rows x 28 columns]"
      ]
     },
     "execution_count": 17,
     "metadata": {},
     "output_type": "execute_result"
    }
   ],
   "source": [
    "cvect = CountVectorizer(ngram_range=(1, 3), min_df=0.2, max_df=5)\n",
    "dtm = cvect.fit_transform(corpus)\n",
    "vocab = cvect.get_feature_names_out()\n",
    "df_dtm = pd.DataFrame(dtm.toarray(), columns=vocab)\n",
    "df_dtm"
   ]
  },
  {
   "cell_type": "markdown",
   "metadata": {
    "id": "2IseYq_4RZk5"
   },
   "source": [
    "### max_features\n",
    "\n",
    "* 기본값 = None\n",
    "* 벡터라이저가 학습할 기능(어휘)의 양 제한\n",
    "* corpus중 빈도수가 가장 높은 순으로 해당 갯수만큼만 추출"
   ]
  },
  {
   "cell_type": "code",
   "execution_count": 18,
   "metadata": {
    "colab": {
     "base_uri": "https://localhost:8080/",
     "height": 175
    },
    "executionInfo": {
     "elapsed": 27,
     "status": "ok",
     "timestamp": 1672302328684,
     "user": {
      "displayName": "송영숙",
      "userId": "01138230862948206591"
     },
     "user_tz": -540
    },
    "id": "8Ad5WAo1PyVI",
    "outputId": "273df081-d813-4d3e-e4c9-895d5e8911cc"
   },
   "outputs": [
    {
     "data": {
      "text/html": [
       "<div>\n",
       "<style scoped>\n",
       "    .dataframe tbody tr th:only-of-type {\n",
       "        vertical-align: middle;\n",
       "    }\n",
       "\n",
       "    .dataframe tbody tr th {\n",
       "        vertical-align: top;\n",
       "    }\n",
       "\n",
       "    .dataframe thead th {\n",
       "        text-align: right;\n",
       "    }\n",
       "</style>\n",
       "<table border=\"1\" class=\"dataframe\">\n",
       "  <thead>\n",
       "    <tr style=\"text-align: right;\">\n",
       "      <th></th>\n",
       "      <th>문의입니다</th>\n",
       "      <th>승강장</th>\n",
       "      <th>승강장 문의입니다</th>\n",
       "      <th>지하철</th>\n",
       "      <th>코로나</th>\n",
       "      <th>코로나 거리두기와</th>\n",
       "      <th>코로나 거리두기와 코로나</th>\n",
       "      <th>코로나 상생지원금</th>\n",
       "      <th>코로나 상생지원금 문의입니다</th>\n",
       "      <th>택시</th>\n",
       "    </tr>\n",
       "  </thead>\n",
       "  <tbody>\n",
       "    <tr>\n",
       "      <th>0</th>\n",
       "      <td>1</td>\n",
       "      <td>0</td>\n",
       "      <td>0</td>\n",
       "      <td>0</td>\n",
       "      <td>2</td>\n",
       "      <td>1</td>\n",
       "      <td>1</td>\n",
       "      <td>1</td>\n",
       "      <td>1</td>\n",
       "      <td>0</td>\n",
       "    </tr>\n",
       "    <tr>\n",
       "      <th>1</th>\n",
       "      <td>1</td>\n",
       "      <td>0</td>\n",
       "      <td>0</td>\n",
       "      <td>2</td>\n",
       "      <td>0</td>\n",
       "      <td>0</td>\n",
       "      <td>0</td>\n",
       "      <td>0</td>\n",
       "      <td>0</td>\n",
       "      <td>0</td>\n",
       "    </tr>\n",
       "    <tr>\n",
       "      <th>2</th>\n",
       "      <td>1</td>\n",
       "      <td>1</td>\n",
       "      <td>1</td>\n",
       "      <td>1</td>\n",
       "      <td>0</td>\n",
       "      <td>0</td>\n",
       "      <td>0</td>\n",
       "      <td>0</td>\n",
       "      <td>0</td>\n",
       "      <td>0</td>\n",
       "    </tr>\n",
       "    <tr>\n",
       "      <th>3</th>\n",
       "      <td>1</td>\n",
       "      <td>1</td>\n",
       "      <td>1</td>\n",
       "      <td>0</td>\n",
       "      <td>0</td>\n",
       "      <td>0</td>\n",
       "      <td>0</td>\n",
       "      <td>0</td>\n",
       "      <td>0</td>\n",
       "      <td>1</td>\n",
       "    </tr>\n",
       "  </tbody>\n",
       "</table>\n",
       "</div>"
      ],
      "text/plain": [
       "   문의입니다  승강장  승강장 문의입니다  지하철  코로나  코로나 거리두기와  코로나 거리두기와 코로나  코로나 상생지원금  \\\n",
       "0      1    0          0    0    2          1              1          1   \n",
       "1      1    0          0    2    0          0              0          0   \n",
       "2      1    1          1    1    0          0              0          0   \n",
       "3      1    1          1    0    0          0              0          0   \n",
       "\n",
       "   코로나 상생지원금 문의입니다  택시  \n",
       "0                1   0  \n",
       "1                0   0  \n",
       "2                0   0  \n",
       "3                0   1  "
      ]
     },
     "execution_count": 18,
     "metadata": {},
     "output_type": "execute_result"
    }
   ],
   "source": [
    "# max_features : 갯수만큼의 단어만 추출\n",
    "\n",
    "cvect = CountVectorizer(ngram_range=(1, 3), min_df=1, max_df=1.0, max_features=10)\n",
    "dtm = cvect.fit_transform(corpus)\n",
    "vocab = cvect.get_feature_names_out()\n",
    "df_dtm = pd.DataFrame(dtm.toarray(), columns=vocab)\n",
    "df_dtm"
   ]
  },
  {
   "cell_type": "markdown",
   "metadata": {
    "id": "-IkahjKiLiZv"
   },
   "source": [
    "### 불용어 stop_words\n",
    "\n",
    "* 문장에 자주 등장하지만 \"우리, 그, 그리고, 그래서\" 등 관사, 전치사, 조사, 접속사 등의 단어로 문장 내에서 큰 의미를 갖지 않는 단어"
   ]
  },
  {
   "cell_type": "code",
   "execution_count": 19,
   "metadata": {
    "colab": {
     "base_uri": "https://localhost:8080/",
     "height": 236
    },
    "executionInfo": {
     "elapsed": 27,
     "status": "ok",
     "timestamp": 1672302328684,
     "user": {
      "displayName": "송영숙",
      "userId": "01138230862948206591"
     },
     "user_tz": -540
    },
    "id": "H-Na0Nw9LiZv",
    "outputId": "be63214c-7f43-4aa4-f321-e68a95675a03"
   },
   "outputs": [
    {
     "data": {
      "text/html": [
       "<div>\n",
       "<style scoped>\n",
       "    .dataframe tbody tr th:only-of-type {\n",
       "        vertical-align: middle;\n",
       "    }\n",
       "\n",
       "    .dataframe tbody tr th {\n",
       "        vertical-align: top;\n",
       "    }\n",
       "\n",
       "    .dataframe thead th {\n",
       "        text-align: right;\n",
       "    }\n",
       "</style>\n",
       "<table border=\"1\" class=\"dataframe\">\n",
       "  <thead>\n",
       "    <tr style=\"text-align: right;\">\n",
       "      <th></th>\n",
       "      <th>거리두기와</th>\n",
       "      <th>거리두기와 상생지원금</th>\n",
       "      <th>상생지원금</th>\n",
       "      <th>승강장</th>\n",
       "      <th>요금</th>\n",
       "      <th>운행시간과</th>\n",
       "      <th>운행시간과 지하철</th>\n",
       "      <th>운행시간과 지하철 요금</th>\n",
       "      <th>지하철</th>\n",
       "      <th>지하철 승강장</th>\n",
       "      <th>지하철 요금</th>\n",
       "      <th>지하철 운행시간과</th>\n",
       "      <th>지하철 운행시간과 지하철</th>\n",
       "      <th>택시</th>\n",
       "      <th>택시 승강장</th>\n",
       "    </tr>\n",
       "  </thead>\n",
       "  <tbody>\n",
       "    <tr>\n",
       "      <th>0</th>\n",
       "      <td>1</td>\n",
       "      <td>1</td>\n",
       "      <td>1</td>\n",
       "      <td>0</td>\n",
       "      <td>0</td>\n",
       "      <td>0</td>\n",
       "      <td>0</td>\n",
       "      <td>0</td>\n",
       "      <td>0</td>\n",
       "      <td>0</td>\n",
       "      <td>0</td>\n",
       "      <td>0</td>\n",
       "      <td>0</td>\n",
       "      <td>0</td>\n",
       "      <td>0</td>\n",
       "    </tr>\n",
       "    <tr>\n",
       "      <th>1</th>\n",
       "      <td>0</td>\n",
       "      <td>0</td>\n",
       "      <td>0</td>\n",
       "      <td>0</td>\n",
       "      <td>1</td>\n",
       "      <td>1</td>\n",
       "      <td>1</td>\n",
       "      <td>1</td>\n",
       "      <td>2</td>\n",
       "      <td>0</td>\n",
       "      <td>1</td>\n",
       "      <td>1</td>\n",
       "      <td>1</td>\n",
       "      <td>0</td>\n",
       "      <td>0</td>\n",
       "    </tr>\n",
       "    <tr>\n",
       "      <th>2</th>\n",
       "      <td>0</td>\n",
       "      <td>0</td>\n",
       "      <td>0</td>\n",
       "      <td>1</td>\n",
       "      <td>0</td>\n",
       "      <td>0</td>\n",
       "      <td>0</td>\n",
       "      <td>0</td>\n",
       "      <td>1</td>\n",
       "      <td>1</td>\n",
       "      <td>0</td>\n",
       "      <td>0</td>\n",
       "      <td>0</td>\n",
       "      <td>0</td>\n",
       "      <td>0</td>\n",
       "    </tr>\n",
       "    <tr>\n",
       "      <th>3</th>\n",
       "      <td>0</td>\n",
       "      <td>0</td>\n",
       "      <td>0</td>\n",
       "      <td>1</td>\n",
       "      <td>0</td>\n",
       "      <td>0</td>\n",
       "      <td>0</td>\n",
       "      <td>0</td>\n",
       "      <td>0</td>\n",
       "      <td>0</td>\n",
       "      <td>0</td>\n",
       "      <td>0</td>\n",
       "      <td>0</td>\n",
       "      <td>1</td>\n",
       "      <td>1</td>\n",
       "    </tr>\n",
       "  </tbody>\n",
       "</table>\n",
       "</div>"
      ],
      "text/plain": [
       "   거리두기와  거리두기와 상생지원금  상생지원금  승강장  요금  운행시간과  운행시간과 지하철  운행시간과 지하철 요금  지하철  \\\n",
       "0      1            1      1    0   0      0          0             0    0   \n",
       "1      0            0      0    0   1      1          1             1    2   \n",
       "2      0            0      0    1   0      0          0             0    1   \n",
       "3      0            0      0    1   0      0          0             0    0   \n",
       "\n",
       "   지하철 승강장  지하철 요금  지하철 운행시간과  지하철 운행시간과 지하철  택시  택시 승강장  \n",
       "0        0       0          0              0   0       0  \n",
       "1        0       1          1              1   0       0  \n",
       "2        1       0          0              0   0       0  \n",
       "3        0       0          0              0   1       1  "
      ]
     },
     "execution_count": 19,
     "metadata": {},
     "output_type": "execute_result"
    }
   ],
   "source": [
    "stop_words=[\"코로나\", \"문의입니다\"]\n",
    "# max_features 갯수만큼의 단어만 추출하기\n",
    "\n",
    "cvect = CountVectorizer(ngram_range=(1, 3), min_df=1, max_df=1.0, max_features=20, stop_words=stop_words)\n",
    "dtm = cvect.fit_transform(corpus)\n",
    "vocab = cvect.get_feature_names_out()\n",
    "df_dtm = pd.DataFrame(dtm.toarray(), columns=vocab)\n",
    "df_dtm"
   ]
  },
  {
   "cell_type": "markdown",
   "metadata": {
    "id": "FWIgHaWFbYyZ"
   },
   "source": [
    "### analyzer\n",
    "\n",
    "* 기본값='word'\n",
    "* 종류: word, char, char_wb\n",
    "* 기능을 단어 n-그램으로 만들지 문자 n-그램으로 만들어야 하는지 여부이다. 옵션 'char_wb'는 단어 경계 내부의 텍스트에서만 문자 n-gram을 생성한다. 단어 가장자리의 n-gram은 공백으로 채워진다.\n",
    "* 띄어쓰기가 제대로 되어 있지 않은 문자 등에 사용할 수 있다."
   ]
  },
  {
   "cell_type": "code",
   "execution_count": 20,
   "metadata": {
    "colab": {
     "base_uri": "https://localhost:8080/",
     "height": 204
    },
    "executionInfo": {
     "elapsed": 26,
     "status": "ok",
     "timestamp": 1672302328684,
     "user": {
      "displayName": "송영숙",
      "userId": "01138230862948206591"
     },
     "user_tz": -540
    },
    "id": "sW3jX8omddHS",
    "outputId": "ae73668a-7c52-4109-fe98-9f488c0763c1"
   },
   "outputs": [
    {
     "data": {
      "text/html": [
       "<div>\n",
       "<style scoped>\n",
       "    .dataframe tbody tr th:only-of-type {\n",
       "        vertical-align: middle;\n",
       "    }\n",
       "\n",
       "    .dataframe tbody tr th {\n",
       "        vertical-align: top;\n",
       "    }\n",
       "\n",
       "    .dataframe thead th {\n",
       "        text-align: right;\n",
       "    }\n",
       "</style>\n",
       "<table border=\"1\" class=\"dataframe\">\n",
       "  <thead>\n",
       "    <tr style=\"text-align: right;\">\n",
       "      <th></th>\n",
       "      <th></th>\n",
       "      <th>문</th>\n",
       "      <th>문의</th>\n",
       "      <th>문의입</th>\n",
       "      <th>문의입니</th>\n",
       "      <th>.</th>\n",
       "      <th>니</th>\n",
       "      <th>니다</th>\n",
       "      <th>니다.</th>\n",
       "      <th>다</th>\n",
       "      <th>...</th>\n",
       "      <th>의입니다.</th>\n",
       "      <th>입</th>\n",
       "      <th>입니</th>\n",
       "      <th>입니다</th>\n",
       "      <th>입니다.</th>\n",
       "      <th>지</th>\n",
       "      <th>철</th>\n",
       "      <th>철</th>\n",
       "      <th>하</th>\n",
       "      <th>하철</th>\n",
       "    </tr>\n",
       "  </thead>\n",
       "  <tbody>\n",
       "    <tr>\n",
       "      <th>0</th>\n",
       "      <td>4</td>\n",
       "      <td>1</td>\n",
       "      <td>1</td>\n",
       "      <td>1</td>\n",
       "      <td>1</td>\n",
       "      <td>1</td>\n",
       "      <td>1</td>\n",
       "      <td>1</td>\n",
       "      <td>1</td>\n",
       "      <td>1</td>\n",
       "      <td>...</td>\n",
       "      <td>1</td>\n",
       "      <td>1</td>\n",
       "      <td>1</td>\n",
       "      <td>1</td>\n",
       "      <td>1</td>\n",
       "      <td>1</td>\n",
       "      <td>0</td>\n",
       "      <td>0</td>\n",
       "      <td>0</td>\n",
       "      <td>0</td>\n",
       "    </tr>\n",
       "    <tr>\n",
       "      <th>1</th>\n",
       "      <td>4</td>\n",
       "      <td>1</td>\n",
       "      <td>1</td>\n",
       "      <td>1</td>\n",
       "      <td>1</td>\n",
       "      <td>1</td>\n",
       "      <td>1</td>\n",
       "      <td>1</td>\n",
       "      <td>1</td>\n",
       "      <td>1</td>\n",
       "      <td>...</td>\n",
       "      <td>1</td>\n",
       "      <td>1</td>\n",
       "      <td>1</td>\n",
       "      <td>1</td>\n",
       "      <td>1</td>\n",
       "      <td>2</td>\n",
       "      <td>2</td>\n",
       "      <td>2</td>\n",
       "      <td>2</td>\n",
       "      <td>2</td>\n",
       "    </tr>\n",
       "    <tr>\n",
       "      <th>2</th>\n",
       "      <td>2</td>\n",
       "      <td>1</td>\n",
       "      <td>1</td>\n",
       "      <td>1</td>\n",
       "      <td>1</td>\n",
       "      <td>1</td>\n",
       "      <td>1</td>\n",
       "      <td>1</td>\n",
       "      <td>1</td>\n",
       "      <td>1</td>\n",
       "      <td>...</td>\n",
       "      <td>1</td>\n",
       "      <td>1</td>\n",
       "      <td>1</td>\n",
       "      <td>1</td>\n",
       "      <td>1</td>\n",
       "      <td>1</td>\n",
       "      <td>1</td>\n",
       "      <td>1</td>\n",
       "      <td>1</td>\n",
       "      <td>1</td>\n",
       "    </tr>\n",
       "    <tr>\n",
       "      <th>3</th>\n",
       "      <td>2</td>\n",
       "      <td>1</td>\n",
       "      <td>1</td>\n",
       "      <td>1</td>\n",
       "      <td>1</td>\n",
       "      <td>1</td>\n",
       "      <td>1</td>\n",
       "      <td>1</td>\n",
       "      <td>1</td>\n",
       "      <td>1</td>\n",
       "      <td>...</td>\n",
       "      <td>1</td>\n",
       "      <td>1</td>\n",
       "      <td>1</td>\n",
       "      <td>1</td>\n",
       "      <td>1</td>\n",
       "      <td>0</td>\n",
       "      <td>0</td>\n",
       "      <td>0</td>\n",
       "      <td>0</td>\n",
       "      <td>0</td>\n",
       "    </tr>\n",
       "  </tbody>\n",
       "</table>\n",
       "<p>4 rows × 30 columns</p>\n",
       "</div>"
      ],
      "text/plain": [
       "       문   문의   문의입   문의입니  .  니  니다  니다.  다  ...  의입니다.  입  입니  입니다  입니다.  지  \\\n",
       "0  4   1    1     1      1  1  1   1    1  1  ...      1  1   1    1     1  1   \n",
       "1  4   1    1     1      1  1  1   1    1  1  ...      1  1   1    1     1  2   \n",
       "2  2   1    1     1      1  1  1   1    1  1  ...      1  1   1    1     1  1   \n",
       "3  2   1    1     1      1  1  1   1    1  1  ...      1  1   1    1     1  0   \n",
       "\n",
       "   철  철   하  하철   \n",
       "0  0   0  0    0  \n",
       "1  2   2  2    2  \n",
       "2  1   1  1    1  \n",
       "3  0   0  0    0  \n",
       "\n",
       "[4 rows x 30 columns]"
      ]
     },
     "execution_count": 20,
     "metadata": {},
     "output_type": "execute_result"
    }
   ],
   "source": [
    "# analyzer='char', ngram_range=(2, 3)\n",
    "\n",
    "cvect = CountVectorizer(analyzer='char', \n",
    "                        ngram_range=(1, 5), min_df=2, \n",
    "                        max_df=1.0, max_features=30, \n",
    "                        stop_words=stop_words)\n",
    "\n",
    "dtm = cvect.fit_transform(corpus)\n",
    "vocab = cvect.get_feature_names_out()\n",
    "df_dtm = pd.DataFrame(dtm.toarray(), columns=vocab)\n",
    "df_dtm"
   ]
  },
  {
   "cell_type": "markdown",
   "metadata": {
    "id": "rJFrsTk0m-kR"
   },
   "source": [
    "## 4.2. TF-IDF\n",
    "\n",
    "\\begin{equation*}\n",
    "\\text{tfidf}(w, d) = \\text{tf} \\times (\\log\\big(\\frac{N + 1}{N_w + 1}\\big) + 1)\n",
    "\\end{equation*}\n",
    "\n",
    "\n",
    "### TfidfVectorizer"
   ]
  },
  {
   "cell_type": "code",
   "execution_count": 21,
   "metadata": {
    "colab": {
     "base_uri": "https://localhost:8080/"
    },
    "executionInfo": {
     "elapsed": 27,
     "status": "ok",
     "timestamp": 1672302328685,
     "user": {
      "displayName": "송영숙",
      "userId": "01138230862948206591"
     },
     "user_tz": -540
    },
    "id": "2jyOWdiGTCSR",
    "outputId": "f77b1b4e-8240-4910-c2c4-82f269203600"
   },
   "outputs": [
    {
     "data": {
      "text/plain": [
       "<4x9 sparse matrix of type '<class 'numpy.float64'>'\n",
       "\twith 14 stored elements in Compressed Sparse Row format>"
      ]
     },
     "execution_count": 21,
     "metadata": {},
     "output_type": "execute_result"
    }
   ],
   "source": [
    "# sklearn.feature_extraction.text 에서 TfidfVectorizer 를 불러 온다.\n",
    "# fit, transform 으로 변환한다.\n",
    "# tfidfvect\n",
    "from sklearn.feature_extraction.text import TfidfVectorizer\n",
    "tfidfvect = TfidfVectorizer()\n",
    "tfidfvect.fit(corpus)\n",
    "dtm = tfidfvect.transform(corpus)\n",
    "dtm"
   ]
  },
  {
   "cell_type": "code",
   "execution_count": 22,
   "metadata": {
    "colab": {
     "base_uri": "https://localhost:8080/"
    },
    "executionInfo": {
     "elapsed": 25,
     "status": "ok",
     "timestamp": 1672302328685,
     "user": {
      "displayName": "송영숙",
      "userId": "01138230862948206591"
     },
     "user_tz": -540
    },
    "id": "1ponMyHGLiZw",
    "outputId": "21111f93-e2ba-45ce-823c-d340a7dc908d"
   },
   "outputs": [
    {
     "data": {
      "text/plain": [
       "<4x9 sparse matrix of type '<class 'numpy.float64'>'\n",
       "\twith 14 stored elements in Compressed Sparse Row format>"
      ]
     },
     "execution_count": 22,
     "metadata": {},
     "output_type": "execute_result"
    }
   ],
   "source": [
    "# fit_transform 으로 변환할 수도 있다.\n",
    "dtm = tfidfvect.fit_transform(corpus)\n",
    "dtm"
   ]
  },
  {
   "cell_type": "code",
   "execution_count": 23,
   "metadata": {
    "colab": {
     "base_uri": "https://localhost:8080/"
    },
    "executionInfo": {
     "elapsed": 23,
     "status": "ok",
     "timestamp": 1672302328685,
     "user": {
      "displayName": "송영숙",
      "userId": "01138230862948206591"
     },
     "user_tz": -540
    },
    "id": "iQDvbCt5LiZw",
    "outputId": "82129f31-bc4b-42de-d537-59b65c8e4c7b",
    "scrolled": false
   },
   "outputs": [
    {
     "data": {
      "text/plain": [
       "array([[0.39928771, 0.20836489, 0.39928771, 0.        , 0.        ,\n",
       "        0.        , 0.        , 0.79857543, 0.        ],\n",
       "       [0.        , 0.23921859, 0.        , 0.        , 0.45841237,\n",
       "        0.45841237, 0.72283516, 0.        , 0.        ],\n",
       "       [0.        , 0.42389674, 0.        , 0.64043405, 0.        ,\n",
       "        0.        , 0.64043405, 0.        , 0.        ],\n",
       "       [0.        , 0.37919167, 0.        , 0.5728925 , 0.        ,\n",
       "        0.        , 0.        , 0.        , 0.72664149]])"
      ]
     },
     "execution_count": 23,
     "metadata": {},
     "output_type": "execute_result"
    }
   ],
   "source": [
    "# dtm.toarray() 로 배열을 확인한다.\n",
    "# 문서에 토큰이 더 많이 나타날수록 가중치는 더 커진다. \n",
    "# 그러나 토큰이 문서에 많이 표시될수록 가중치가 감소한다.\n",
    "dtm.toarray()"
   ]
  },
  {
   "cell_type": "code",
   "execution_count": 24,
   "metadata": {
    "colab": {
     "base_uri": "https://localhost:8080/",
     "height": 212
    },
    "executionInfo": {
     "elapsed": 24,
     "status": "ok",
     "timestamp": 1672302328687,
     "user": {
      "displayName": "송영숙",
      "userId": "01138230862948206591"
     },
     "user_tz": -540
    },
    "id": "af0blkAyLiZx",
    "outputId": "582e17d0-09f4-4965-80a2-92e31f1388dc",
    "scrolled": true
   },
   "outputs": [
    {
     "name": "stdout",
     "output_type": "stream",
     "text": [
      "단어 수 :  9\n",
      "['거리두기와' '문의입니다' '상생지원금' '승강장' '요금' '운행시간과' '지하철' '코로나' '택시']\n"
     ]
    },
    {
     "data": {
      "text/html": [
       "<style type=\"text/css\">\n",
       "#T_fb9e7_row0_col0, #T_fb9e7_row0_col2, #T_fb9e7_row0_col7, #T_fb9e7_row1_col4, #T_fb9e7_row1_col5, #T_fb9e7_row1_col6, #T_fb9e7_row2_col1, #T_fb9e7_row2_col3, #T_fb9e7_row3_col8 {\n",
       "  background-color: #023858;\n",
       "  color: #f1f1f1;\n",
       "}\n",
       "#T_fb9e7_row0_col1, #T_fb9e7_row0_col3, #T_fb9e7_row0_col4, #T_fb9e7_row0_col5, #T_fb9e7_row0_col6, #T_fb9e7_row0_col8, #T_fb9e7_row1_col0, #T_fb9e7_row1_col2, #T_fb9e7_row1_col3, #T_fb9e7_row1_col7, #T_fb9e7_row1_col8, #T_fb9e7_row2_col0, #T_fb9e7_row2_col2, #T_fb9e7_row2_col4, #T_fb9e7_row2_col5, #T_fb9e7_row2_col7, #T_fb9e7_row2_col8, #T_fb9e7_row3_col0, #T_fb9e7_row3_col2, #T_fb9e7_row3_col4, #T_fb9e7_row3_col5, #T_fb9e7_row3_col6, #T_fb9e7_row3_col7 {\n",
       "  background-color: #fff7fb;\n",
       "  color: #000000;\n",
       "}\n",
       "#T_fb9e7_row1_col1 {\n",
       "  background-color: #e8e4f0;\n",
       "  color: #000000;\n",
       "}\n",
       "#T_fb9e7_row2_col6 {\n",
       "  background-color: #045788;\n",
       "  color: #f1f1f1;\n",
       "}\n",
       "#T_fb9e7_row3_col1 {\n",
       "  background-color: #0569a4;\n",
       "  color: #f1f1f1;\n",
       "}\n",
       "#T_fb9e7_row3_col3 {\n",
       "  background-color: #045483;\n",
       "  color: #f1f1f1;\n",
       "}\n",
       "</style>\n",
       "<table id=\"T_fb9e7\">\n",
       "  <thead>\n",
       "    <tr>\n",
       "      <th class=\"blank level0\" >&nbsp;</th>\n",
       "      <th id=\"T_fb9e7_level0_col0\" class=\"col_heading level0 col0\" >거리두기와</th>\n",
       "      <th id=\"T_fb9e7_level0_col1\" class=\"col_heading level0 col1\" >문의입니다</th>\n",
       "      <th id=\"T_fb9e7_level0_col2\" class=\"col_heading level0 col2\" >상생지원금</th>\n",
       "      <th id=\"T_fb9e7_level0_col3\" class=\"col_heading level0 col3\" >승강장</th>\n",
       "      <th id=\"T_fb9e7_level0_col4\" class=\"col_heading level0 col4\" >요금</th>\n",
       "      <th id=\"T_fb9e7_level0_col5\" class=\"col_heading level0 col5\" >운행시간과</th>\n",
       "      <th id=\"T_fb9e7_level0_col6\" class=\"col_heading level0 col6\" >지하철</th>\n",
       "      <th id=\"T_fb9e7_level0_col7\" class=\"col_heading level0 col7\" >코로나</th>\n",
       "      <th id=\"T_fb9e7_level0_col8\" class=\"col_heading level0 col8\" >택시</th>\n",
       "    </tr>\n",
       "  </thead>\n",
       "  <tbody>\n",
       "    <tr>\n",
       "      <th id=\"T_fb9e7_level0_row0\" class=\"row_heading level0 row0\" >0</th>\n",
       "      <td id=\"T_fb9e7_row0_col0\" class=\"data row0 col0\" >0.399288</td>\n",
       "      <td id=\"T_fb9e7_row0_col1\" class=\"data row0 col1\" >0.208365</td>\n",
       "      <td id=\"T_fb9e7_row0_col2\" class=\"data row0 col2\" >0.399288</td>\n",
       "      <td id=\"T_fb9e7_row0_col3\" class=\"data row0 col3\" >0.000000</td>\n",
       "      <td id=\"T_fb9e7_row0_col4\" class=\"data row0 col4\" >0.000000</td>\n",
       "      <td id=\"T_fb9e7_row0_col5\" class=\"data row0 col5\" >0.000000</td>\n",
       "      <td id=\"T_fb9e7_row0_col6\" class=\"data row0 col6\" >0.000000</td>\n",
       "      <td id=\"T_fb9e7_row0_col7\" class=\"data row0 col7\" >0.798575</td>\n",
       "      <td id=\"T_fb9e7_row0_col8\" class=\"data row0 col8\" >0.000000</td>\n",
       "    </tr>\n",
       "    <tr>\n",
       "      <th id=\"T_fb9e7_level0_row1\" class=\"row_heading level0 row1\" >1</th>\n",
       "      <td id=\"T_fb9e7_row1_col0\" class=\"data row1 col0\" >0.000000</td>\n",
       "      <td id=\"T_fb9e7_row1_col1\" class=\"data row1 col1\" >0.239219</td>\n",
       "      <td id=\"T_fb9e7_row1_col2\" class=\"data row1 col2\" >0.000000</td>\n",
       "      <td id=\"T_fb9e7_row1_col3\" class=\"data row1 col3\" >0.000000</td>\n",
       "      <td id=\"T_fb9e7_row1_col4\" class=\"data row1 col4\" >0.458412</td>\n",
       "      <td id=\"T_fb9e7_row1_col5\" class=\"data row1 col5\" >0.458412</td>\n",
       "      <td id=\"T_fb9e7_row1_col6\" class=\"data row1 col6\" >0.722835</td>\n",
       "      <td id=\"T_fb9e7_row1_col7\" class=\"data row1 col7\" >0.000000</td>\n",
       "      <td id=\"T_fb9e7_row1_col8\" class=\"data row1 col8\" >0.000000</td>\n",
       "    </tr>\n",
       "    <tr>\n",
       "      <th id=\"T_fb9e7_level0_row2\" class=\"row_heading level0 row2\" >2</th>\n",
       "      <td id=\"T_fb9e7_row2_col0\" class=\"data row2 col0\" >0.000000</td>\n",
       "      <td id=\"T_fb9e7_row2_col1\" class=\"data row2 col1\" >0.423897</td>\n",
       "      <td id=\"T_fb9e7_row2_col2\" class=\"data row2 col2\" >0.000000</td>\n",
       "      <td id=\"T_fb9e7_row2_col3\" class=\"data row2 col3\" >0.640434</td>\n",
       "      <td id=\"T_fb9e7_row2_col4\" class=\"data row2 col4\" >0.000000</td>\n",
       "      <td id=\"T_fb9e7_row2_col5\" class=\"data row2 col5\" >0.000000</td>\n",
       "      <td id=\"T_fb9e7_row2_col6\" class=\"data row2 col6\" >0.640434</td>\n",
       "      <td id=\"T_fb9e7_row2_col7\" class=\"data row2 col7\" >0.000000</td>\n",
       "      <td id=\"T_fb9e7_row2_col8\" class=\"data row2 col8\" >0.000000</td>\n",
       "    </tr>\n",
       "    <tr>\n",
       "      <th id=\"T_fb9e7_level0_row3\" class=\"row_heading level0 row3\" >3</th>\n",
       "      <td id=\"T_fb9e7_row3_col0\" class=\"data row3 col0\" >0.000000</td>\n",
       "      <td id=\"T_fb9e7_row3_col1\" class=\"data row3 col1\" >0.379192</td>\n",
       "      <td id=\"T_fb9e7_row3_col2\" class=\"data row3 col2\" >0.000000</td>\n",
       "      <td id=\"T_fb9e7_row3_col3\" class=\"data row3 col3\" >0.572892</td>\n",
       "      <td id=\"T_fb9e7_row3_col4\" class=\"data row3 col4\" >0.000000</td>\n",
       "      <td id=\"T_fb9e7_row3_col5\" class=\"data row3 col5\" >0.000000</td>\n",
       "      <td id=\"T_fb9e7_row3_col6\" class=\"data row3 col6\" >0.000000</td>\n",
       "      <td id=\"T_fb9e7_row3_col7\" class=\"data row3 col7\" >0.000000</td>\n",
       "      <td id=\"T_fb9e7_row3_col8\" class=\"data row3 col8\" >0.726641</td>\n",
       "    </tr>\n",
       "  </tbody>\n",
       "</table>\n"
      ],
      "text/plain": [
       "<pandas.io.formats.style.Styler at 0x1296c3580>"
      ]
     },
     "metadata": {},
     "output_type": "display_data"
    }
   ],
   "source": [
    "# display_transform_dtm 으로 변환 결과를 확인한다.\n",
    "vocab = tfidfvect.get_feature_names_out()\n",
    "df_dtm = pd.DataFrame(dtm.toarray(), columns=vocab)\n",
    "print(\"단어 수 : \", len(vocab))\n",
    "print(vocab)\n",
    "display(df_dtm.style.background_gradient())"
   ]
  },
  {
   "cell_type": "markdown",
   "metadata": {
    "id": "i2j5WlNa_der"
   },
   "source": [
    "# **추가 정보**"
   ]
  },
  {
   "cell_type": "markdown",
   "metadata": {
    "id": "XNrqEJNYS1GX"
   },
   "source": [
    "### IDF\n",
    "\n",
    "**IDF**\n",
    "\n",
    "- IDF 값은 문서군의 성격에 따라 결정된다. 예를 들어 '원자'라는 낱말은 일반적인 문서들 사이에서는 잘 나오지 않기 때문에 IDF 값이 높아지고 문서의 핵심어가 될 수 있지만, 원자에 대한 문서를 모아놓은 문서군의 경우 이 낱말은 상투어가 되어 각 문서들을 세분화하여 구분할 수 있는 다른 낱말들이 높은 가중치를 얻게 된다."
   ]
  },
  {
   "cell_type": "code",
   "execution_count": 25,
   "metadata": {
    "colab": {
     "base_uri": "https://localhost:8080/"
    },
    "executionInfo": {
     "elapsed": 23,
     "status": "ok",
     "timestamp": 1672302328687,
     "user": {
      "displayName": "송영숙",
      "userId": "01138230862948206591"
     },
     "user_tz": -540
    },
    "id": "OkaUmQ_rTCMj",
    "outputId": "69f44727-7d98-49dd-db4c-1c551f717de5"
   },
   "outputs": [
    {
     "data": {
      "text/plain": [
       "array([1.91629073, 1.        , 1.91629073, 1.51082562, 1.91629073,\n",
       "       1.91629073, 1.51082562, 1.91629073, 1.91629073])"
      ]
     },
     "execution_count": 25,
     "metadata": {},
     "output_type": "execute_result"
    }
   ],
   "source": [
    "# 하나의 문서에만 나타나는 토큰은 idf 가중치가 높다.\n",
    "# 적게 나타난 토큰이라도 모든 문서에도 있는 토큰은 idf가 낮다.\n",
    "idf = tfidfvect.idf_\n",
    "idf"
   ]
  },
  {
   "cell_type": "code",
   "execution_count": 26,
   "metadata": {
    "colab": {
     "base_uri": "https://localhost:8080/"
    },
    "executionInfo": {
     "elapsed": 21,
     "status": "ok",
     "timestamp": 1672302328687,
     "user": {
      "displayName": "송영숙",
      "userId": "01138230862948206591"
     },
     "user_tz": -540
    },
    "id": "ikcpPibOUiSz",
    "outputId": "a3f4b818-092e-4ba1-ca64-c51cc18e993a"
   },
   "outputs": [
    {
     "data": {
      "text/plain": [
       "{'거리두기와': 1.916290731874155,\n",
       " '문의입니다': 1.0,\n",
       " '상생지원금': 1.916290731874155,\n",
       " '승강장': 1.5108256237659907,\n",
       " '요금': 1.916290731874155,\n",
       " '운행시간과': 1.916290731874155,\n",
       " '지하철': 1.5108256237659907,\n",
       " '코로나': 1.916290731874155,\n",
       " '택시': 1.916290731874155}"
      ]
     },
     "execution_count": 26,
     "metadata": {},
     "output_type": "execute_result"
    }
   ],
   "source": [
    "# 사전만들기\n",
    "# dict, zip 을 사용하여 피처명과 idf 값을 딕셔너리 형태로 만든다.\n",
    "# idf_dict\n",
    "vocab = tfidfvect.get_feature_names_out()\n",
    "idf_dict = dict(zip(vocab, idf))\n",
    "idf_dict"
   ]
  },
  {
   "cell_type": "code",
   "execution_count": 27,
   "metadata": {
    "colab": {
     "base_uri": "https://localhost:8080/",
     "height": 283
    },
    "executionInfo": {
     "elapsed": 430,
     "status": "ok",
     "timestamp": 1672302329097,
     "user": {
      "displayName": "송영숙",
      "userId": "01138230862948206591"
     },
     "user_tz": -540
    },
    "id": "0bGwhiCMLiZx",
    "outputId": "8d97b99f-0e48-42c6-f66c-e1779698bb5c"
   },
   "outputs": [
    {
     "data": {
      "text/plain": [
       "<AxesSubplot: >"
      ]
     },
     "execution_count": 27,
     "metadata": {},
     "output_type": "execute_result"
    },
    {
     "data": {
      "image/png": "[encoded data removed]",
      "text/plain": [
       "<Figure size 640x480 with 1 Axes>"
      ]
     },
     "metadata": {
      "image/png": {
       "height": 412,
       "width": 602
      }
     },
     "output_type": "display_data"
    }
   ],
   "source": [
    "# idf_dict 값 시각화\n",
    "pd.Series(idf_dict).plot.barh()"
   ]
  },
  {
   "cell_type": "markdown",
   "metadata": {
    "id": "hgy7OqhRLiZx"
   },
   "source": [
    "### TfidfVectorizer 의 다양한 기능 사용하기\n",
    "* analyzer\n",
    "* n-gram\n",
    "* min_df, max_df\n",
    "* max_features\n",
    "* stop_words"
   ]
  },
  {
   "cell_type": "code",
   "execution_count": 28,
   "metadata": {
    "colab": {
     "base_uri": "https://localhost:8080/",
     "height": 266
    },
    "executionInfo": {
     "elapsed": 10,
     "status": "ok",
     "timestamp": 1672302329098,
     "user": {
      "displayName": "송영숙",
      "userId": "01138230862948206591"
     },
     "user_tz": -540
    },
    "id": "ZxrR99jEk714",
    "outputId": "863e84fa-cd8f-4852-94f6-4adb30532400"
   },
   "outputs": [
    {
     "name": "stdout",
     "output_type": "stream",
     "text": [
      "단어 수 :  20\n",
      "['거리두기와' '거리두기와 코로나' '문의입니다' '상생지원금' '상생지원금 문의입니다' '승강장' '승강장 문의입니다' '요금'\n",
      " '요금 문의입니다' '운행시간과' '운행시간과 지하철' '지하철' '지하철 승강장' '지하철 요금' '지하철 운행시간과' '코로나'\n",
      " '코로나 거리두기와' '코로나 상생지원금' '택시' '택시 승강장']\n"
     ]
    },
    {
     "data": {
      "text/html": [
       "<style type=\"text/css\">\n",
       "#T_116ef_row0_col0, #T_116ef_row0_col1, #T_116ef_row0_col3, #T_116ef_row0_col4, #T_116ef_row0_col15, #T_116ef_row0_col16, #T_116ef_row0_col17, #T_116ef_row1_col7, #T_116ef_row1_col8, #T_116ef_row1_col9, #T_116ef_row1_col10, #T_116ef_row1_col11, #T_116ef_row1_col13, #T_116ef_row1_col14, #T_116ef_row2_col2, #T_116ef_row2_col5, #T_116ef_row2_col6, #T_116ef_row2_col12, #T_116ef_row3_col18, #T_116ef_row3_col19 {\n",
       "  background-color: #023858;\n",
       "  color: #f1f1f1;\n",
       "}\n",
       "#T_116ef_row0_col2, #T_116ef_row0_col5, #T_116ef_row0_col6, #T_116ef_row0_col7, #T_116ef_row0_col8, #T_116ef_row0_col9, #T_116ef_row0_col10, #T_116ef_row0_col11, #T_116ef_row0_col12, #T_116ef_row0_col13, #T_116ef_row0_col14, #T_116ef_row0_col18, #T_116ef_row0_col19, #T_116ef_row1_col0, #T_116ef_row1_col1, #T_116ef_row1_col3, #T_116ef_row1_col4, #T_116ef_row1_col5, #T_116ef_row1_col6, #T_116ef_row1_col12, #T_116ef_row1_col15, #T_116ef_row1_col16, #T_116ef_row1_col17, #T_116ef_row1_col18, #T_116ef_row1_col19, #T_116ef_row2_col0, #T_116ef_row2_col1, #T_116ef_row2_col3, #T_116ef_row2_col4, #T_116ef_row2_col7, #T_116ef_row2_col8, #T_116ef_row2_col9, #T_116ef_row2_col10, #T_116ef_row2_col13, #T_116ef_row2_col14, #T_116ef_row2_col15, #T_116ef_row2_col16, #T_116ef_row2_col17, #T_116ef_row2_col18, #T_116ef_row2_col19, #T_116ef_row3_col0, #T_116ef_row3_col1, #T_116ef_row3_col3, #T_116ef_row3_col4, #T_116ef_row3_col7, #T_116ef_row3_col8, #T_116ef_row3_col9, #T_116ef_row3_col10, #T_116ef_row3_col11, #T_116ef_row3_col12, #T_116ef_row3_col13, #T_116ef_row3_col14, #T_116ef_row3_col15, #T_116ef_row3_col16, #T_116ef_row3_col17 {\n",
       "  background-color: #fff7fb;\n",
       "  color: #000000;\n",
       "}\n",
       "#T_116ef_row1_col2 {\n",
       "  background-color: #f0eaf4;\n",
       "  color: #000000;\n",
       "}\n",
       "#T_116ef_row2_col11 {\n",
       "  background-color: #046198;\n",
       "  color: #f1f1f1;\n",
       "}\n",
       "#T_116ef_row3_col2 {\n",
       "  background-color: #04598c;\n",
       "  color: #f1f1f1;\n",
       "}\n",
       "#T_116ef_row3_col5, #T_116ef_row3_col6 {\n",
       "  background-color: #03476f;\n",
       "  color: #f1f1f1;\n",
       "}\n",
       "</style>\n",
       "<table id=\"T_116ef\">\n",
       "  <thead>\n",
       "    <tr>\n",
       "      <th class=\"blank level0\" >&nbsp;</th>\n",
       "      <th id=\"T_116ef_level0_col0\" class=\"col_heading level0 col0\" >거리두기와</th>\n",
       "      <th id=\"T_116ef_level0_col1\" class=\"col_heading level0 col1\" >거리두기와 코로나</th>\n",
       "      <th id=\"T_116ef_level0_col2\" class=\"col_heading level0 col2\" >문의입니다</th>\n",
       "      <th id=\"T_116ef_level0_col3\" class=\"col_heading level0 col3\" >상생지원금</th>\n",
       "      <th id=\"T_116ef_level0_col4\" class=\"col_heading level0 col4\" >상생지원금 문의입니다</th>\n",
       "      <th id=\"T_116ef_level0_col5\" class=\"col_heading level0 col5\" >승강장</th>\n",
       "      <th id=\"T_116ef_level0_col6\" class=\"col_heading level0 col6\" >승강장 문의입니다</th>\n",
       "      <th id=\"T_116ef_level0_col7\" class=\"col_heading level0 col7\" >요금</th>\n",
       "      <th id=\"T_116ef_level0_col8\" class=\"col_heading level0 col8\" >요금 문의입니다</th>\n",
       "      <th id=\"T_116ef_level0_col9\" class=\"col_heading level0 col9\" >운행시간과</th>\n",
       "      <th id=\"T_116ef_level0_col10\" class=\"col_heading level0 col10\" >운행시간과 지하철</th>\n",
       "      <th id=\"T_116ef_level0_col11\" class=\"col_heading level0 col11\" >지하철</th>\n",
       "      <th id=\"T_116ef_level0_col12\" class=\"col_heading level0 col12\" >지하철 승강장</th>\n",
       "      <th id=\"T_116ef_level0_col13\" class=\"col_heading level0 col13\" >지하철 요금</th>\n",
       "      <th id=\"T_116ef_level0_col14\" class=\"col_heading level0 col14\" >지하철 운행시간과</th>\n",
       "      <th id=\"T_116ef_level0_col15\" class=\"col_heading level0 col15\" >코로나</th>\n",
       "      <th id=\"T_116ef_level0_col16\" class=\"col_heading level0 col16\" >코로나 거리두기와</th>\n",
       "      <th id=\"T_116ef_level0_col17\" class=\"col_heading level0 col17\" >코로나 상생지원금</th>\n",
       "      <th id=\"T_116ef_level0_col18\" class=\"col_heading level0 col18\" >택시</th>\n",
       "      <th id=\"T_116ef_level0_col19\" class=\"col_heading level0 col19\" >택시 승강장</th>\n",
       "    </tr>\n",
       "  </thead>\n",
       "  <tbody>\n",
       "    <tr>\n",
       "      <th id=\"T_116ef_level0_row0\" class=\"row_heading level0 row0\" >0</th>\n",
       "      <td id=\"T_116ef_row0_col0\" class=\"data row0 col0\" >0.312008</td>\n",
       "      <td id=\"T_116ef_row0_col1\" class=\"data row0 col1\" >0.312008</td>\n",
       "      <td id=\"T_116ef_row0_col2\" class=\"data row0 col2\" >0.162819</td>\n",
       "      <td id=\"T_116ef_row0_col3\" class=\"data row0 col3\" >0.312008</td>\n",
       "      <td id=\"T_116ef_row0_col4\" class=\"data row0 col4\" >0.312008</td>\n",
       "      <td id=\"T_116ef_row0_col5\" class=\"data row0 col5\" >0.000000</td>\n",
       "      <td id=\"T_116ef_row0_col6\" class=\"data row0 col6\" >0.000000</td>\n",
       "      <td id=\"T_116ef_row0_col7\" class=\"data row0 col7\" >0.000000</td>\n",
       "      <td id=\"T_116ef_row0_col8\" class=\"data row0 col8\" >0.000000</td>\n",
       "      <td id=\"T_116ef_row0_col9\" class=\"data row0 col9\" >0.000000</td>\n",
       "      <td id=\"T_116ef_row0_col10\" class=\"data row0 col10\" >0.000000</td>\n",
       "      <td id=\"T_116ef_row0_col11\" class=\"data row0 col11\" >0.000000</td>\n",
       "      <td id=\"T_116ef_row0_col12\" class=\"data row0 col12\" >0.000000</td>\n",
       "      <td id=\"T_116ef_row0_col13\" class=\"data row0 col13\" >0.000000</td>\n",
       "      <td id=\"T_116ef_row0_col14\" class=\"data row0 col14\" >0.000000</td>\n",
       "      <td id=\"T_116ef_row0_col15\" class=\"data row0 col15\" >0.624016</td>\n",
       "      <td id=\"T_116ef_row0_col16\" class=\"data row0 col16\" >0.312008</td>\n",
       "      <td id=\"T_116ef_row0_col17\" class=\"data row0 col17\" >0.312008</td>\n",
       "      <td id=\"T_116ef_row0_col18\" class=\"data row0 col18\" >0.000000</td>\n",
       "      <td id=\"T_116ef_row0_col19\" class=\"data row0 col19\" >0.000000</td>\n",
       "    </tr>\n",
       "    <tr>\n",
       "      <th id=\"T_116ef_level0_row1\" class=\"row_heading level0 row1\" >1</th>\n",
       "      <td id=\"T_116ef_row1_col0\" class=\"data row1 col0\" >0.000000</td>\n",
       "      <td id=\"T_116ef_row1_col1\" class=\"data row1 col1\" >0.000000</td>\n",
       "      <td id=\"T_116ef_row1_col2\" class=\"data row1 col2\" >0.176327</td>\n",
       "      <td id=\"T_116ef_row1_col3\" class=\"data row1 col3\" >0.000000</td>\n",
       "      <td id=\"T_116ef_row1_col4\" class=\"data row1 col4\" >0.000000</td>\n",
       "      <td id=\"T_116ef_row1_col5\" class=\"data row1 col5\" >0.000000</td>\n",
       "      <td id=\"T_116ef_row1_col6\" class=\"data row1 col6\" >0.000000</td>\n",
       "      <td id=\"T_116ef_row1_col7\" class=\"data row1 col7\" >0.337894</td>\n",
       "      <td id=\"T_116ef_row1_col8\" class=\"data row1 col8\" >0.337894</td>\n",
       "      <td id=\"T_116ef_row1_col9\" class=\"data row1 col9\" >0.337894</td>\n",
       "      <td id=\"T_116ef_row1_col10\" class=\"data row1 col10\" >0.337894</td>\n",
       "      <td id=\"T_116ef_row1_col11\" class=\"data row1 col11\" >0.532799</td>\n",
       "      <td id=\"T_116ef_row1_col12\" class=\"data row1 col12\" >0.000000</td>\n",
       "      <td id=\"T_116ef_row1_col13\" class=\"data row1 col13\" >0.337894</td>\n",
       "      <td id=\"T_116ef_row1_col14\" class=\"data row1 col14\" >0.337894</td>\n",
       "      <td id=\"T_116ef_row1_col15\" class=\"data row1 col15\" >0.000000</td>\n",
       "      <td id=\"T_116ef_row1_col16\" class=\"data row1 col16\" >0.000000</td>\n",
       "      <td id=\"T_116ef_row1_col17\" class=\"data row1 col17\" >0.000000</td>\n",
       "      <td id=\"T_116ef_row1_col18\" class=\"data row1 col18\" >0.000000</td>\n",
       "      <td id=\"T_116ef_row1_col19\" class=\"data row1 col19\" >0.000000</td>\n",
       "    </tr>\n",
       "    <tr>\n",
       "      <th id=\"T_116ef_level0_row2\" class=\"row_heading level0 row2\" >2</th>\n",
       "      <td id=\"T_116ef_row2_col0\" class=\"data row2 col0\" >0.000000</td>\n",
       "      <td id=\"T_116ef_row2_col1\" class=\"data row2 col1\" >0.000000</td>\n",
       "      <td id=\"T_116ef_row2_col2\" class=\"data row2 col2\" >0.294628</td>\n",
       "      <td id=\"T_116ef_row2_col3\" class=\"data row2 col3\" >0.000000</td>\n",
       "      <td id=\"T_116ef_row2_col4\" class=\"data row2 col4\" >0.000000</td>\n",
       "      <td id=\"T_116ef_row2_col5\" class=\"data row2 col5\" >0.445132</td>\n",
       "      <td id=\"T_116ef_row2_col6\" class=\"data row2 col6\" >0.445132</td>\n",
       "      <td id=\"T_116ef_row2_col7\" class=\"data row2 col7\" >0.000000</td>\n",
       "      <td id=\"T_116ef_row2_col8\" class=\"data row2 col8\" >0.000000</td>\n",
       "      <td id=\"T_116ef_row2_col9\" class=\"data row2 col9\" >0.000000</td>\n",
       "      <td id=\"T_116ef_row2_col10\" class=\"data row2 col10\" >0.000000</td>\n",
       "      <td id=\"T_116ef_row2_col11\" class=\"data row2 col11\" >0.445132</td>\n",
       "      <td id=\"T_116ef_row2_col12\" class=\"data row2 col12\" >0.564594</td>\n",
       "      <td id=\"T_116ef_row2_col13\" class=\"data row2 col13\" >0.000000</td>\n",
       "      <td id=\"T_116ef_row2_col14\" class=\"data row2 col14\" >0.000000</td>\n",
       "      <td id=\"T_116ef_row2_col15\" class=\"data row2 col15\" >0.000000</td>\n",
       "      <td id=\"T_116ef_row2_col16\" class=\"data row2 col16\" >0.000000</td>\n",
       "      <td id=\"T_116ef_row2_col17\" class=\"data row2 col17\" >0.000000</td>\n",
       "      <td id=\"T_116ef_row2_col18\" class=\"data row2 col18\" >0.000000</td>\n",
       "      <td id=\"T_116ef_row2_col19\" class=\"data row2 col19\" >0.000000</td>\n",
       "    </tr>\n",
       "    <tr>\n",
       "      <th id=\"T_116ef_level0_row3\" class=\"row_heading level0 row3\" >3</th>\n",
       "      <td id=\"T_116ef_row3_col0\" class=\"data row3 col0\" >0.000000</td>\n",
       "      <td id=\"T_116ef_row3_col1\" class=\"data row3 col1\" >0.000000</td>\n",
       "      <td id=\"T_116ef_row3_col2\" class=\"data row3 col2\" >0.278320</td>\n",
       "      <td id=\"T_116ef_row3_col3\" class=\"data row3 col3\" >0.000000</td>\n",
       "      <td id=\"T_116ef_row3_col4\" class=\"data row3 col4\" >0.000000</td>\n",
       "      <td id=\"T_116ef_row3_col5\" class=\"data row3 col5\" >0.420493</td>\n",
       "      <td id=\"T_116ef_row3_col6\" class=\"data row3 col6\" >0.420493</td>\n",
       "      <td id=\"T_116ef_row3_col7\" class=\"data row3 col7\" >0.000000</td>\n",
       "      <td id=\"T_116ef_row3_col8\" class=\"data row3 col8\" >0.000000</td>\n",
       "      <td id=\"T_116ef_row3_col9\" class=\"data row3 col9\" >0.000000</td>\n",
       "      <td id=\"T_116ef_row3_col10\" class=\"data row3 col10\" >0.000000</td>\n",
       "      <td id=\"T_116ef_row3_col11\" class=\"data row3 col11\" >0.000000</td>\n",
       "      <td id=\"T_116ef_row3_col12\" class=\"data row3 col12\" >0.000000</td>\n",
       "      <td id=\"T_116ef_row3_col13\" class=\"data row3 col13\" >0.000000</td>\n",
       "      <td id=\"T_116ef_row3_col14\" class=\"data row3 col14\" >0.000000</td>\n",
       "      <td id=\"T_116ef_row3_col15\" class=\"data row3 col15\" >0.000000</td>\n",
       "      <td id=\"T_116ef_row3_col16\" class=\"data row3 col16\" >0.000000</td>\n",
       "      <td id=\"T_116ef_row3_col17\" class=\"data row3 col17\" >0.000000</td>\n",
       "      <td id=\"T_116ef_row3_col18\" class=\"data row3 col18\" >0.533343</td>\n",
       "      <td id=\"T_116ef_row3_col19\" class=\"data row3 col19\" >0.533343</td>\n",
       "    </tr>\n",
       "  </tbody>\n",
       "</table>\n"
      ],
      "text/plain": [
       "<pandas.io.formats.style.Styler at 0x129728fa0>"
      ]
     },
     "metadata": {},
     "output_type": "display_data"
    }
   ],
   "source": [
    "# analyzer='char_wb', ngram_range=(2, 3), max_df=1.0, min_df=1\n",
    "tfidfvect = TfidfVectorizer(analyzer=\"word\", ngram_range=(1, 2), max_df=1.0, min_df=1)\n",
    "dtm = tfidfvect.fit_transform(corpus)\n",
    "vocab = tfidfvect.get_feature_names_out()\n",
    "df_dtm = pd.DataFrame(dtm.toarray(), columns=vocab)\n",
    "print(\"단어 수 : \", len(vocab))\n",
    "print(vocab)\n",
    "display(df_dtm.style.background_gradient())"
   ]
  },
  {
   "cell_type": "code",
   "execution_count": null,
   "metadata": {},
   "outputs": [],
   "source": []
  }
 ],
 "metadata": {
  "colab": {
   "provenance": []
  },
  "kernelspec": {
   "display_name": "Python 3 (ipykernel)",
   "language": "python",
   "name": "python3"
  },
  "language_info": {
   "codemirror_mode": {
    "name": "ipython",
    "version": 3
   },
   "file_extension": ".py",
   "mimetype": "text/x-python",
   "name": "python",
   "nbconvert_exporter": "python",
   "pygments_lexer": "ipython3",
   "version": "3.10.7"
  },
  "toc": {
   "base_numbering": 1,
   "nav_menu": {},
   "number_sections": true,
   "sideBar": true,
   "skip_h1_title": false,
   "title_cell": "Table of Contents",
   "title_sidebar": "Contents",
   "toc_cell": false,
   "toc_position": {},
   "toc_section_display": true,
   "toc_window_display": true
  },
  "varInspector": {
   "cols": {
    "lenName": 16,
    "lenType": 16,
    "lenVar": 40
   },
   "kernels_config": {
    "python": {
     "delete_cmd_postfix": "",
     "delete_cmd_prefix": "del ",
     "library": "var_list.py",
     "varRefreshCmd": "print(var_dic_list())"
    },
    "r": {
     "delete_cmd_postfix": ") ",
     "delete_cmd_prefix": "rm(",
     "library": "var_list.r",
     "varRefreshCmd": "cat(var_dic_list()) "
    }
   },
   "types_to_exclude": [
    "module",
    "function",
    "builtin_function_or_method",
    "instance",
    "_Feature"
   ],
   "window_display": false
  }
 },
 "nbformat": 4,
 "nbformat_minor": 1
}
